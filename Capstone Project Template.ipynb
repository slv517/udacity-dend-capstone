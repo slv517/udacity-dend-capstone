{
 "cells": [
  {
   "cell_type": "markdown",
   "metadata": {
    "editable": true
   },
   "source": [
    "# Project Title\n",
    "### Data Engineering Capstone Project\n",
    "\n",
    "#### Project Summary\n",
    "--describe your project at a high level--\n",
    "\n",
    "The project follows the follow steps:\n",
    "* Step 1: Scope the Project and Gather Data\n",
    "* Step 2: Explore and Assess the Data\n",
    "* Step 3: Define the Data Model\n",
    "* Step 4: Run ETL to Model the Data\n",
    "* Step 5: Complete Project Write Up"
   ]
  },
  {
   "cell_type": "code",
   "execution_count": 28,
   "metadata": {
    "editable": true
   },
   "outputs": [],
   "source": [
    "# Do all imports and installs here\n",
    "import pandas as pd\n",
    "\n",
    "import datetime as dt"
   ]
  },
  {
   "cell_type": "markdown",
   "metadata": {
    "editable": true
   },
   "source": [
    "### Step 1: Scope the Project and Gather Data\n",
    "\n",
    "#### Scope \n",
    "Explain what you plan to do in the project in more detail. What data do you use? What is your end solution look like? What tools did you use? etc>\n",
    "\n",
    "#### Describe and Gather Data \n",
    "Describe the data sets you're using. Where did it come from? What type of information is included? "
   ]
  },
  {
   "cell_type": "code",
   "execution_count": null,
   "metadata": {
    "editable": true
   },
   "outputs": [],
   "source": []
  },
  {
   "cell_type": "code",
   "execution_count": null,
   "metadata": {
    "editable": true
   },
   "outputs": [],
   "source": []
  },
  {
   "cell_type": "code",
   "execution_count": null,
   "metadata": {
    "editable": true
   },
   "outputs": [],
   "source": []
  },
  {
   "cell_type": "code",
   "execution_count": null,
   "metadata": {
    "editable": true
   },
   "outputs": [],
   "source": []
  },
  {
   "cell_type": "markdown",
   "metadata": {
    "editable": true
   },
   "source": [
    "### Step 2: Explore and Assess the Data\n",
    "\n",
    "#### Explore the Data\n",
    "Identify data quality issues, like missing values, duplicate data, etc.\n",
    "\n",
    "#### Cleaning Steps\n",
    "Document steps necessary to clean the data"
   ]
  },
  {
   "cell_type": "markdown",
   "metadata": {
    "editable": true
   },
   "source": [
    "### U.S. Demographics Data\n",
    "-------"
   ]
  },
  {
   "cell_type": "markdown",
   "metadata": {
    "editable": true
   },
   "source": [
    "1. Loading the dataset into a Pandas df\n",
    "2. Initial checks"
   ]
  },
  {
   "cell_type": "code",
   "execution_count": 116,
   "metadata": {
    "editable": true
   },
   "outputs": [],
   "source": [
    "demographics_df = pd.read_csv('us-cities-demographics.csv', sep=';')"
   ]
  },
  {
   "cell_type": "code",
   "execution_count": 117,
   "metadata": {
    "editable": true
   },
   "outputs": [
    {
     "data": {
      "text/plain": [
       "City                       object\n",
       "State                      object\n",
       "Median Age                float64\n",
       "Male Population           float64\n",
       "Female Population         float64\n",
       "Total Population            int64\n",
       "Number of Veterans        float64\n",
       "Foreign-born              float64\n",
       "Average Household Size    float64\n",
       "State Code                 object\n",
       "Race                       object\n",
       "Count                       int64\n",
       "dtype: object"
      ]
     },
     "execution_count": 117,
     "metadata": {},
     "output_type": "execute_result"
    }
   ],
   "source": [
    "demographics_df.dtypes"
   ]
  },
  {
   "cell_type": "code",
   "execution_count": 118,
   "metadata": {
    "editable": true
   },
   "outputs": [
    {
     "data": {
      "text/plain": [
       "(2891, 12)"
      ]
     },
     "execution_count": 118,
     "metadata": {},
     "output_type": "execute_result"
    }
   ],
   "source": [
    "demographics_df.shape"
   ]
  },
  {
   "cell_type": "code",
   "execution_count": 119,
   "metadata": {
    "editable": true
   },
   "outputs": [
    {
     "data": {
      "text/plain": [
       "Index(['City', 'State', 'Median Age', 'Male Population', 'Female Population',\n",
       "       'Total Population', 'Number of Veterans', 'Foreign-born',\n",
       "       'Average Household Size', 'State Code', 'Race', 'Count'],\n",
       "      dtype='object')"
      ]
     },
     "execution_count": 119,
     "metadata": {},
     "output_type": "execute_result"
    }
   ],
   "source": [
    "demographics_df.columns"
   ]
  },
  {
   "cell_type": "code",
   "execution_count": 120,
   "metadata": {
    "editable": true
   },
   "outputs": [
    {
     "data": {
      "text/html": [
       "<div>\n",
       "<style scoped>\n",
       "    .dataframe tbody tr th:only-of-type {\n",
       "        vertical-align: middle;\n",
       "    }\n",
       "\n",
       "    .dataframe tbody tr th {\n",
       "        vertical-align: top;\n",
       "    }\n",
       "\n",
       "    .dataframe thead th {\n",
       "        text-align: right;\n",
       "    }\n",
       "</style>\n",
       "<table border=\"1\" class=\"dataframe\">\n",
       "  <thead>\n",
       "    <tr style=\"text-align: right;\">\n",
       "      <th></th>\n",
       "      <th>Median Age</th>\n",
       "      <th>Male Population</th>\n",
       "      <th>Female Population</th>\n",
       "      <th>Total Population</th>\n",
       "      <th>Number of Veterans</th>\n",
       "      <th>Foreign-born</th>\n",
       "      <th>Average Household Size</th>\n",
       "      <th>Count</th>\n",
       "    </tr>\n",
       "  </thead>\n",
       "  <tbody>\n",
       "    <tr>\n",
       "      <th>count</th>\n",
       "      <td>2891.000000</td>\n",
       "      <td>2.888000e+03</td>\n",
       "      <td>2.888000e+03</td>\n",
       "      <td>2.891000e+03</td>\n",
       "      <td>2878.000000</td>\n",
       "      <td>2.878000e+03</td>\n",
       "      <td>2875.000000</td>\n",
       "      <td>2.891000e+03</td>\n",
       "    </tr>\n",
       "    <tr>\n",
       "      <th>mean</th>\n",
       "      <td>35.494881</td>\n",
       "      <td>9.732843e+04</td>\n",
       "      <td>1.017696e+05</td>\n",
       "      <td>1.989668e+05</td>\n",
       "      <td>9367.832523</td>\n",
       "      <td>4.065360e+04</td>\n",
       "      <td>2.742543</td>\n",
       "      <td>4.896377e+04</td>\n",
       "    </tr>\n",
       "    <tr>\n",
       "      <th>std</th>\n",
       "      <td>4.401617</td>\n",
       "      <td>2.162999e+05</td>\n",
       "      <td>2.315646e+05</td>\n",
       "      <td>4.475559e+05</td>\n",
       "      <td>13211.219924</td>\n",
       "      <td>1.557491e+05</td>\n",
       "      <td>0.433291</td>\n",
       "      <td>1.443856e+05</td>\n",
       "    </tr>\n",
       "    <tr>\n",
       "      <th>min</th>\n",
       "      <td>22.900000</td>\n",
       "      <td>2.928100e+04</td>\n",
       "      <td>2.734800e+04</td>\n",
       "      <td>6.321500e+04</td>\n",
       "      <td>416.000000</td>\n",
       "      <td>8.610000e+02</td>\n",
       "      <td>2.000000</td>\n",
       "      <td>9.800000e+01</td>\n",
       "    </tr>\n",
       "    <tr>\n",
       "      <th>25%</th>\n",
       "      <td>32.800000</td>\n",
       "      <td>3.928900e+04</td>\n",
       "      <td>4.122700e+04</td>\n",
       "      <td>8.042900e+04</td>\n",
       "      <td>3739.000000</td>\n",
       "      <td>9.224000e+03</td>\n",
       "      <td>2.430000</td>\n",
       "      <td>3.435000e+03</td>\n",
       "    </tr>\n",
       "    <tr>\n",
       "      <th>50%</th>\n",
       "      <td>35.300000</td>\n",
       "      <td>5.234100e+04</td>\n",
       "      <td>5.380900e+04</td>\n",
       "      <td>1.067820e+05</td>\n",
       "      <td>5397.000000</td>\n",
       "      <td>1.882200e+04</td>\n",
       "      <td>2.650000</td>\n",
       "      <td>1.378000e+04</td>\n",
       "    </tr>\n",
       "    <tr>\n",
       "      <th>75%</th>\n",
       "      <td>38.000000</td>\n",
       "      <td>8.664175e+04</td>\n",
       "      <td>8.960400e+04</td>\n",
       "      <td>1.752320e+05</td>\n",
       "      <td>9368.000000</td>\n",
       "      <td>3.397175e+04</td>\n",
       "      <td>2.950000</td>\n",
       "      <td>5.444700e+04</td>\n",
       "    </tr>\n",
       "    <tr>\n",
       "      <th>max</th>\n",
       "      <td>70.500000</td>\n",
       "      <td>4.081698e+06</td>\n",
       "      <td>4.468707e+06</td>\n",
       "      <td>8.550405e+06</td>\n",
       "      <td>156961.000000</td>\n",
       "      <td>3.212500e+06</td>\n",
       "      <td>4.980000</td>\n",
       "      <td>3.835726e+06</td>\n",
       "    </tr>\n",
       "  </tbody>\n",
       "</table>\n",
       "</div>"
      ],
      "text/plain": [
       "        Median Age  Male Population  Female Population  Total Population  \\\n",
       "count  2891.000000     2.888000e+03       2.888000e+03      2.891000e+03   \n",
       "mean     35.494881     9.732843e+04       1.017696e+05      1.989668e+05   \n",
       "std       4.401617     2.162999e+05       2.315646e+05      4.475559e+05   \n",
       "min      22.900000     2.928100e+04       2.734800e+04      6.321500e+04   \n",
       "25%      32.800000     3.928900e+04       4.122700e+04      8.042900e+04   \n",
       "50%      35.300000     5.234100e+04       5.380900e+04      1.067820e+05   \n",
       "75%      38.000000     8.664175e+04       8.960400e+04      1.752320e+05   \n",
       "max      70.500000     4.081698e+06       4.468707e+06      8.550405e+06   \n",
       "\n",
       "       Number of Veterans  Foreign-born  Average Household Size         Count  \n",
       "count         2878.000000  2.878000e+03             2875.000000  2.891000e+03  \n",
       "mean          9367.832523  4.065360e+04                2.742543  4.896377e+04  \n",
       "std          13211.219924  1.557491e+05                0.433291  1.443856e+05  \n",
       "min            416.000000  8.610000e+02                2.000000  9.800000e+01  \n",
       "25%           3739.000000  9.224000e+03                2.430000  3.435000e+03  \n",
       "50%           5397.000000  1.882200e+04                2.650000  1.378000e+04  \n",
       "75%           9368.000000  3.397175e+04                2.950000  5.444700e+04  \n",
       "max         156961.000000  3.212500e+06                4.980000  3.835726e+06  "
      ]
     },
     "execution_count": 120,
     "metadata": {},
     "output_type": "execute_result"
    }
   ],
   "source": [
    "demographics_df.describe()"
   ]
  },
  {
   "cell_type": "code",
   "execution_count": 121,
   "metadata": {
    "editable": true
   },
   "outputs": [
    {
     "data": {
      "text/html": [
       "<div>\n",
       "<style scoped>\n",
       "    .dataframe tbody tr th:only-of-type {\n",
       "        vertical-align: middle;\n",
       "    }\n",
       "\n",
       "    .dataframe tbody tr th {\n",
       "        vertical-align: top;\n",
       "    }\n",
       "\n",
       "    .dataframe thead th {\n",
       "        text-align: right;\n",
       "    }\n",
       "</style>\n",
       "<table border=\"1\" class=\"dataframe\">\n",
       "  <thead>\n",
       "    <tr style=\"text-align: right;\">\n",
       "      <th></th>\n",
       "      <th>City</th>\n",
       "      <th>State</th>\n",
       "      <th>Median Age</th>\n",
       "      <th>Male Population</th>\n",
       "      <th>Female Population</th>\n",
       "      <th>Total Population</th>\n",
       "      <th>Number of Veterans</th>\n",
       "      <th>Foreign-born</th>\n",
       "      <th>Average Household Size</th>\n",
       "      <th>State Code</th>\n",
       "      <th>Race</th>\n",
       "      <th>Count</th>\n",
       "    </tr>\n",
       "  </thead>\n",
       "  <tbody>\n",
       "    <tr>\n",
       "      <th>0</th>\n",
       "      <td>Silver Spring</td>\n",
       "      <td>Maryland</td>\n",
       "      <td>33.8</td>\n",
       "      <td>40601.0</td>\n",
       "      <td>41862.0</td>\n",
       "      <td>82463</td>\n",
       "      <td>1562.0</td>\n",
       "      <td>30908.0</td>\n",
       "      <td>2.60</td>\n",
       "      <td>MD</td>\n",
       "      <td>Hispanic or Latino</td>\n",
       "      <td>25924</td>\n",
       "    </tr>\n",
       "    <tr>\n",
       "      <th>1</th>\n",
       "      <td>Quincy</td>\n",
       "      <td>Massachusetts</td>\n",
       "      <td>41.0</td>\n",
       "      <td>44129.0</td>\n",
       "      <td>49500.0</td>\n",
       "      <td>93629</td>\n",
       "      <td>4147.0</td>\n",
       "      <td>32935.0</td>\n",
       "      <td>2.39</td>\n",
       "      <td>MA</td>\n",
       "      <td>White</td>\n",
       "      <td>58723</td>\n",
       "    </tr>\n",
       "    <tr>\n",
       "      <th>2</th>\n",
       "      <td>Hoover</td>\n",
       "      <td>Alabama</td>\n",
       "      <td>38.5</td>\n",
       "      <td>38040.0</td>\n",
       "      <td>46799.0</td>\n",
       "      <td>84839</td>\n",
       "      <td>4819.0</td>\n",
       "      <td>8229.0</td>\n",
       "      <td>2.58</td>\n",
       "      <td>AL</td>\n",
       "      <td>Asian</td>\n",
       "      <td>4759</td>\n",
       "    </tr>\n",
       "    <tr>\n",
       "      <th>3</th>\n",
       "      <td>Rancho Cucamonga</td>\n",
       "      <td>California</td>\n",
       "      <td>34.5</td>\n",
       "      <td>88127.0</td>\n",
       "      <td>87105.0</td>\n",
       "      <td>175232</td>\n",
       "      <td>5821.0</td>\n",
       "      <td>33878.0</td>\n",
       "      <td>3.18</td>\n",
       "      <td>CA</td>\n",
       "      <td>Black or African-American</td>\n",
       "      <td>24437</td>\n",
       "    </tr>\n",
       "    <tr>\n",
       "      <th>4</th>\n",
       "      <td>Newark</td>\n",
       "      <td>New Jersey</td>\n",
       "      <td>34.6</td>\n",
       "      <td>138040.0</td>\n",
       "      <td>143873.0</td>\n",
       "      <td>281913</td>\n",
       "      <td>5829.0</td>\n",
       "      <td>86253.0</td>\n",
       "      <td>2.73</td>\n",
       "      <td>NJ</td>\n",
       "      <td>White</td>\n",
       "      <td>76402</td>\n",
       "    </tr>\n",
       "  </tbody>\n",
       "</table>\n",
       "</div>"
      ],
      "text/plain": [
       "               City          State  Median Age  Male Population  \\\n",
       "0     Silver Spring       Maryland        33.8          40601.0   \n",
       "1            Quincy  Massachusetts        41.0          44129.0   \n",
       "2            Hoover        Alabama        38.5          38040.0   \n",
       "3  Rancho Cucamonga     California        34.5          88127.0   \n",
       "4            Newark     New Jersey        34.6         138040.0   \n",
       "\n",
       "   Female Population  Total Population  Number of Veterans  Foreign-born  \\\n",
       "0            41862.0             82463              1562.0       30908.0   \n",
       "1            49500.0             93629              4147.0       32935.0   \n",
       "2            46799.0             84839              4819.0        8229.0   \n",
       "3            87105.0            175232              5821.0       33878.0   \n",
       "4           143873.0            281913              5829.0       86253.0   \n",
       "\n",
       "   Average Household Size State Code                       Race  Count  \n",
       "0                    2.60         MD         Hispanic or Latino  25924  \n",
       "1                    2.39         MA                      White  58723  \n",
       "2                    2.58         AL                      Asian   4759  \n",
       "3                    3.18         CA  Black or African-American  24437  \n",
       "4                    2.73         NJ                      White  76402  "
      ]
     },
     "execution_count": 121,
     "metadata": {},
     "output_type": "execute_result"
    }
   ],
   "source": [
    "demographics_df.head()"
   ]
  },
  {
   "cell_type": "code",
   "execution_count": 122,
   "metadata": {
    "editable": true
   },
   "outputs": [
    {
     "data": {
      "text/plain": [
       "567"
      ]
     },
     "execution_count": 122,
     "metadata": {},
     "output_type": "execute_result"
    }
   ],
   "source": [
    "demographics_df['City'].nunique()"
   ]
  },
  {
   "cell_type": "markdown",
   "metadata": {
    "editable": true
   },
   "source": [
    "The demographics dataset contains data for 567 U.S. cities."
   ]
  },
  {
   "cell_type": "code",
   "execution_count": 123,
   "metadata": {
    "editable": true
   },
   "outputs": [
    {
     "data": {
      "text/plain": [
       "49"
      ]
     },
     "execution_count": 123,
     "metadata": {},
     "output_type": "execute_result"
    }
   ],
   "source": [
    "demographics_df['State'].nunique()"
   ]
  },
  {
   "cell_type": "markdown",
   "metadata": {
    "editable": true
   },
   "source": [
    "The demographics dataset contains data for 49 U.S. states."
   ]
  },
  {
   "cell_type": "markdown",
   "metadata": {
    "editable": true
   },
   "source": [
    "**Checking for NaN values**"
   ]
  },
  {
   "cell_type": "code",
   "execution_count": 124,
   "metadata": {
    "editable": true
   },
   "outputs": [
    {
     "data": {
      "text/plain": [
       "True"
      ]
     },
     "execution_count": 124,
     "metadata": {},
     "output_type": "execute_result"
    }
   ],
   "source": [
    "demographics_df.isnull().values.any()"
   ]
  },
  {
   "cell_type": "code",
   "execution_count": 125,
   "metadata": {
    "editable": true
   },
   "outputs": [
    {
     "data": {
      "text/plain": [
       "City                       0\n",
       "State                      0\n",
       "Median Age                 0\n",
       "Male Population            3\n",
       "Female Population          3\n",
       "Total Population           0\n",
       "Number of Veterans        13\n",
       "Foreign-born              13\n",
       "Average Household Size    16\n",
       "State Code                 0\n",
       "Race                       0\n",
       "Count                      0\n",
       "dtype: int64"
      ]
     },
     "execution_count": 125,
     "metadata": {},
     "output_type": "execute_result"
    }
   ],
   "source": [
    "demographics_df.isnull().sum()"
   ]
  },
  {
   "cell_type": "markdown",
   "metadata": {
    "editable": true
   },
   "source": [
    "There are 5 columns in the demographics dataset that have NaN values: Male Population, Female Population, Number of veterans, Foreigh-born, Average Household Size."
   ]
  },
  {
   "cell_type": "code",
   "execution_count": 126,
   "metadata": {
    "editable": true
   },
   "outputs": [
    {
     "data": {
      "text/html": [
       "<div>\n",
       "<style scoped>\n",
       "    .dataframe tbody tr th:only-of-type {\n",
       "        vertical-align: middle;\n",
       "    }\n",
       "\n",
       "    .dataframe tbody tr th {\n",
       "        vertical-align: top;\n",
       "    }\n",
       "\n",
       "    .dataframe thead th {\n",
       "        text-align: right;\n",
       "    }\n",
       "</style>\n",
       "<table border=\"1\" class=\"dataframe\">\n",
       "  <thead>\n",
       "    <tr style=\"text-align: right;\">\n",
       "      <th></th>\n",
       "      <th>NaN</th>\n",
       "      <th>% of NaN</th>\n",
       "    </tr>\n",
       "  </thead>\n",
       "  <tbody>\n",
       "    <tr>\n",
       "      <th>Male Population</th>\n",
       "      <td>3</td>\n",
       "      <td>0.103878</td>\n",
       "    </tr>\n",
       "    <tr>\n",
       "      <th>Female Population</th>\n",
       "      <td>3</td>\n",
       "      <td>0.103878</td>\n",
       "    </tr>\n",
       "    <tr>\n",
       "      <th>Number of Veterans</th>\n",
       "      <td>13</td>\n",
       "      <td>0.451703</td>\n",
       "    </tr>\n",
       "    <tr>\n",
       "      <th>Foreign-born</th>\n",
       "      <td>13</td>\n",
       "      <td>0.451703</td>\n",
       "    </tr>\n",
       "    <tr>\n",
       "      <th>Average Household Size</th>\n",
       "      <td>16</td>\n",
       "      <td>0.556522</td>\n",
       "    </tr>\n",
       "  </tbody>\n",
       "</table>\n",
       "</div>"
      ],
      "text/plain": [
       "                        NaN  % of NaN\n",
       "Male Population           3  0.103878\n",
       "Female Population         3  0.103878\n",
       "Number of Veterans       13  0.451703\n",
       "Foreign-born             13  0.451703\n",
       "Average Household Size   16  0.556522"
      ]
     },
     "execution_count": 126,
     "metadata": {},
     "output_type": "execute_result"
    }
   ],
   "source": [
    "# Calculating the percentage of NaN values for each column\n",
    "\n",
    "nan_demographics_df = pd.DataFrame(data=demographics_df.isnull().sum(), columns=['NaN'])\n",
    "\n",
    "nan_demographics_df.drop(nan_demographics_df[nan_demographics_df['NaN'] == 0].index, inplace = True)\n",
    "\n",
    "nan_demographics_df['% of NaN'] = (nan_demographics_df['NaN']/demographics_df.count())*100\n",
    "nan_demographics_df"
   ]
  },
  {
   "cell_type": "markdown",
   "metadata": {
    "editable": true
   },
   "source": [
    "The % of NaN values in each column is negligible therefore, we will not drop any rows."
   ]
  },
  {
   "cell_type": "markdown",
   "metadata": {
    "editable": true
   },
   "source": [
    "When filtering the dataframe for a specific city, you can see that the data for all columns except 'Race' & 'Count' is duplicated.\n",
    "\n",
    "We will transform the table so that each Race category is it's own column."
   ]
  },
  {
   "cell_type": "code",
   "execution_count": 127,
   "metadata": {
    "editable": true
   },
   "outputs": [
    {
     "data": {
      "text/html": [
       "<div>\n",
       "<style scoped>\n",
       "    .dataframe tbody tr th:only-of-type {\n",
       "        vertical-align: middle;\n",
       "    }\n",
       "\n",
       "    .dataframe tbody tr th {\n",
       "        vertical-align: top;\n",
       "    }\n",
       "\n",
       "    .dataframe thead th {\n",
       "        text-align: right;\n",
       "    }\n",
       "</style>\n",
       "<table border=\"1\" class=\"dataframe\">\n",
       "  <thead>\n",
       "    <tr style=\"text-align: right;\">\n",
       "      <th></th>\n",
       "      <th>City</th>\n",
       "      <th>State</th>\n",
       "      <th>Median Age</th>\n",
       "      <th>Male Population</th>\n",
       "      <th>Female Population</th>\n",
       "      <th>Total Population</th>\n",
       "      <th>Number of Veterans</th>\n",
       "      <th>Foreign-born</th>\n",
       "      <th>Average Household Size</th>\n",
       "      <th>State Code</th>\n",
       "      <th>Race</th>\n",
       "      <th>Count</th>\n",
       "    </tr>\n",
       "  </thead>\n",
       "  <tbody>\n",
       "    <tr>\n",
       "      <th>0</th>\n",
       "      <td>Silver Spring</td>\n",
       "      <td>Maryland</td>\n",
       "      <td>33.8</td>\n",
       "      <td>40601.0</td>\n",
       "      <td>41862.0</td>\n",
       "      <td>82463</td>\n",
       "      <td>1562.0</td>\n",
       "      <td>30908.0</td>\n",
       "      <td>2.6</td>\n",
       "      <td>MD</td>\n",
       "      <td>Hispanic or Latino</td>\n",
       "      <td>25924</td>\n",
       "    </tr>\n",
       "    <tr>\n",
       "      <th>592</th>\n",
       "      <td>Silver Spring</td>\n",
       "      <td>Maryland</td>\n",
       "      <td>33.8</td>\n",
       "      <td>40601.0</td>\n",
       "      <td>41862.0</td>\n",
       "      <td>82463</td>\n",
       "      <td>1562.0</td>\n",
       "      <td>30908.0</td>\n",
       "      <td>2.6</td>\n",
       "      <td>MD</td>\n",
       "      <td>White</td>\n",
       "      <td>37756</td>\n",
       "    </tr>\n",
       "    <tr>\n",
       "      <th>1678</th>\n",
       "      <td>Silver Spring</td>\n",
       "      <td>Maryland</td>\n",
       "      <td>33.8</td>\n",
       "      <td>40601.0</td>\n",
       "      <td>41862.0</td>\n",
       "      <td>82463</td>\n",
       "      <td>1562.0</td>\n",
       "      <td>30908.0</td>\n",
       "      <td>2.6</td>\n",
       "      <td>MD</td>\n",
       "      <td>Black or African-American</td>\n",
       "      <td>21330</td>\n",
       "    </tr>\n",
       "    <tr>\n",
       "      <th>2123</th>\n",
       "      <td>Silver Spring</td>\n",
       "      <td>Maryland</td>\n",
       "      <td>33.8</td>\n",
       "      <td>40601.0</td>\n",
       "      <td>41862.0</td>\n",
       "      <td>82463</td>\n",
       "      <td>1562.0</td>\n",
       "      <td>30908.0</td>\n",
       "      <td>2.6</td>\n",
       "      <td>MD</td>\n",
       "      <td>American Indian and Alaska Native</td>\n",
       "      <td>1084</td>\n",
       "    </tr>\n",
       "    <tr>\n",
       "      <th>2162</th>\n",
       "      <td>Silver Spring</td>\n",
       "      <td>Maryland</td>\n",
       "      <td>33.8</td>\n",
       "      <td>40601.0</td>\n",
       "      <td>41862.0</td>\n",
       "      <td>82463</td>\n",
       "      <td>1562.0</td>\n",
       "      <td>30908.0</td>\n",
       "      <td>2.6</td>\n",
       "      <td>MD</td>\n",
       "      <td>Asian</td>\n",
       "      <td>8841</td>\n",
       "    </tr>\n",
       "  </tbody>\n",
       "</table>\n",
       "</div>"
      ],
      "text/plain": [
       "               City     State  Median Age  Male Population  Female Population  \\\n",
       "0     Silver Spring  Maryland        33.8          40601.0            41862.0   \n",
       "592   Silver Spring  Maryland        33.8          40601.0            41862.0   \n",
       "1678  Silver Spring  Maryland        33.8          40601.0            41862.0   \n",
       "2123  Silver Spring  Maryland        33.8          40601.0            41862.0   \n",
       "2162  Silver Spring  Maryland        33.8          40601.0            41862.0   \n",
       "\n",
       "      Total Population  Number of Veterans  Foreign-born  \\\n",
       "0                82463              1562.0       30908.0   \n",
       "592              82463              1562.0       30908.0   \n",
       "1678             82463              1562.0       30908.0   \n",
       "2123             82463              1562.0       30908.0   \n",
       "2162             82463              1562.0       30908.0   \n",
       "\n",
       "      Average Household Size State Code                               Race  \\\n",
       "0                        2.6         MD                 Hispanic or Latino   \n",
       "592                      2.6         MD                              White   \n",
       "1678                     2.6         MD          Black or African-American   \n",
       "2123                     2.6         MD  American Indian and Alaska Native   \n",
       "2162                     2.6         MD                              Asian   \n",
       "\n",
       "      Count  \n",
       "0     25924  \n",
       "592   37756  \n",
       "1678  21330  \n",
       "2123   1084  \n",
       "2162   8841  "
      ]
     },
     "execution_count": 127,
     "metadata": {},
     "output_type": "execute_result"
    }
   ],
   "source": [
    "demographics_df[demographics_df['City'] == 'Silver Spring']"
   ]
  },
  {
   "cell_type": "code",
   "execution_count": 128,
   "metadata": {
    "editable": true
   },
   "outputs": [
    {
     "data": {
      "text/plain": [
       "array(['Hispanic or Latino', 'White', 'Asian', 'Black or African-American',\n",
       "       'American Indian and Alaska Native'], dtype=object)"
      ]
     },
     "execution_count": 128,
     "metadata": {},
     "output_type": "execute_result"
    }
   ],
   "source": [
    "demographics_df['Race'].unique()"
   ]
  },
  {
   "cell_type": "code",
   "execution_count": 129,
   "metadata": {
    "editable": true
   },
   "outputs": [
    {
     "data": {
      "text/html": [
       "<div>\n",
       "<style scoped>\n",
       "    .dataframe tbody tr th:only-of-type {\n",
       "        vertical-align: middle;\n",
       "    }\n",
       "\n",
       "    .dataframe tbody tr th {\n",
       "        vertical-align: top;\n",
       "    }\n",
       "\n",
       "    .dataframe thead th {\n",
       "        text-align: right;\n",
       "    }\n",
       "</style>\n",
       "<table border=\"1\" class=\"dataframe\">\n",
       "  <thead>\n",
       "    <tr style=\"text-align: right;\">\n",
       "      <th></th>\n",
       "      <th>City</th>\n",
       "      <th>State</th>\n",
       "      <th>Median Age</th>\n",
       "      <th>Male Population</th>\n",
       "      <th>Female Population</th>\n",
       "      <th>Total Population</th>\n",
       "      <th>Number of Veterans</th>\n",
       "      <th>Foreign-born</th>\n",
       "      <th>Average Household Size</th>\n",
       "      <th>State Code</th>\n",
       "      <th>American Indian and Alaska Native</th>\n",
       "      <th>Asian</th>\n",
       "      <th>Black or African-American</th>\n",
       "      <th>Hispanic or Latino</th>\n",
       "      <th>White</th>\n",
       "    </tr>\n",
       "  </thead>\n",
       "  <tbody>\n",
       "    <tr>\n",
       "      <th>0</th>\n",
       "      <td>Abilene</td>\n",
       "      <td>Texas</td>\n",
       "      <td>31.3</td>\n",
       "      <td>65212.0</td>\n",
       "      <td>60664.0</td>\n",
       "      <td>125876</td>\n",
       "      <td>9367.0</td>\n",
       "      <td>8129.0</td>\n",
       "      <td>2.64</td>\n",
       "      <td>TX</td>\n",
       "      <td>1813.0</td>\n",
       "      <td>2929.0</td>\n",
       "      <td>14449.0</td>\n",
       "      <td>33222.0</td>\n",
       "      <td>95487.0</td>\n",
       "    </tr>\n",
       "    <tr>\n",
       "      <th>1</th>\n",
       "      <td>Akron</td>\n",
       "      <td>Ohio</td>\n",
       "      <td>38.1</td>\n",
       "      <td>96886.0</td>\n",
       "      <td>100667.0</td>\n",
       "      <td>197553</td>\n",
       "      <td>12878.0</td>\n",
       "      <td>10024.0</td>\n",
       "      <td>2.24</td>\n",
       "      <td>OH</td>\n",
       "      <td>1845.0</td>\n",
       "      <td>9033.0</td>\n",
       "      <td>66551.0</td>\n",
       "      <td>3684.0</td>\n",
       "      <td>129192.0</td>\n",
       "    </tr>\n",
       "    <tr>\n",
       "      <th>2</th>\n",
       "      <td>Alafaya</td>\n",
       "      <td>Florida</td>\n",
       "      <td>33.5</td>\n",
       "      <td>39504.0</td>\n",
       "      <td>45760.0</td>\n",
       "      <td>85264</td>\n",
       "      <td>4176.0</td>\n",
       "      <td>15842.0</td>\n",
       "      <td>2.94</td>\n",
       "      <td>FL</td>\n",
       "      <td>NaN</td>\n",
       "      <td>10336.0</td>\n",
       "      <td>6577.0</td>\n",
       "      <td>34897.0</td>\n",
       "      <td>63666.0</td>\n",
       "    </tr>\n",
       "    <tr>\n",
       "      <th>3</th>\n",
       "      <td>Alameda</td>\n",
       "      <td>California</td>\n",
       "      <td>41.4</td>\n",
       "      <td>37747.0</td>\n",
       "      <td>40867.0</td>\n",
       "      <td>78614</td>\n",
       "      <td>4504.0</td>\n",
       "      <td>18841.0</td>\n",
       "      <td>2.52</td>\n",
       "      <td>CA</td>\n",
       "      <td>1329.0</td>\n",
       "      <td>27984.0</td>\n",
       "      <td>7364.0</td>\n",
       "      <td>8265.0</td>\n",
       "      <td>44232.0</td>\n",
       "    </tr>\n",
       "    <tr>\n",
       "      <th>4</th>\n",
       "      <td>Albany</td>\n",
       "      <td>Georgia</td>\n",
       "      <td>33.3</td>\n",
       "      <td>31695.0</td>\n",
       "      <td>39414.0</td>\n",
       "      <td>71109</td>\n",
       "      <td>5409.0</td>\n",
       "      <td>861.0</td>\n",
       "      <td>2.38</td>\n",
       "      <td>GA</td>\n",
       "      <td>445.0</td>\n",
       "      <td>650.0</td>\n",
       "      <td>53440.0</td>\n",
       "      <td>1783.0</td>\n",
       "      <td>17160.0</td>\n",
       "    </tr>\n",
       "  </tbody>\n",
       "</table>\n",
       "</div>"
      ],
      "text/plain": [
       "      City       State  Median Age  Male Population  Female Population  \\\n",
       "0  Abilene       Texas        31.3          65212.0            60664.0   \n",
       "1    Akron        Ohio        38.1          96886.0           100667.0   \n",
       "2  Alafaya     Florida        33.5          39504.0            45760.0   \n",
       "3  Alameda  California        41.4          37747.0            40867.0   \n",
       "4   Albany     Georgia        33.3          31695.0            39414.0   \n",
       "\n",
       "   Total Population  Number of Veterans  Foreign-born  Average Household Size  \\\n",
       "0            125876              9367.0        8129.0                    2.64   \n",
       "1            197553             12878.0       10024.0                    2.24   \n",
       "2             85264              4176.0       15842.0                    2.94   \n",
       "3             78614              4504.0       18841.0                    2.52   \n",
       "4             71109              5409.0         861.0                    2.38   \n",
       "\n",
       "  State Code  American Indian and Alaska Native    Asian  \\\n",
       "0         TX                             1813.0   2929.0   \n",
       "1         OH                             1845.0   9033.0   \n",
       "2         FL                                NaN  10336.0   \n",
       "3         CA                             1329.0  27984.0   \n",
       "4         GA                              445.0    650.0   \n",
       "\n",
       "   Black or African-American  Hispanic or Latino     White  \n",
       "0                    14449.0             33222.0   95487.0  \n",
       "1                    66551.0              3684.0  129192.0  \n",
       "2                     6577.0             34897.0   63666.0  \n",
       "3                     7364.0              8265.0   44232.0  \n",
       "4                    53440.0              1783.0   17160.0  "
      ]
     },
     "execution_count": 129,
     "metadata": {},
     "output_type": "execute_result"
    }
   ],
   "source": [
    "demographics_df = demographics_df.set_index(['City', 'State', 'Median Age', 'Male Population', 'Female Population',\n",
    "       'Total Population', 'Number of Veterans', 'Foreign-born',\n",
    "       'Average Household Size', 'State Code', 'Race']).Count.unstack().reset_index()\n",
    "demographics_df.columns.name = None\n",
    "demographics_df.head()"
   ]
  },
  {
   "cell_type": "markdown",
   "metadata": {
    "editable": true
   },
   "source": [
    "Now, when we check the shape of the DataFrame, we can see that the duplicated rows have been removed."
   ]
  },
  {
   "cell_type": "code",
   "execution_count": 130,
   "metadata": {
    "editable": true
   },
   "outputs": [
    {
     "data": {
      "text/plain": [
       "(596, 15)"
      ]
     },
     "execution_count": 130,
     "metadata": {},
     "output_type": "execute_result"
    }
   ],
   "source": [
    "demographics_df.shape"
   ]
  },
  {
   "cell_type": "markdown",
   "metadata": {
    "editable": true
   },
   "source": [
    "The number of unique Cities and States is the same as before the dataset was transformed."
   ]
  },
  {
   "cell_type": "code",
   "execution_count": 131,
   "metadata": {
    "editable": true
   },
   "outputs": [
    {
     "data": {
      "text/plain": [
       "567"
      ]
     },
     "execution_count": 131,
     "metadata": {},
     "output_type": "execute_result"
    }
   ],
   "source": [
    "demographics_df['City'].nunique()"
   ]
  },
  {
   "cell_type": "code",
   "execution_count": 132,
   "metadata": {
    "editable": true
   },
   "outputs": [
    {
     "data": {
      "text/plain": [
       "49"
      ]
     },
     "execution_count": 132,
     "metadata": {},
     "output_type": "execute_result"
    }
   ],
   "source": [
    "demographics_df['State'].nunique()"
   ]
  },
  {
   "cell_type": "code",
   "execution_count": 133,
   "metadata": {
    "editable": true
   },
   "outputs": [
    {
     "data": {
      "text/plain": [
       "0"
      ]
     },
     "execution_count": 133,
     "metadata": {},
     "output_type": "execute_result"
    }
   ],
   "source": [
    "demographics_df.duplicated().sum()"
   ]
  },
  {
   "cell_type": "code",
   "execution_count": 134,
   "metadata": {
    "editable": true
   },
   "outputs": [
    {
     "data": {
      "text/plain": [
       "City                                  0\n",
       "State                                 0\n",
       "Median Age                            0\n",
       "Male Population                       1\n",
       "Female Population                     1\n",
       "Total Population                      0\n",
       "Number of Veterans                    7\n",
       "Foreign-born                          7\n",
       "Average Household Size                8\n",
       "State Code                            0\n",
       "American Indian and Alaska Native    57\n",
       "Asian                                13\n",
       "Black or African-American            12\n",
       "Hispanic or Latino                    0\n",
       "White                                 7\n",
       "dtype: int64"
      ]
     },
     "execution_count": 134,
     "metadata": {},
     "output_type": "execute_result"
    }
   ],
   "source": [
    "demographics_df.isna().sum()"
   ]
  },
  {
   "cell_type": "code",
   "execution_count": 135,
   "metadata": {
    "editable": true
   },
   "outputs": [
    {
     "data": {
      "text/html": [
       "<div>\n",
       "<style scoped>\n",
       "    .dataframe tbody tr th:only-of-type {\n",
       "        vertical-align: middle;\n",
       "    }\n",
       "\n",
       "    .dataframe tbody tr th {\n",
       "        vertical-align: top;\n",
       "    }\n",
       "\n",
       "    .dataframe thead th {\n",
       "        text-align: right;\n",
       "    }\n",
       "</style>\n",
       "<table border=\"1\" class=\"dataframe\">\n",
       "  <thead>\n",
       "    <tr style=\"text-align: right;\">\n",
       "      <th></th>\n",
       "      <th>NaN</th>\n",
       "      <th>% of NaN</th>\n",
       "    </tr>\n",
       "  </thead>\n",
       "  <tbody>\n",
       "    <tr>\n",
       "      <th>Male Population</th>\n",
       "      <td>1</td>\n",
       "      <td>0.168067</td>\n",
       "    </tr>\n",
       "    <tr>\n",
       "      <th>Female Population</th>\n",
       "      <td>1</td>\n",
       "      <td>0.168067</td>\n",
       "    </tr>\n",
       "    <tr>\n",
       "      <th>Number of Veterans</th>\n",
       "      <td>7</td>\n",
       "      <td>1.188455</td>\n",
       "    </tr>\n",
       "    <tr>\n",
       "      <th>Foreign-born</th>\n",
       "      <td>7</td>\n",
       "      <td>1.188455</td>\n",
       "    </tr>\n",
       "    <tr>\n",
       "      <th>Average Household Size</th>\n",
       "      <td>8</td>\n",
       "      <td>1.360544</td>\n",
       "    </tr>\n",
       "    <tr>\n",
       "      <th>American Indian and Alaska Native</th>\n",
       "      <td>57</td>\n",
       "      <td>10.575139</td>\n",
       "    </tr>\n",
       "    <tr>\n",
       "      <th>Asian</th>\n",
       "      <td>13</td>\n",
       "      <td>2.229846</td>\n",
       "    </tr>\n",
       "    <tr>\n",
       "      <th>Black or African-American</th>\n",
       "      <td>12</td>\n",
       "      <td>2.054795</td>\n",
       "    </tr>\n",
       "    <tr>\n",
       "      <th>White</th>\n",
       "      <td>7</td>\n",
       "      <td>1.188455</td>\n",
       "    </tr>\n",
       "  </tbody>\n",
       "</table>\n",
       "</div>"
      ],
      "text/plain": [
       "                                   NaN   % of NaN\n",
       "Male Population                      1   0.168067\n",
       "Female Population                    1   0.168067\n",
       "Number of Veterans                   7   1.188455\n",
       "Foreign-born                         7   1.188455\n",
       "Average Household Size               8   1.360544\n",
       "American Indian and Alaska Native   57  10.575139\n",
       "Asian                               13   2.229846\n",
       "Black or African-American           12   2.054795\n",
       "White                                7   1.188455"
      ]
     },
     "execution_count": 135,
     "metadata": {},
     "output_type": "execute_result"
    }
   ],
   "source": [
    "# Calculating the percentage of NaN values for each column\n",
    "\n",
    "nan_demographics_df_2 = pd.DataFrame(data=demographics_df.isnull().sum(), columns=['NaN'])\n",
    "\n",
    "nan_demographics_df_2.drop(nan_demographics_df_2[nan_demographics_df_2['NaN'] == 0].index, inplace = True)\n",
    "\n",
    "nan_demographics_df_2['% of NaN'] = (nan_demographics_df_2['NaN']/demographics_df.count())*100\n",
    "nan_demographics_df_2"
   ]
  },
  {
   "cell_type": "code",
   "execution_count": 136,
   "metadata": {
    "editable": true
   },
   "outputs": [],
   "source": [
    "# Removing name of index column\n",
    "demographics_df = demographics_df.rename_axis(None, axis=1)"
   ]
  },
  {
   "cell_type": "code",
   "execution_count": 137,
   "metadata": {
    "editable": true
   },
   "outputs": [],
   "source": [
    "# Creating a new df\n",
    "dems_df = demographics_df"
   ]
  },
  {
   "cell_type": "code",
   "execution_count": 138,
   "metadata": {
    "editable": true
   },
   "outputs": [
    {
     "data": {
      "text/html": [
       "<div>\n",
       "<style scoped>\n",
       "    .dataframe tbody tr th:only-of-type {\n",
       "        vertical-align: middle;\n",
       "    }\n",
       "\n",
       "    .dataframe tbody tr th {\n",
       "        vertical-align: top;\n",
       "    }\n",
       "\n",
       "    .dataframe thead th {\n",
       "        text-align: right;\n",
       "    }\n",
       "</style>\n",
       "<table border=\"1\" class=\"dataframe\">\n",
       "  <thead>\n",
       "    <tr style=\"text-align: right;\">\n",
       "      <th></th>\n",
       "      <th>City</th>\n",
       "      <th>State</th>\n",
       "      <th>Median Age</th>\n",
       "      <th>Male Population</th>\n",
       "      <th>Female Population</th>\n",
       "      <th>Total Population</th>\n",
       "      <th>Number of Veterans</th>\n",
       "      <th>Foreign-born</th>\n",
       "      <th>Average Household Size</th>\n",
       "      <th>State Code</th>\n",
       "      <th>American Indian and Alaska Native</th>\n",
       "      <th>Asian</th>\n",
       "      <th>Black or African-American</th>\n",
       "      <th>Hispanic or Latino</th>\n",
       "      <th>White</th>\n",
       "    </tr>\n",
       "  </thead>\n",
       "  <tbody>\n",
       "    <tr>\n",
       "      <th>0</th>\n",
       "      <td>Abilene</td>\n",
       "      <td>Texas</td>\n",
       "      <td>31.3</td>\n",
       "      <td>65212.0</td>\n",
       "      <td>60664.0</td>\n",
       "      <td>125876</td>\n",
       "      <td>9367.0</td>\n",
       "      <td>8129.0</td>\n",
       "      <td>2.64</td>\n",
       "      <td>TX</td>\n",
       "      <td>1813.0</td>\n",
       "      <td>2929.0</td>\n",
       "      <td>14449.0</td>\n",
       "      <td>33222.0</td>\n",
       "      <td>95487.0</td>\n",
       "    </tr>\n",
       "    <tr>\n",
       "      <th>1</th>\n",
       "      <td>Akron</td>\n",
       "      <td>Ohio</td>\n",
       "      <td>38.1</td>\n",
       "      <td>96886.0</td>\n",
       "      <td>100667.0</td>\n",
       "      <td>197553</td>\n",
       "      <td>12878.0</td>\n",
       "      <td>10024.0</td>\n",
       "      <td>2.24</td>\n",
       "      <td>OH</td>\n",
       "      <td>1845.0</td>\n",
       "      <td>9033.0</td>\n",
       "      <td>66551.0</td>\n",
       "      <td>3684.0</td>\n",
       "      <td>129192.0</td>\n",
       "    </tr>\n",
       "    <tr>\n",
       "      <th>2</th>\n",
       "      <td>Alafaya</td>\n",
       "      <td>Florida</td>\n",
       "      <td>33.5</td>\n",
       "      <td>39504.0</td>\n",
       "      <td>45760.0</td>\n",
       "      <td>85264</td>\n",
       "      <td>4176.0</td>\n",
       "      <td>15842.0</td>\n",
       "      <td>2.94</td>\n",
       "      <td>FL</td>\n",
       "      <td>NaN</td>\n",
       "      <td>10336.0</td>\n",
       "      <td>6577.0</td>\n",
       "      <td>34897.0</td>\n",
       "      <td>63666.0</td>\n",
       "    </tr>\n",
       "    <tr>\n",
       "      <th>3</th>\n",
       "      <td>Alameda</td>\n",
       "      <td>California</td>\n",
       "      <td>41.4</td>\n",
       "      <td>37747.0</td>\n",
       "      <td>40867.0</td>\n",
       "      <td>78614</td>\n",
       "      <td>4504.0</td>\n",
       "      <td>18841.0</td>\n",
       "      <td>2.52</td>\n",
       "      <td>CA</td>\n",
       "      <td>1329.0</td>\n",
       "      <td>27984.0</td>\n",
       "      <td>7364.0</td>\n",
       "      <td>8265.0</td>\n",
       "      <td>44232.0</td>\n",
       "    </tr>\n",
       "    <tr>\n",
       "      <th>4</th>\n",
       "      <td>Albany</td>\n",
       "      <td>Georgia</td>\n",
       "      <td>33.3</td>\n",
       "      <td>31695.0</td>\n",
       "      <td>39414.0</td>\n",
       "      <td>71109</td>\n",
       "      <td>5409.0</td>\n",
       "      <td>861.0</td>\n",
       "      <td>2.38</td>\n",
       "      <td>GA</td>\n",
       "      <td>445.0</td>\n",
       "      <td>650.0</td>\n",
       "      <td>53440.0</td>\n",
       "      <td>1783.0</td>\n",
       "      <td>17160.0</td>\n",
       "    </tr>\n",
       "  </tbody>\n",
       "</table>\n",
       "</div>"
      ],
      "text/plain": [
       "      City       State  Median Age  Male Population  Female Population  \\\n",
       "0  Abilene       Texas        31.3          65212.0            60664.0   \n",
       "1    Akron        Ohio        38.1          96886.0           100667.0   \n",
       "2  Alafaya     Florida        33.5          39504.0            45760.0   \n",
       "3  Alameda  California        41.4          37747.0            40867.0   \n",
       "4   Albany     Georgia        33.3          31695.0            39414.0   \n",
       "\n",
       "   Total Population  Number of Veterans  Foreign-born  Average Household Size  \\\n",
       "0            125876              9367.0        8129.0                    2.64   \n",
       "1            197553             12878.0       10024.0                    2.24   \n",
       "2             85264              4176.0       15842.0                    2.94   \n",
       "3             78614              4504.0       18841.0                    2.52   \n",
       "4             71109              5409.0         861.0                    2.38   \n",
       "\n",
       "  State Code  American Indian and Alaska Native    Asian  \\\n",
       "0         TX                             1813.0   2929.0   \n",
       "1         OH                             1845.0   9033.0   \n",
       "2         FL                                NaN  10336.0   \n",
       "3         CA                             1329.0  27984.0   \n",
       "4         GA                              445.0    650.0   \n",
       "\n",
       "   Black or African-American  Hispanic or Latino     White  \n",
       "0                    14449.0             33222.0   95487.0  \n",
       "1                    66551.0              3684.0  129192.0  \n",
       "2                     6577.0             34897.0   63666.0  \n",
       "3                     7364.0              8265.0   44232.0  \n",
       "4                    53440.0              1783.0   17160.0  "
      ]
     },
     "execution_count": 138,
     "metadata": {},
     "output_type": "execute_result"
    }
   ],
   "source": [
    "dems_df.head()"
   ]
  },
  {
   "cell_type": "markdown",
   "metadata": {
    "editable": true
   },
   "source": [
    "**Calculations**"
   ]
  },
  {
   "cell_type": "markdown",
   "metadata": {
    "editable": true
   },
   "source": [
    "1. Finding the % breakdown of the following columns: Male Population, Female Population per City\n",
    "2. Finding the % breakdwon of the following columns: American Indian and Alaska Native, Asian, Black or African-American, Hispanic or Latino and White per City\n",
    "3. Finding the % of Foreign born per City"
   ]
  },
  {
   "cell_type": "markdown",
   "metadata": {
    "editable": true
   },
   "source": [
    "% breakdown per Gender"
   ]
  },
  {
   "cell_type": "markdown",
   "metadata": {
    "editable": true
   },
   "source": [
    "Let's add two new columns: 'pct_male_pop' and 'pct_female_pop'"
   ]
  },
  {
   "cell_type": "code",
   "execution_count": 139,
   "metadata": {
    "editable": true
   },
   "outputs": [],
   "source": [
    "dems_df['pct_male_pop'] = (dems_df['Male Population']/dems_df['Total Population'])*100\n",
    "dems_df['pct_female_pop'] = (dems_df['Female Population']/dems_df['Total Population'])*100"
   ]
  },
  {
   "cell_type": "code",
   "execution_count": 140,
   "metadata": {
    "editable": true
   },
   "outputs": [
    {
     "data": {
      "text/html": [
       "<div>\n",
       "<style scoped>\n",
       "    .dataframe tbody tr th:only-of-type {\n",
       "        vertical-align: middle;\n",
       "    }\n",
       "\n",
       "    .dataframe tbody tr th {\n",
       "        vertical-align: top;\n",
       "    }\n",
       "\n",
       "    .dataframe thead th {\n",
       "        text-align: right;\n",
       "    }\n",
       "</style>\n",
       "<table border=\"1\" class=\"dataframe\">\n",
       "  <thead>\n",
       "    <tr style=\"text-align: right;\">\n",
       "      <th></th>\n",
       "      <th>City</th>\n",
       "      <th>State</th>\n",
       "      <th>Median Age</th>\n",
       "      <th>Male Population</th>\n",
       "      <th>Female Population</th>\n",
       "      <th>Total Population</th>\n",
       "      <th>Number of Veterans</th>\n",
       "      <th>Foreign-born</th>\n",
       "      <th>Average Household Size</th>\n",
       "      <th>State Code</th>\n",
       "      <th>American Indian and Alaska Native</th>\n",
       "      <th>Asian</th>\n",
       "      <th>Black or African-American</th>\n",
       "      <th>Hispanic or Latino</th>\n",
       "      <th>White</th>\n",
       "      <th>pct_male_pop</th>\n",
       "      <th>pct_female_pop</th>\n",
       "    </tr>\n",
       "  </thead>\n",
       "  <tbody>\n",
       "    <tr>\n",
       "      <th>0</th>\n",
       "      <td>Abilene</td>\n",
       "      <td>Texas</td>\n",
       "      <td>31.3</td>\n",
       "      <td>65212.0</td>\n",
       "      <td>60664.0</td>\n",
       "      <td>125876</td>\n",
       "      <td>9367.0</td>\n",
       "      <td>8129.0</td>\n",
       "      <td>2.64</td>\n",
       "      <td>TX</td>\n",
       "      <td>1813.0</td>\n",
       "      <td>2929.0</td>\n",
       "      <td>14449.0</td>\n",
       "      <td>33222.0</td>\n",
       "      <td>95487.0</td>\n",
       "      <td>51.806540</td>\n",
       "      <td>48.193460</td>\n",
       "    </tr>\n",
       "    <tr>\n",
       "      <th>1</th>\n",
       "      <td>Akron</td>\n",
       "      <td>Ohio</td>\n",
       "      <td>38.1</td>\n",
       "      <td>96886.0</td>\n",
       "      <td>100667.0</td>\n",
       "      <td>197553</td>\n",
       "      <td>12878.0</td>\n",
       "      <td>10024.0</td>\n",
       "      <td>2.24</td>\n",
       "      <td>OH</td>\n",
       "      <td>1845.0</td>\n",
       "      <td>9033.0</td>\n",
       "      <td>66551.0</td>\n",
       "      <td>3684.0</td>\n",
       "      <td>129192.0</td>\n",
       "      <td>49.043042</td>\n",
       "      <td>50.956958</td>\n",
       "    </tr>\n",
       "    <tr>\n",
       "      <th>2</th>\n",
       "      <td>Alafaya</td>\n",
       "      <td>Florida</td>\n",
       "      <td>33.5</td>\n",
       "      <td>39504.0</td>\n",
       "      <td>45760.0</td>\n",
       "      <td>85264</td>\n",
       "      <td>4176.0</td>\n",
       "      <td>15842.0</td>\n",
       "      <td>2.94</td>\n",
       "      <td>FL</td>\n",
       "      <td>NaN</td>\n",
       "      <td>10336.0</td>\n",
       "      <td>6577.0</td>\n",
       "      <td>34897.0</td>\n",
       "      <td>63666.0</td>\n",
       "      <td>46.331394</td>\n",
       "      <td>53.668606</td>\n",
       "    </tr>\n",
       "    <tr>\n",
       "      <th>3</th>\n",
       "      <td>Alameda</td>\n",
       "      <td>California</td>\n",
       "      <td>41.4</td>\n",
       "      <td>37747.0</td>\n",
       "      <td>40867.0</td>\n",
       "      <td>78614</td>\n",
       "      <td>4504.0</td>\n",
       "      <td>18841.0</td>\n",
       "      <td>2.52</td>\n",
       "      <td>CA</td>\n",
       "      <td>1329.0</td>\n",
       "      <td>27984.0</td>\n",
       "      <td>7364.0</td>\n",
       "      <td>8265.0</td>\n",
       "      <td>44232.0</td>\n",
       "      <td>48.015621</td>\n",
       "      <td>51.984379</td>\n",
       "    </tr>\n",
       "    <tr>\n",
       "      <th>4</th>\n",
       "      <td>Albany</td>\n",
       "      <td>Georgia</td>\n",
       "      <td>33.3</td>\n",
       "      <td>31695.0</td>\n",
       "      <td>39414.0</td>\n",
       "      <td>71109</td>\n",
       "      <td>5409.0</td>\n",
       "      <td>861.0</td>\n",
       "      <td>2.38</td>\n",
       "      <td>GA</td>\n",
       "      <td>445.0</td>\n",
       "      <td>650.0</td>\n",
       "      <td>53440.0</td>\n",
       "      <td>1783.0</td>\n",
       "      <td>17160.0</td>\n",
       "      <td>44.572417</td>\n",
       "      <td>55.427583</td>\n",
       "    </tr>\n",
       "  </tbody>\n",
       "</table>\n",
       "</div>"
      ],
      "text/plain": [
       "      City       State  Median Age  Male Population  Female Population  \\\n",
       "0  Abilene       Texas        31.3          65212.0            60664.0   \n",
       "1    Akron        Ohio        38.1          96886.0           100667.0   \n",
       "2  Alafaya     Florida        33.5          39504.0            45760.0   \n",
       "3  Alameda  California        41.4          37747.0            40867.0   \n",
       "4   Albany     Georgia        33.3          31695.0            39414.0   \n",
       "\n",
       "   Total Population  Number of Veterans  Foreign-born  Average Household Size  \\\n",
       "0            125876              9367.0        8129.0                    2.64   \n",
       "1            197553             12878.0       10024.0                    2.24   \n",
       "2             85264              4176.0       15842.0                    2.94   \n",
       "3             78614              4504.0       18841.0                    2.52   \n",
       "4             71109              5409.0         861.0                    2.38   \n",
       "\n",
       "  State Code  American Indian and Alaska Native    Asian  \\\n",
       "0         TX                             1813.0   2929.0   \n",
       "1         OH                             1845.0   9033.0   \n",
       "2         FL                                NaN  10336.0   \n",
       "3         CA                             1329.0  27984.0   \n",
       "4         GA                              445.0    650.0   \n",
       "\n",
       "   Black or African-American  Hispanic or Latino     White  pct_male_pop  \\\n",
       "0                    14449.0             33222.0   95487.0     51.806540   \n",
       "1                    66551.0              3684.0  129192.0     49.043042   \n",
       "2                     6577.0             34897.0   63666.0     46.331394   \n",
       "3                     7364.0              8265.0   44232.0     48.015621   \n",
       "4                    53440.0              1783.0   17160.0     44.572417   \n",
       "\n",
       "   pct_female_pop  \n",
       "0       48.193460  \n",
       "1       50.956958  \n",
       "2       53.668606  \n",
       "3       51.984379  \n",
       "4       55.427583  "
      ]
     },
     "execution_count": 140,
     "metadata": {},
     "output_type": "execute_result"
    }
   ],
   "source": [
    "dems_df.head()"
   ]
  },
  {
   "cell_type": "code",
   "execution_count": 65,
   "metadata": {
    "editable": true
   },
   "outputs": [],
   "source": [
    "# gender_dems_df = demographics_df.groupby(['State'])['Male Population', 'Female Population', 'Total Population'].sum()\n",
    "# gender_dems_df"
   ]
  },
  {
   "cell_type": "markdown",
   "metadata": {
    "editable": true
   },
   "source": [
    "% breakdown per Race category"
   ]
  },
  {
   "cell_type": "code",
   "execution_count": 141,
   "metadata": {
    "editable": true
   },
   "outputs": [],
   "source": [
    "# American Indian and Alaska Native\n",
    "dems_df['pct_native'] = (dems_df['American Indian and Alaska Native']/dems_df['Total Population'])*100\n",
    "\n",
    "# Asian\n",
    "dems_df['pct_asian'] = (dems_df['Asian']/dems_df['Total Population'])*100\n",
    "\n",
    "# Black or African-American\n",
    "dems_df['pct_black'] = (dems_df['Black or African-American']/dems_df['Total Population'])*100\n",
    "\n",
    "# Hispanic or Latino\n",
    "dems_df['pct_hispanic'] = (dems_df['Hispanic or Latino']/dems_df['Total Population'])*100\n",
    "\n",
    "# White\n",
    "dems_df['pct_white'] = (dems_df['White']/dems_df['Total Population'])*100"
   ]
  },
  {
   "cell_type": "code",
   "execution_count": 142,
   "metadata": {
    "editable": true
   },
   "outputs": [
    {
     "data": {
      "text/html": [
       "<div>\n",
       "<style scoped>\n",
       "    .dataframe tbody tr th:only-of-type {\n",
       "        vertical-align: middle;\n",
       "    }\n",
       "\n",
       "    .dataframe tbody tr th {\n",
       "        vertical-align: top;\n",
       "    }\n",
       "\n",
       "    .dataframe thead th {\n",
       "        text-align: right;\n",
       "    }\n",
       "</style>\n",
       "<table border=\"1\" class=\"dataframe\">\n",
       "  <thead>\n",
       "    <tr style=\"text-align: right;\">\n",
       "      <th></th>\n",
       "      <th>City</th>\n",
       "      <th>State</th>\n",
       "      <th>Median Age</th>\n",
       "      <th>Male Population</th>\n",
       "      <th>Female Population</th>\n",
       "      <th>Total Population</th>\n",
       "      <th>Number of Veterans</th>\n",
       "      <th>Foreign-born</th>\n",
       "      <th>Average Household Size</th>\n",
       "      <th>State Code</th>\n",
       "      <th>...</th>\n",
       "      <th>Black or African-American</th>\n",
       "      <th>Hispanic or Latino</th>\n",
       "      <th>White</th>\n",
       "      <th>pct_male_pop</th>\n",
       "      <th>pct_female_pop</th>\n",
       "      <th>pct_native</th>\n",
       "      <th>pct_asian</th>\n",
       "      <th>pct_black</th>\n",
       "      <th>pct_hispanic</th>\n",
       "      <th>pct_white</th>\n",
       "    </tr>\n",
       "  </thead>\n",
       "  <tbody>\n",
       "    <tr>\n",
       "      <th>0</th>\n",
       "      <td>Abilene</td>\n",
       "      <td>Texas</td>\n",
       "      <td>31.3</td>\n",
       "      <td>65212.0</td>\n",
       "      <td>60664.0</td>\n",
       "      <td>125876</td>\n",
       "      <td>9367.0</td>\n",
       "      <td>8129.0</td>\n",
       "      <td>2.64</td>\n",
       "      <td>TX</td>\n",
       "      <td>...</td>\n",
       "      <td>14449.0</td>\n",
       "      <td>33222.0</td>\n",
       "      <td>95487.0</td>\n",
       "      <td>51.806540</td>\n",
       "      <td>48.193460</td>\n",
       "      <td>1.440306</td>\n",
       "      <td>2.326893</td>\n",
       "      <td>11.478757</td>\n",
       "      <td>26.392640</td>\n",
       "      <td>75.857987</td>\n",
       "    </tr>\n",
       "    <tr>\n",
       "      <th>1</th>\n",
       "      <td>Akron</td>\n",
       "      <td>Ohio</td>\n",
       "      <td>38.1</td>\n",
       "      <td>96886.0</td>\n",
       "      <td>100667.0</td>\n",
       "      <td>197553</td>\n",
       "      <td>12878.0</td>\n",
       "      <td>10024.0</td>\n",
       "      <td>2.24</td>\n",
       "      <td>OH</td>\n",
       "      <td>...</td>\n",
       "      <td>66551.0</td>\n",
       "      <td>3684.0</td>\n",
       "      <td>129192.0</td>\n",
       "      <td>49.043042</td>\n",
       "      <td>50.956958</td>\n",
       "      <td>0.933927</td>\n",
       "      <td>4.572444</td>\n",
       "      <td>33.687669</td>\n",
       "      <td>1.864816</td>\n",
       "      <td>65.396122</td>\n",
       "    </tr>\n",
       "    <tr>\n",
       "      <th>2</th>\n",
       "      <td>Alafaya</td>\n",
       "      <td>Florida</td>\n",
       "      <td>33.5</td>\n",
       "      <td>39504.0</td>\n",
       "      <td>45760.0</td>\n",
       "      <td>85264</td>\n",
       "      <td>4176.0</td>\n",
       "      <td>15842.0</td>\n",
       "      <td>2.94</td>\n",
       "      <td>FL</td>\n",
       "      <td>...</td>\n",
       "      <td>6577.0</td>\n",
       "      <td>34897.0</td>\n",
       "      <td>63666.0</td>\n",
       "      <td>46.331394</td>\n",
       "      <td>53.668606</td>\n",
       "      <td>NaN</td>\n",
       "      <td>12.122349</td>\n",
       "      <td>7.713689</td>\n",
       "      <td>40.928176</td>\n",
       "      <td>74.669263</td>\n",
       "    </tr>\n",
       "    <tr>\n",
       "      <th>3</th>\n",
       "      <td>Alameda</td>\n",
       "      <td>California</td>\n",
       "      <td>41.4</td>\n",
       "      <td>37747.0</td>\n",
       "      <td>40867.0</td>\n",
       "      <td>78614</td>\n",
       "      <td>4504.0</td>\n",
       "      <td>18841.0</td>\n",
       "      <td>2.52</td>\n",
       "      <td>CA</td>\n",
       "      <td>...</td>\n",
       "      <td>7364.0</td>\n",
       "      <td>8265.0</td>\n",
       "      <td>44232.0</td>\n",
       "      <td>48.015621</td>\n",
       "      <td>51.984379</td>\n",
       "      <td>1.690539</td>\n",
       "      <td>35.596713</td>\n",
       "      <td>9.367288</td>\n",
       "      <td>10.513395</td>\n",
       "      <td>56.264787</td>\n",
       "    </tr>\n",
       "    <tr>\n",
       "      <th>4</th>\n",
       "      <td>Albany</td>\n",
       "      <td>Georgia</td>\n",
       "      <td>33.3</td>\n",
       "      <td>31695.0</td>\n",
       "      <td>39414.0</td>\n",
       "      <td>71109</td>\n",
       "      <td>5409.0</td>\n",
       "      <td>861.0</td>\n",
       "      <td>2.38</td>\n",
       "      <td>GA</td>\n",
       "      <td>...</td>\n",
       "      <td>53440.0</td>\n",
       "      <td>1783.0</td>\n",
       "      <td>17160.0</td>\n",
       "      <td>44.572417</td>\n",
       "      <td>55.427583</td>\n",
       "      <td>0.625800</td>\n",
       "      <td>0.914090</td>\n",
       "      <td>75.152231</td>\n",
       "      <td>2.507418</td>\n",
       "      <td>24.131966</td>\n",
       "    </tr>\n",
       "  </tbody>\n",
       "</table>\n",
       "<p>5 rows × 22 columns</p>\n",
       "</div>"
      ],
      "text/plain": [
       "      City       State  Median Age  Male Population  Female Population  \\\n",
       "0  Abilene       Texas        31.3          65212.0            60664.0   \n",
       "1    Akron        Ohio        38.1          96886.0           100667.0   \n",
       "2  Alafaya     Florida        33.5          39504.0            45760.0   \n",
       "3  Alameda  California        41.4          37747.0            40867.0   \n",
       "4   Albany     Georgia        33.3          31695.0            39414.0   \n",
       "\n",
       "   Total Population  Number of Veterans  Foreign-born  Average Household Size  \\\n",
       "0            125876              9367.0        8129.0                    2.64   \n",
       "1            197553             12878.0       10024.0                    2.24   \n",
       "2             85264              4176.0       15842.0                    2.94   \n",
       "3             78614              4504.0       18841.0                    2.52   \n",
       "4             71109              5409.0         861.0                    2.38   \n",
       "\n",
       "  State Code    ...      Black or African-American  Hispanic or Latino  \\\n",
       "0         TX    ...                        14449.0             33222.0   \n",
       "1         OH    ...                        66551.0              3684.0   \n",
       "2         FL    ...                         6577.0             34897.0   \n",
       "3         CA    ...                         7364.0              8265.0   \n",
       "4         GA    ...                        53440.0              1783.0   \n",
       "\n",
       "      White  pct_male_pop  pct_female_pop  pct_native  pct_asian  pct_black  \\\n",
       "0   95487.0     51.806540       48.193460    1.440306   2.326893  11.478757   \n",
       "1  129192.0     49.043042       50.956958    0.933927   4.572444  33.687669   \n",
       "2   63666.0     46.331394       53.668606         NaN  12.122349   7.713689   \n",
       "3   44232.0     48.015621       51.984379    1.690539  35.596713   9.367288   \n",
       "4   17160.0     44.572417       55.427583    0.625800   0.914090  75.152231   \n",
       "\n",
       "   pct_hispanic  pct_white  \n",
       "0     26.392640  75.857987  \n",
       "1      1.864816  65.396122  \n",
       "2     40.928176  74.669263  \n",
       "3     10.513395  56.264787  \n",
       "4      2.507418  24.131966  \n",
       "\n",
       "[5 rows x 22 columns]"
      ]
     },
     "execution_count": 142,
     "metadata": {},
     "output_type": "execute_result"
    }
   ],
   "source": [
    "dems_df.head()"
   ]
  },
  {
   "cell_type": "markdown",
   "metadata": {
    "editable": true
   },
   "source": [
    "% breakdown of Foreign Born"
   ]
  },
  {
   "cell_type": "code",
   "execution_count": 143,
   "metadata": {
    "editable": true
   },
   "outputs": [],
   "source": [
    "dems_df['pct_foreign_born'] = (dems_df['Foreign-born']/dems_df['Total Population'])*100"
   ]
  },
  {
   "cell_type": "markdown",
   "metadata": {
    "editable": true
   },
   "source": [
    "% breakdown of Veterans"
   ]
  },
  {
   "cell_type": "code",
   "execution_count": 145,
   "metadata": {
    "editable": true
   },
   "outputs": [],
   "source": [
    "dems_df['pct_veterans'] = (dems_df['Number of Veterans']/dems_df['Total Population'])*100"
   ]
  },
  {
   "cell_type": "code",
   "execution_count": 146,
   "metadata": {
    "editable": true
   },
   "outputs": [
    {
     "data": {
      "text/html": [
       "<div>\n",
       "<style scoped>\n",
       "    .dataframe tbody tr th:only-of-type {\n",
       "        vertical-align: middle;\n",
       "    }\n",
       "\n",
       "    .dataframe tbody tr th {\n",
       "        vertical-align: top;\n",
       "    }\n",
       "\n",
       "    .dataframe thead th {\n",
       "        text-align: right;\n",
       "    }\n",
       "</style>\n",
       "<table border=\"1\" class=\"dataframe\">\n",
       "  <thead>\n",
       "    <tr style=\"text-align: right;\">\n",
       "      <th></th>\n",
       "      <th>City</th>\n",
       "      <th>State</th>\n",
       "      <th>Median Age</th>\n",
       "      <th>Male Population</th>\n",
       "      <th>Female Population</th>\n",
       "      <th>Total Population</th>\n",
       "      <th>Number of Veterans</th>\n",
       "      <th>Foreign-born</th>\n",
       "      <th>Average Household Size</th>\n",
       "      <th>State Code</th>\n",
       "      <th>...</th>\n",
       "      <th>White</th>\n",
       "      <th>pct_male_pop</th>\n",
       "      <th>pct_female_pop</th>\n",
       "      <th>pct_native</th>\n",
       "      <th>pct_asian</th>\n",
       "      <th>pct_black</th>\n",
       "      <th>pct_hispanic</th>\n",
       "      <th>pct_white</th>\n",
       "      <th>pct_foreign_born</th>\n",
       "      <th>pct_veterans</th>\n",
       "    </tr>\n",
       "  </thead>\n",
       "  <tbody>\n",
       "    <tr>\n",
       "      <th>0</th>\n",
       "      <td>Abilene</td>\n",
       "      <td>Texas</td>\n",
       "      <td>31.3</td>\n",
       "      <td>65212.0</td>\n",
       "      <td>60664.0</td>\n",
       "      <td>125876</td>\n",
       "      <td>9367.0</td>\n",
       "      <td>8129.0</td>\n",
       "      <td>2.64</td>\n",
       "      <td>TX</td>\n",
       "      <td>...</td>\n",
       "      <td>95487.0</td>\n",
       "      <td>51.806540</td>\n",
       "      <td>48.193460</td>\n",
       "      <td>1.440306</td>\n",
       "      <td>2.326893</td>\n",
       "      <td>11.478757</td>\n",
       "      <td>26.392640</td>\n",
       "      <td>75.857987</td>\n",
       "      <td>6.457943</td>\n",
       "      <td>7.441450</td>\n",
       "    </tr>\n",
       "    <tr>\n",
       "      <th>1</th>\n",
       "      <td>Akron</td>\n",
       "      <td>Ohio</td>\n",
       "      <td>38.1</td>\n",
       "      <td>96886.0</td>\n",
       "      <td>100667.0</td>\n",
       "      <td>197553</td>\n",
       "      <td>12878.0</td>\n",
       "      <td>10024.0</td>\n",
       "      <td>2.24</td>\n",
       "      <td>OH</td>\n",
       "      <td>...</td>\n",
       "      <td>129192.0</td>\n",
       "      <td>49.043042</td>\n",
       "      <td>50.956958</td>\n",
       "      <td>0.933927</td>\n",
       "      <td>4.572444</td>\n",
       "      <td>33.687669</td>\n",
       "      <td>1.864816</td>\n",
       "      <td>65.396122</td>\n",
       "      <td>5.074081</td>\n",
       "      <td>6.518757</td>\n",
       "    </tr>\n",
       "    <tr>\n",
       "      <th>2</th>\n",
       "      <td>Alafaya</td>\n",
       "      <td>Florida</td>\n",
       "      <td>33.5</td>\n",
       "      <td>39504.0</td>\n",
       "      <td>45760.0</td>\n",
       "      <td>85264</td>\n",
       "      <td>4176.0</td>\n",
       "      <td>15842.0</td>\n",
       "      <td>2.94</td>\n",
       "      <td>FL</td>\n",
       "      <td>...</td>\n",
       "      <td>63666.0</td>\n",
       "      <td>46.331394</td>\n",
       "      <td>53.668606</td>\n",
       "      <td>NaN</td>\n",
       "      <td>12.122349</td>\n",
       "      <td>7.713689</td>\n",
       "      <td>40.928176</td>\n",
       "      <td>74.669263</td>\n",
       "      <td>18.579940</td>\n",
       "      <td>4.897729</td>\n",
       "    </tr>\n",
       "    <tr>\n",
       "      <th>3</th>\n",
       "      <td>Alameda</td>\n",
       "      <td>California</td>\n",
       "      <td>41.4</td>\n",
       "      <td>37747.0</td>\n",
       "      <td>40867.0</td>\n",
       "      <td>78614</td>\n",
       "      <td>4504.0</td>\n",
       "      <td>18841.0</td>\n",
       "      <td>2.52</td>\n",
       "      <td>CA</td>\n",
       "      <td>...</td>\n",
       "      <td>44232.0</td>\n",
       "      <td>48.015621</td>\n",
       "      <td>51.984379</td>\n",
       "      <td>1.690539</td>\n",
       "      <td>35.596713</td>\n",
       "      <td>9.367288</td>\n",
       "      <td>10.513395</td>\n",
       "      <td>56.264787</td>\n",
       "      <td>23.966469</td>\n",
       "      <td>5.729259</td>\n",
       "    </tr>\n",
       "    <tr>\n",
       "      <th>4</th>\n",
       "      <td>Albany</td>\n",
       "      <td>Georgia</td>\n",
       "      <td>33.3</td>\n",
       "      <td>31695.0</td>\n",
       "      <td>39414.0</td>\n",
       "      <td>71109</td>\n",
       "      <td>5409.0</td>\n",
       "      <td>861.0</td>\n",
       "      <td>2.38</td>\n",
       "      <td>GA</td>\n",
       "      <td>...</td>\n",
       "      <td>17160.0</td>\n",
       "      <td>44.572417</td>\n",
       "      <td>55.427583</td>\n",
       "      <td>0.625800</td>\n",
       "      <td>0.914090</td>\n",
       "      <td>75.152231</td>\n",
       "      <td>2.507418</td>\n",
       "      <td>24.131966</td>\n",
       "      <td>1.210817</td>\n",
       "      <td>7.606632</td>\n",
       "    </tr>\n",
       "  </tbody>\n",
       "</table>\n",
       "<p>5 rows × 24 columns</p>\n",
       "</div>"
      ],
      "text/plain": [
       "      City       State  Median Age  Male Population  Female Population  \\\n",
       "0  Abilene       Texas        31.3          65212.0            60664.0   \n",
       "1    Akron        Ohio        38.1          96886.0           100667.0   \n",
       "2  Alafaya     Florida        33.5          39504.0            45760.0   \n",
       "3  Alameda  California        41.4          37747.0            40867.0   \n",
       "4   Albany     Georgia        33.3          31695.0            39414.0   \n",
       "\n",
       "   Total Population  Number of Veterans  Foreign-born  Average Household Size  \\\n",
       "0            125876              9367.0        8129.0                    2.64   \n",
       "1            197553             12878.0       10024.0                    2.24   \n",
       "2             85264              4176.0       15842.0                    2.94   \n",
       "3             78614              4504.0       18841.0                    2.52   \n",
       "4             71109              5409.0         861.0                    2.38   \n",
       "\n",
       "  State Code      ...          White  pct_male_pop  pct_female_pop  \\\n",
       "0         TX      ...        95487.0     51.806540       48.193460   \n",
       "1         OH      ...       129192.0     49.043042       50.956958   \n",
       "2         FL      ...        63666.0     46.331394       53.668606   \n",
       "3         CA      ...        44232.0     48.015621       51.984379   \n",
       "4         GA      ...        17160.0     44.572417       55.427583   \n",
       "\n",
       "   pct_native  pct_asian  pct_black  pct_hispanic  pct_white  \\\n",
       "0    1.440306   2.326893  11.478757     26.392640  75.857987   \n",
       "1    0.933927   4.572444  33.687669      1.864816  65.396122   \n",
       "2         NaN  12.122349   7.713689     40.928176  74.669263   \n",
       "3    1.690539  35.596713   9.367288     10.513395  56.264787   \n",
       "4    0.625800   0.914090  75.152231      2.507418  24.131966   \n",
       "\n",
       "   pct_foreign_born  pct_veterans  \n",
       "0          6.457943      7.441450  \n",
       "1          5.074081      6.518757  \n",
       "2         18.579940      4.897729  \n",
       "3         23.966469      5.729259  \n",
       "4          1.210817      7.606632  \n",
       "\n",
       "[5 rows x 24 columns]"
      ]
     },
     "execution_count": 146,
     "metadata": {},
     "output_type": "execute_result"
    }
   ],
   "source": [
    "dems_df.head()"
   ]
  },
  {
   "cell_type": "code",
   "execution_count": 147,
   "metadata": {
    "editable": true
   },
   "outputs": [
    {
     "data": {
      "text/plain": [
       "Index(['City', 'State', 'Median Age', 'Male Population', 'Female Population',\n",
       "       'Total Population', 'Number of Veterans', 'Foreign-born',\n",
       "       'Average Household Size', 'State Code',\n",
       "       'American Indian and Alaska Native', 'Asian',\n",
       "       'Black or African-American', 'Hispanic or Latino', 'White',\n",
       "       'pct_male_pop', 'pct_female_pop', 'pct_native', 'pct_asian',\n",
       "       'pct_black', 'pct_hispanic', 'pct_white', 'pct_foreign_born',\n",
       "       'pct_veterans'],\n",
       "      dtype='object')"
      ]
     },
     "execution_count": 147,
     "metadata": {},
     "output_type": "execute_result"
    }
   ],
   "source": [
    "dems_df.columns"
   ]
  },
  {
   "cell_type": "markdown",
   "metadata": {
    "editable": true
   },
   "source": [
    "Dropping Columns"
   ]
  },
  {
   "cell_type": "code",
   "execution_count": 148,
   "metadata": {
    "editable": true
   },
   "outputs": [
    {
     "data": {
      "text/plain": [
       "Index(['City', 'State', 'Median Age', 'Total Population',\n",
       "       'Average Household Size', 'State Code', 'pct_male_pop',\n",
       "       'pct_female_pop', 'pct_native', 'pct_asian', 'pct_black',\n",
       "       'pct_hispanic', 'pct_white', 'pct_foreign_born', 'pct_veterans'],\n",
       "      dtype='object')"
      ]
     },
     "execution_count": 148,
     "metadata": {},
     "output_type": "execute_result"
    }
   ],
   "source": [
    "dems_df = dems_df.drop(['Male Population', 'Female Population', 'Number of Veterans', 'Foreign-born', 'American Indian and Alaska Native', 'Asian',\n",
    "       'Black or African-American', 'Hispanic or Latino', 'White',], axis=1)\n",
    "dems_df.columns"
   ]
  },
  {
   "cell_type": "markdown",
   "metadata": {
    "editable": true
   },
   "source": [
    "Renaming columns"
   ]
  },
  {
   "cell_type": "code",
   "execution_count": 149,
   "metadata": {
    "editable": true
   },
   "outputs": [
    {
     "data": {
      "text/plain": [
       "Index(['city', 'state', 'median_age', 'tot_pop', 'avg_house_size',\n",
       "       'State Code', 'pct_male_pop', 'pct_female_pop', 'pct_native',\n",
       "       'pct_asian', 'pct_black', 'pct_hispanic', 'pct_white',\n",
       "       'pct_foreign_born', 'pct_veterans'],\n",
       "      dtype='object')"
      ]
     },
     "execution_count": 149,
     "metadata": {},
     "output_type": "execute_result"
    }
   ],
   "source": [
    "dems_df.rename(columns={'City': 'city', 'State': 'state', 'Median Age': 'median_age', 'Total Population': 'tot_pop', 'Average Household Size': 'avg_house_size'}, inplace=True)\n",
    "dems_df.columns"
   ]
  },
  {
   "cell_type": "code",
   "execution_count": 150,
   "metadata": {
    "editable": true
   },
   "outputs": [],
   "source": [
    "# Saving the clean df to a new csv\n",
    "dems_df.to_csv('demographics_data_clean.csv', index=False)"
   ]
  },
  {
   "cell_type": "code",
   "execution_count": 151,
   "metadata": {
    "editable": true
   },
   "outputs": [
    {
     "name": "stdout",
     "output_type": "stream",
     "text": [
      "Total records in df: 596\n"
     ]
    }
   ],
   "source": [
    "print('Total records in df: ' + str(dems_df.shape[0]))"
   ]
  },
  {
   "cell_type": "code",
   "execution_count": null,
   "metadata": {
    "editable": true
   },
   "outputs": [],
   "source": []
  },
  {
   "cell_type": "code",
   "execution_count": null,
   "metadata": {
    "editable": true
   },
   "outputs": [],
   "source": []
  },
  {
   "cell_type": "markdown",
   "metadata": {
    "editable": true
   },
   "source": [
    "### Immigration dataset\n",
    "-----"
   ]
  },
  {
   "cell_type": "markdown",
   "metadata": {
    "editable": true
   },
   "source": [
    "N.B. The Immigration dataset is large therefore, for exploratory purposes only, a small subset of the Immigration dataset will be used below."
   ]
  },
  {
   "cell_type": "code",
   "execution_count": 88,
   "metadata": {
    "editable": true
   },
   "outputs": [],
   "source": [
    "# Reading in the immigration data subset into a pandas df\n",
    "\n",
    "immigration_df = pd.read_csv('immigration_data_sample.csv')"
   ]
  },
  {
   "cell_type": "code",
   "execution_count": 89,
   "metadata": {
    "editable": true
   },
   "outputs": [
    {
     "data": {
      "text/html": [
       "<div>\n",
       "<style scoped>\n",
       "    .dataframe tbody tr th:only-of-type {\n",
       "        vertical-align: middle;\n",
       "    }\n",
       "\n",
       "    .dataframe tbody tr th {\n",
       "        vertical-align: top;\n",
       "    }\n",
       "\n",
       "    .dataframe thead th {\n",
       "        text-align: right;\n",
       "    }\n",
       "</style>\n",
       "<table border=\"1\" class=\"dataframe\">\n",
       "  <thead>\n",
       "    <tr style=\"text-align: right;\">\n",
       "      <th></th>\n",
       "      <th>Unnamed: 0</th>\n",
       "      <th>cicid</th>\n",
       "      <th>i94yr</th>\n",
       "      <th>i94mon</th>\n",
       "      <th>i94cit</th>\n",
       "      <th>i94res</th>\n",
       "      <th>i94port</th>\n",
       "      <th>arrdate</th>\n",
       "      <th>i94mode</th>\n",
       "      <th>i94addr</th>\n",
       "      <th>...</th>\n",
       "      <th>entdepu</th>\n",
       "      <th>matflag</th>\n",
       "      <th>biryear</th>\n",
       "      <th>dtaddto</th>\n",
       "      <th>gender</th>\n",
       "      <th>insnum</th>\n",
       "      <th>airline</th>\n",
       "      <th>admnum</th>\n",
       "      <th>fltno</th>\n",
       "      <th>visatype</th>\n",
       "    </tr>\n",
       "  </thead>\n",
       "  <tbody>\n",
       "    <tr>\n",
       "      <th>0</th>\n",
       "      <td>2027561</td>\n",
       "      <td>4084316.0</td>\n",
       "      <td>2016.0</td>\n",
       "      <td>4.0</td>\n",
       "      <td>209.0</td>\n",
       "      <td>209.0</td>\n",
       "      <td>HHW</td>\n",
       "      <td>20566.0</td>\n",
       "      <td>1.0</td>\n",
       "      <td>HI</td>\n",
       "      <td>...</td>\n",
       "      <td>NaN</td>\n",
       "      <td>M</td>\n",
       "      <td>1955.0</td>\n",
       "      <td>07202016</td>\n",
       "      <td>F</td>\n",
       "      <td>NaN</td>\n",
       "      <td>JL</td>\n",
       "      <td>5.658267e+10</td>\n",
       "      <td>00782</td>\n",
       "      <td>WT</td>\n",
       "    </tr>\n",
       "    <tr>\n",
       "      <th>1</th>\n",
       "      <td>2171295</td>\n",
       "      <td>4422636.0</td>\n",
       "      <td>2016.0</td>\n",
       "      <td>4.0</td>\n",
       "      <td>582.0</td>\n",
       "      <td>582.0</td>\n",
       "      <td>MCA</td>\n",
       "      <td>20567.0</td>\n",
       "      <td>1.0</td>\n",
       "      <td>TX</td>\n",
       "      <td>...</td>\n",
       "      <td>NaN</td>\n",
       "      <td>M</td>\n",
       "      <td>1990.0</td>\n",
       "      <td>10222016</td>\n",
       "      <td>M</td>\n",
       "      <td>NaN</td>\n",
       "      <td>*GA</td>\n",
       "      <td>9.436200e+10</td>\n",
       "      <td>XBLNG</td>\n",
       "      <td>B2</td>\n",
       "    </tr>\n",
       "    <tr>\n",
       "      <th>2</th>\n",
       "      <td>589494</td>\n",
       "      <td>1195600.0</td>\n",
       "      <td>2016.0</td>\n",
       "      <td>4.0</td>\n",
       "      <td>148.0</td>\n",
       "      <td>112.0</td>\n",
       "      <td>OGG</td>\n",
       "      <td>20551.0</td>\n",
       "      <td>1.0</td>\n",
       "      <td>FL</td>\n",
       "      <td>...</td>\n",
       "      <td>NaN</td>\n",
       "      <td>M</td>\n",
       "      <td>1940.0</td>\n",
       "      <td>07052016</td>\n",
       "      <td>M</td>\n",
       "      <td>NaN</td>\n",
       "      <td>LH</td>\n",
       "      <td>5.578047e+10</td>\n",
       "      <td>00464</td>\n",
       "      <td>WT</td>\n",
       "    </tr>\n",
       "    <tr>\n",
       "      <th>3</th>\n",
       "      <td>2631158</td>\n",
       "      <td>5291768.0</td>\n",
       "      <td>2016.0</td>\n",
       "      <td>4.0</td>\n",
       "      <td>297.0</td>\n",
       "      <td>297.0</td>\n",
       "      <td>LOS</td>\n",
       "      <td>20572.0</td>\n",
       "      <td>1.0</td>\n",
       "      <td>CA</td>\n",
       "      <td>...</td>\n",
       "      <td>NaN</td>\n",
       "      <td>M</td>\n",
       "      <td>1991.0</td>\n",
       "      <td>10272016</td>\n",
       "      <td>M</td>\n",
       "      <td>NaN</td>\n",
       "      <td>QR</td>\n",
       "      <td>9.478970e+10</td>\n",
       "      <td>00739</td>\n",
       "      <td>B2</td>\n",
       "    </tr>\n",
       "    <tr>\n",
       "      <th>4</th>\n",
       "      <td>3032257</td>\n",
       "      <td>985523.0</td>\n",
       "      <td>2016.0</td>\n",
       "      <td>4.0</td>\n",
       "      <td>111.0</td>\n",
       "      <td>111.0</td>\n",
       "      <td>CHM</td>\n",
       "      <td>20550.0</td>\n",
       "      <td>3.0</td>\n",
       "      <td>NY</td>\n",
       "      <td>...</td>\n",
       "      <td>NaN</td>\n",
       "      <td>M</td>\n",
       "      <td>1997.0</td>\n",
       "      <td>07042016</td>\n",
       "      <td>F</td>\n",
       "      <td>NaN</td>\n",
       "      <td>NaN</td>\n",
       "      <td>4.232257e+10</td>\n",
       "      <td>LAND</td>\n",
       "      <td>WT</td>\n",
       "    </tr>\n",
       "  </tbody>\n",
       "</table>\n",
       "<p>5 rows × 29 columns</p>\n",
       "</div>"
      ],
      "text/plain": [
       "   Unnamed: 0      cicid   i94yr  i94mon  i94cit  i94res i94port  arrdate  \\\n",
       "0     2027561  4084316.0  2016.0     4.0   209.0   209.0     HHW  20566.0   \n",
       "1     2171295  4422636.0  2016.0     4.0   582.0   582.0     MCA  20567.0   \n",
       "2      589494  1195600.0  2016.0     4.0   148.0   112.0     OGG  20551.0   \n",
       "3     2631158  5291768.0  2016.0     4.0   297.0   297.0     LOS  20572.0   \n",
       "4     3032257   985523.0  2016.0     4.0   111.0   111.0     CHM  20550.0   \n",
       "\n",
       "   i94mode i94addr    ...     entdepu  matflag  biryear   dtaddto  gender  \\\n",
       "0      1.0      HI    ...         NaN        M   1955.0  07202016       F   \n",
       "1      1.0      TX    ...         NaN        M   1990.0  10222016       M   \n",
       "2      1.0      FL    ...         NaN        M   1940.0  07052016       M   \n",
       "3      1.0      CA    ...         NaN        M   1991.0  10272016       M   \n",
       "4      3.0      NY    ...         NaN        M   1997.0  07042016       F   \n",
       "\n",
       "  insnum airline        admnum  fltno  visatype  \n",
       "0    NaN      JL  5.658267e+10  00782        WT  \n",
       "1    NaN     *GA  9.436200e+10  XBLNG        B2  \n",
       "2    NaN      LH  5.578047e+10  00464        WT  \n",
       "3    NaN      QR  9.478970e+10  00739        B2  \n",
       "4    NaN     NaN  4.232257e+10   LAND        WT  \n",
       "\n",
       "[5 rows x 29 columns]"
      ]
     },
     "execution_count": 89,
     "metadata": {},
     "output_type": "execute_result"
    }
   ],
   "source": [
    "immigration_df.head()"
   ]
  },
  {
   "cell_type": "code",
   "execution_count": 90,
   "metadata": {
    "editable": true
   },
   "outputs": [
    {
     "data": {
      "text/plain": [
       "Index(['Unnamed: 0', 'cicid', 'i94yr', 'i94mon', 'i94cit', 'i94res', 'i94port',\n",
       "       'arrdate', 'i94mode', 'i94addr', 'depdate', 'i94bir', 'i94visa',\n",
       "       'count', 'dtadfile', 'visapost', 'occup', 'entdepa', 'entdepd',\n",
       "       'entdepu', 'matflag', 'biryear', 'dtaddto', 'gender', 'insnum',\n",
       "       'airline', 'admnum', 'fltno', 'visatype'],\n",
       "      dtype='object')"
      ]
     },
     "execution_count": 90,
     "metadata": {},
     "output_type": "execute_result"
    }
   ],
   "source": [
    "immigration_df.columns"
   ]
  },
  {
   "cell_type": "code",
   "execution_count": 91,
   "metadata": {
    "editable": true
   },
   "outputs": [
    {
     "data": {
      "text/plain": [
       "(1000, 29)"
      ]
     },
     "execution_count": 91,
     "metadata": {},
     "output_type": "execute_result"
    }
   ],
   "source": [
    "immigration_df.shape"
   ]
  },
  {
   "cell_type": "markdown",
   "metadata": {
    "editable": true
   },
   "source": [
    "**Reading in the whole Immigration dataset** "
   ]
  },
  {
   "cell_type": "markdown",
   "metadata": {
    "editable": true
   },
   "source": [
    "We will be using Spark to work with the large Immigration dataset.\n",
    "\n",
    "Spark has a library which supports the format that the Immigration dataset is in - .sas7bdat.\n"
   ]
  },
  {
   "cell_type": "code",
   "execution_count": 93,
   "metadata": {
    "editable": true
   },
   "outputs": [],
   "source": [
    "from pyspark.sql import SparkSession"
   ]
  },
  {
   "cell_type": "code",
   "execution_count": 94,
   "metadata": {
    "editable": true
   },
   "outputs": [],
   "source": [
    "spark = SparkSession.builder.\\\n",
    "config(\"spark.jars.repositories\", \"https://repos.spark-packages.org/\").\\\n",
    "config(\"spark.jars.packages\", \"saurfang:spark-sas7bdat:2.0.0-s_2.11\").\\\n",
    "enableHiveSupport().getOrCreate()"
   ]
  },
  {
   "cell_type": "markdown",
   "metadata": {
    "editable": true
   },
   "source": [
    "*Reading in the Immigration data for April 2016 into Spark*"
   ]
  },
  {
   "cell_type": "code",
   "execution_count": 95,
   "metadata": {
    "editable": true
   },
   "outputs": [],
   "source": [
    "# Referenced from the following knowledge thread: https://knowledge.udacity.com/questions/437987\n",
    "fname = '../../data/18-83510-I94-Data-2016/i94_apr16_sub.sas7bdat'\n",
    "immigration_df_spark = spark.read.format('com.github.saurfang.sas.spark').load(fname)"
   ]
  },
  {
   "cell_type": "code",
   "execution_count": 96,
   "metadata": {
    "editable": true
   },
   "outputs": [
    {
     "data": {
      "text/plain": [
       "3096313"
      ]
     },
     "execution_count": 96,
     "metadata": {},
     "output_type": "execute_result"
    }
   ],
   "source": [
    "immigration_df_spark.count()"
   ]
  },
  {
   "cell_type": "markdown",
   "metadata": {
    "editable": true
   },
   "source": [
    "We can confirm that the file has been read correctly."
   ]
  },
  {
   "cell_type": "code",
   "execution_count": 97,
   "metadata": {
    "editable": true
   },
   "outputs": [
    {
     "name": "stdout",
     "output_type": "stream",
     "text": [
      "root\n",
      " |-- cicid: double (nullable = true)\n",
      " |-- i94yr: double (nullable = true)\n",
      " |-- i94mon: double (nullable = true)\n",
      " |-- i94cit: double (nullable = true)\n",
      " |-- i94res: double (nullable = true)\n",
      " |-- i94port: string (nullable = true)\n",
      " |-- arrdate: double (nullable = true)\n",
      " |-- i94mode: double (nullable = true)\n",
      " |-- i94addr: string (nullable = true)\n",
      " |-- depdate: double (nullable = true)\n",
      " |-- i94bir: double (nullable = true)\n",
      " |-- i94visa: double (nullable = true)\n",
      " |-- count: double (nullable = true)\n",
      " |-- dtadfile: string (nullable = true)\n",
      " |-- visapost: string (nullable = true)\n",
      " |-- occup: string (nullable = true)\n",
      " |-- entdepa: string (nullable = true)\n",
      " |-- entdepd: string (nullable = true)\n",
      " |-- entdepu: string (nullable = true)\n",
      " |-- matflag: string (nullable = true)\n",
      " |-- biryear: double (nullable = true)\n",
      " |-- dtaddto: string (nullable = true)\n",
      " |-- gender: string (nullable = true)\n",
      " |-- insnum: string (nullable = true)\n",
      " |-- airline: string (nullable = true)\n",
      " |-- admnum: double (nullable = true)\n",
      " |-- fltno: string (nullable = true)\n",
      " |-- visatype: string (nullable = true)\n",
      "\n"
     ]
    }
   ],
   "source": [
    "immigration_df_spark.printSchema()"
   ]
  },
  {
   "cell_type": "code",
   "execution_count": 98,
   "metadata": {
    "editable": true
   },
   "outputs": [
    {
     "name": "stdout",
     "output_type": "stream",
     "text": [
      "+-----+------+------+------+------+-------+-------+-------+-------+-------+------+-------+-----+--------+--------+-----+-------+-------+-------+-------+-------+--------+------+------+-------+--------------+-----+--------+\n",
      "|cicid| i94yr|i94mon|i94cit|i94res|i94port|arrdate|i94mode|i94addr|depdate|i94bir|i94visa|count|dtadfile|visapost|occup|entdepa|entdepd|entdepu|matflag|biryear| dtaddto|gender|insnum|airline|        admnum|fltno|visatype|\n",
      "+-----+------+------+------+------+-------+-------+-------+-------+-------+------+-------+-----+--------+--------+-----+-------+-------+-------+-------+-------+--------+------+------+-------+--------------+-----+--------+\n",
      "|  6.0|2016.0|   4.0| 692.0| 692.0|    XXX|20573.0|   null|   null|   null|  37.0|    2.0|  1.0|    null|    null| null|      T|   null|      U|   null| 1979.0|10282016|  null|  null|   null| 1.897628485E9| null|      B2|\n",
      "|  7.0|2016.0|   4.0| 254.0| 276.0|    ATL|20551.0|    1.0|     AL|   null|  25.0|    3.0|  1.0|20130811|     SEO| null|      G|   null|      Y|   null| 1991.0|     D/S|     M|  null|   null|  3.73679633E9|00296|      F1|\n",
      "| 15.0|2016.0|   4.0| 101.0| 101.0|    WAS|20545.0|    1.0|     MI|20691.0|  55.0|    2.0|  1.0|20160401|    null| null|      T|      O|   null|      M| 1961.0|09302016|     M|  null|     OS|  6.66643185E8|   93|      B2|\n",
      "| 16.0|2016.0|   4.0| 101.0| 101.0|    NYC|20545.0|    1.0|     MA|20567.0|  28.0|    2.0|  1.0|20160401|    null| null|      O|      O|   null|      M| 1988.0|09302016|  null|  null|     AA|9.246846133E10|00199|      B2|\n",
      "| 17.0|2016.0|   4.0| 101.0| 101.0|    NYC|20545.0|    1.0|     MA|20567.0|   4.0|    2.0|  1.0|20160401|    null| null|      O|      O|   null|      M| 2012.0|09302016|  null|  null|     AA|9.246846313E10|00199|      B2|\n",
      "| 18.0|2016.0|   4.0| 101.0| 101.0|    NYC|20545.0|    1.0|     MI|20555.0|  57.0|    1.0|  1.0|20160401|    null| null|      O|      O|   null|      M| 1959.0|09302016|  null|  null|     AZ|9.247103803E10|00602|      B1|\n",
      "| 19.0|2016.0|   4.0| 101.0| 101.0|    NYC|20545.0|    1.0|     NJ|20558.0|  63.0|    2.0|  1.0|20160401|    null| null|      O|      K|   null|      M| 1953.0|09302016|  null|  null|     AZ|9.247139923E10|00602|      B2|\n",
      "| 20.0|2016.0|   4.0| 101.0| 101.0|    NYC|20545.0|    1.0|     NJ|20558.0|  57.0|    2.0|  1.0|20160401|    null| null|      O|      K|   null|      M| 1959.0|09302016|  null|  null|     AZ|9.247161383E10|00602|      B2|\n",
      "| 21.0|2016.0|   4.0| 101.0| 101.0|    NYC|20545.0|    1.0|     NY|20553.0|  46.0|    2.0|  1.0|20160401|    null| null|      O|      O|   null|      M| 1970.0|09302016|  null|  null|     AZ|9.247079603E10|00602|      B2|\n",
      "| 22.0|2016.0|   4.0| 101.0| 101.0|    NYC|20545.0|    1.0|     NY|20562.0|  48.0|    1.0|  1.0|20160401|    null| null|      O|      O|   null|      M| 1968.0|09302016|  null|  null|     AZ|9.247848973E10|00608|      B1|\n",
      "| 23.0|2016.0|   4.0| 101.0| 101.0|    NYC|20545.0|    1.0|     NY|20671.0|  52.0|    2.0|  1.0|20160401|    null| null|      O|      O|   null|      M| 1964.0|09302016|  null|  null|     TK|9.250139443E10|00001|      B2|\n",
      "| 24.0|2016.0|   4.0| 101.0| 101.0|    TOR|20545.0|    1.0|     MO|20554.0|  33.0|    2.0|  1.0|20160401|    null| null|      O|      O|   null|      M| 1983.0|09302016|  null|  null|     MQ|9.249090503E10|03348|      B2|\n",
      "| 27.0|2016.0|   4.0| 101.0| 101.0|    BOS|20545.0|    1.0|     MA|20549.0|  58.0|    1.0|  1.0|20160401|     TIA| null|      G|      O|   null|      M| 1958.0|04062016|     M|  null|     LH|9.247876383E10|00422|      B1|\n",
      "| 28.0|2016.0|   4.0| 101.0| 101.0|    ATL|20545.0|    1.0|     MA|20549.0|  56.0|    1.0|  1.0|20160401|     TIA| null|      G|      O|   null|      M| 1960.0|04062016|     F|  null|     LH|9.247890033E10|00422|      B1|\n",
      "| 29.0|2016.0|   4.0| 101.0| 101.0|    ATL|20545.0|    1.0|     MA|20561.0|  62.0|    2.0|  1.0|20160401|     TIA| null|      G|      O|   null|      M| 1954.0|09302016|     M|  null|     AZ|9.250378143E10|00614|      B2|\n",
      "| 30.0|2016.0|   4.0| 101.0| 101.0|    ATL|20545.0|    1.0|     NJ|20578.0|  49.0|    2.0|  1.0|20160401|     TIA| null|      G|      O|   null|      M| 1967.0|09302016|     M|  null|     OS|9.247020943E10|00089|      B2|\n",
      "| 31.0|2016.0|   4.0| 101.0| 101.0|    ATL|20545.0|    1.0|     NY|20611.0|  43.0|    2.0|  1.0|20160401|     TIA| null|      G|      O|   null|      M| 1973.0|09302016|     M|  null|     OS|9.247128923E10|00089|      B2|\n",
      "| 33.0|2016.0|   4.0| 101.0| 101.0|    HOU|20545.0|    1.0|     TX|20554.0|  53.0|    2.0|  1.0|20160401|     TIA| null|      G|      O|   null|      M| 1963.0|09302016|     F|  null|     TK|9.250930163E10|00033|      B2|\n",
      "| 34.0|2016.0|   4.0| 101.0| 101.0|    NYC|20545.0|    1.0|     CT|   null|  48.0|    2.0|  1.0|20160401|     TIA| null|      G|   null|   null|   null| 1968.0|09302016|     M|  null|     AZ|9.247042023E10|00602|      B2|\n",
      "| 35.0|2016.0|   4.0| 101.0| 101.0|    NYC|20545.0|    1.0|     CT|   null|  74.0|    2.0|  1.0|20160401|     TIA| null|      T|   null|   null|   null| 1942.0|09302016|     F|  null|     TK|  6.69712185E8|    1|      B2|\n",
      "+-----+------+------+------+------+-------+-------+-------+-------+-------+------+-------+-----+--------+--------+-----+-------+-------+-------+-------+-------+--------+------+------+-------+--------------+-----+--------+\n",
      "only showing top 20 rows\n",
      "\n"
     ]
    }
   ],
   "source": [
    "immigration_df_spark.show()"
   ]
  },
  {
   "cell_type": "code",
   "execution_count": null,
   "metadata": {
    "editable": true
   },
   "outputs": [],
   "source": []
  },
  {
   "cell_type": "code",
   "execution_count": 11,
   "metadata": {
    "editable": true
   },
   "outputs": [],
   "source": []
  },
  {
   "cell_type": "code",
   "execution_count": null,
   "metadata": {
    "editable": true
   },
   "outputs": [],
   "source": []
  },
  {
   "cell_type": "code",
   "execution_count": null,
   "metadata": {
    "editable": true
   },
   "outputs": [],
   "source": []
  },
  {
   "cell_type": "code",
   "execution_count": null,
   "metadata": {
    "editable": true
   },
   "outputs": [],
   "source": []
  },
  {
   "cell_type": "code",
   "execution_count": null,
   "metadata": {
    "editable": true
   },
   "outputs": [],
   "source": []
  },
  {
   "cell_type": "code",
   "execution_count": null,
   "metadata": {
    "editable": true
   },
   "outputs": [],
   "source": [
    "# write to parquet\n",
    "immigration_df_spark.write.parquet(\"sas_data\")\n",
    "immigration_df_spark=spark.read.parquet(\"sas_data\")"
   ]
  },
  {
   "cell_type": "markdown",
   "metadata": {
    "editable": true
   },
   "source": [
    "### Airport Codes Data\n",
    "----------"
   ]
  },
  {
   "cell_type": "code",
   "execution_count": 62,
   "metadata": {
    "editable": true
   },
   "outputs": [],
   "source": [
    "airport_codes_df = pd.read_csv('airport-codes_csv.csv')"
   ]
  },
  {
   "cell_type": "code",
   "execution_count": 63,
   "metadata": {
    "editable": true
   },
   "outputs": [
    {
     "data": {
      "text/plain": [
       "(55075, 12)"
      ]
     },
     "execution_count": 63,
     "metadata": {},
     "output_type": "execute_result"
    }
   ],
   "source": [
    "airport_codes_df.shape"
   ]
  },
  {
   "cell_type": "code",
   "execution_count": 64,
   "metadata": {
    "editable": true
   },
   "outputs": [
    {
     "data": {
      "text/plain": [
       "ident            object\n",
       "type             object\n",
       "name             object\n",
       "elevation_ft    float64\n",
       "continent        object\n",
       "iso_country      object\n",
       "iso_region       object\n",
       "municipality     object\n",
       "gps_code         object\n",
       "iata_code        object\n",
       "local_code       object\n",
       "coordinates      object\n",
       "dtype: object"
      ]
     },
     "execution_count": 64,
     "metadata": {},
     "output_type": "execute_result"
    }
   ],
   "source": [
    "airport_codes_df.dtypes"
   ]
  },
  {
   "cell_type": "code",
   "execution_count": 65,
   "metadata": {
    "editable": true
   },
   "outputs": [
    {
     "data": {
      "text/plain": [
       "Index(['ident', 'type', 'name', 'elevation_ft', 'continent', 'iso_country',\n",
       "       'iso_region', 'municipality', 'gps_code', 'iata_code', 'local_code',\n",
       "       'coordinates'],\n",
       "      dtype='object')"
      ]
     },
     "execution_count": 65,
     "metadata": {},
     "output_type": "execute_result"
    }
   ],
   "source": [
    "airport_codes_df.columns"
   ]
  },
  {
   "cell_type": "code",
   "execution_count": 66,
   "metadata": {
    "editable": true
   },
   "outputs": [
    {
     "data": {
      "text/html": [
       "<div>\n",
       "<style scoped>\n",
       "    .dataframe tbody tr th:only-of-type {\n",
       "        vertical-align: middle;\n",
       "    }\n",
       "\n",
       "    .dataframe tbody tr th {\n",
       "        vertical-align: top;\n",
       "    }\n",
       "\n",
       "    .dataframe thead th {\n",
       "        text-align: right;\n",
       "    }\n",
       "</style>\n",
       "<table border=\"1\" class=\"dataframe\">\n",
       "  <thead>\n",
       "    <tr style=\"text-align: right;\">\n",
       "      <th></th>\n",
       "      <th>ident</th>\n",
       "      <th>type</th>\n",
       "      <th>name</th>\n",
       "      <th>elevation_ft</th>\n",
       "      <th>continent</th>\n",
       "      <th>iso_country</th>\n",
       "      <th>iso_region</th>\n",
       "      <th>municipality</th>\n",
       "      <th>gps_code</th>\n",
       "      <th>iata_code</th>\n",
       "      <th>local_code</th>\n",
       "      <th>coordinates</th>\n",
       "    </tr>\n",
       "  </thead>\n",
       "  <tbody>\n",
       "    <tr>\n",
       "      <th>0</th>\n",
       "      <td>00A</td>\n",
       "      <td>heliport</td>\n",
       "      <td>Total Rf Heliport</td>\n",
       "      <td>11.0</td>\n",
       "      <td>NaN</td>\n",
       "      <td>US</td>\n",
       "      <td>US-PA</td>\n",
       "      <td>Bensalem</td>\n",
       "      <td>00A</td>\n",
       "      <td>NaN</td>\n",
       "      <td>00A</td>\n",
       "      <td>-74.93360137939453, 40.07080078125</td>\n",
       "    </tr>\n",
       "    <tr>\n",
       "      <th>1</th>\n",
       "      <td>00AA</td>\n",
       "      <td>small_airport</td>\n",
       "      <td>Aero B Ranch Airport</td>\n",
       "      <td>3435.0</td>\n",
       "      <td>NaN</td>\n",
       "      <td>US</td>\n",
       "      <td>US-KS</td>\n",
       "      <td>Leoti</td>\n",
       "      <td>00AA</td>\n",
       "      <td>NaN</td>\n",
       "      <td>00AA</td>\n",
       "      <td>-101.473911, 38.704022</td>\n",
       "    </tr>\n",
       "    <tr>\n",
       "      <th>2</th>\n",
       "      <td>00AK</td>\n",
       "      <td>small_airport</td>\n",
       "      <td>Lowell Field</td>\n",
       "      <td>450.0</td>\n",
       "      <td>NaN</td>\n",
       "      <td>US</td>\n",
       "      <td>US-AK</td>\n",
       "      <td>Anchor Point</td>\n",
       "      <td>00AK</td>\n",
       "      <td>NaN</td>\n",
       "      <td>00AK</td>\n",
       "      <td>-151.695999146, 59.94919968</td>\n",
       "    </tr>\n",
       "    <tr>\n",
       "      <th>3</th>\n",
       "      <td>00AL</td>\n",
       "      <td>small_airport</td>\n",
       "      <td>Epps Airpark</td>\n",
       "      <td>820.0</td>\n",
       "      <td>NaN</td>\n",
       "      <td>US</td>\n",
       "      <td>US-AL</td>\n",
       "      <td>Harvest</td>\n",
       "      <td>00AL</td>\n",
       "      <td>NaN</td>\n",
       "      <td>00AL</td>\n",
       "      <td>-86.77030181884766, 34.86479949951172</td>\n",
       "    </tr>\n",
       "    <tr>\n",
       "      <th>4</th>\n",
       "      <td>00AR</td>\n",
       "      <td>closed</td>\n",
       "      <td>Newport Hospital &amp; Clinic Heliport</td>\n",
       "      <td>237.0</td>\n",
       "      <td>NaN</td>\n",
       "      <td>US</td>\n",
       "      <td>US-AR</td>\n",
       "      <td>Newport</td>\n",
       "      <td>NaN</td>\n",
       "      <td>NaN</td>\n",
       "      <td>NaN</td>\n",
       "      <td>-91.254898, 35.6087</td>\n",
       "    </tr>\n",
       "  </tbody>\n",
       "</table>\n",
       "</div>"
      ],
      "text/plain": [
       "  ident           type                                name  elevation_ft  \\\n",
       "0   00A       heliport                   Total Rf Heliport          11.0   \n",
       "1  00AA  small_airport                Aero B Ranch Airport        3435.0   \n",
       "2  00AK  small_airport                        Lowell Field         450.0   \n",
       "3  00AL  small_airport                        Epps Airpark         820.0   \n",
       "4  00AR         closed  Newport Hospital & Clinic Heliport         237.0   \n",
       "\n",
       "  continent iso_country iso_region  municipality gps_code iata_code  \\\n",
       "0       NaN          US      US-PA      Bensalem      00A       NaN   \n",
       "1       NaN          US      US-KS         Leoti     00AA       NaN   \n",
       "2       NaN          US      US-AK  Anchor Point     00AK       NaN   \n",
       "3       NaN          US      US-AL       Harvest     00AL       NaN   \n",
       "4       NaN          US      US-AR       Newport      NaN       NaN   \n",
       "\n",
       "  local_code                            coordinates  \n",
       "0        00A     -74.93360137939453, 40.07080078125  \n",
       "1       00AA                 -101.473911, 38.704022  \n",
       "2       00AK            -151.695999146, 59.94919968  \n",
       "3       00AL  -86.77030181884766, 34.86479949951172  \n",
       "4        NaN                    -91.254898, 35.6087  "
      ]
     },
     "execution_count": 66,
     "metadata": {},
     "output_type": "execute_result"
    }
   ],
   "source": [
    "airport_codes_df.head()"
   ]
  },
  {
   "cell_type": "code",
   "execution_count": 67,
   "metadata": {
    "editable": true
   },
   "outputs": [
    {
     "data": {
      "text/plain": [
       "243"
      ]
     },
     "execution_count": 67,
     "metadata": {},
     "output_type": "execute_result"
    }
   ],
   "source": [
    "airport_codes_df['iso_country'].nunique()"
   ]
  },
  {
   "cell_type": "markdown",
   "metadata": {
    "editable": true
   },
   "source": [
    "This dataset contains data for multiple countries. \n",
    "\n",
    "We will be dropping data for any country that is not the U.S. - this is because the Immigration dataset we will be using refers to immigration into the U.s. only."
   ]
  },
  {
   "cell_type": "code",
   "execution_count": 68,
   "metadata": {
    "editable": true
   },
   "outputs": [],
   "source": [
    "# Filtering the dataset so we only have airport data for the U.S.\n",
    "\n",
    "us_airports_df = airport_codes_df[airport_codes_df['iso_country'] == 'US']"
   ]
  },
  {
   "cell_type": "code",
   "execution_count": 69,
   "metadata": {
    "editable": true
   },
   "outputs": [
    {
     "data": {
      "text/plain": [
       "(22757, 12)"
      ]
     },
     "execution_count": 69,
     "metadata": {},
     "output_type": "execute_result"
    }
   ],
   "source": [
    "us_airports_df.shape"
   ]
  },
  {
   "cell_type": "markdown",
   "metadata": {
    "editable": true
   },
   "source": [
    "Filtering the dataset for 'iso_country' == 'US' has reduced the number of rows by approximately half."
   ]
  },
  {
   "cell_type": "markdown",
   "metadata": {
    "editable": true
   },
   "source": [
    "**Checking for NaN Values**"
   ]
  },
  {
   "cell_type": "code",
   "execution_count": 70,
   "metadata": {
    "editable": true
   },
   "outputs": [
    {
     "data": {
      "text/plain": [
       "True"
      ]
     },
     "execution_count": 70,
     "metadata": {},
     "output_type": "execute_result"
    }
   ],
   "source": [
    "us_airports_df.isnull().values.any()"
   ]
  },
  {
   "cell_type": "code",
   "execution_count": 71,
   "metadata": {
    "editable": true
   },
   "outputs": [
    {
     "data": {
      "text/plain": [
       "ident               0\n",
       "type                0\n",
       "name                0\n",
       "elevation_ft      239\n",
       "continent       22756\n",
       "iso_country         0\n",
       "iso_region          0\n",
       "municipality      102\n",
       "gps_code         1773\n",
       "iata_code       20738\n",
       "local_code       1521\n",
       "coordinates         0\n",
       "dtype: int64"
      ]
     },
     "execution_count": 71,
     "metadata": {},
     "output_type": "execute_result"
    }
   ],
   "source": [
    "us_airports_df.isnull().sum()"
   ]
  },
  {
   "cell_type": "code",
   "execution_count": 72,
   "metadata": {
    "editable": true
   },
   "outputs": [
    {
     "data": {
      "text/html": [
       "<div>\n",
       "<style scoped>\n",
       "    .dataframe tbody tr th:only-of-type {\n",
       "        vertical-align: middle;\n",
       "    }\n",
       "\n",
       "    .dataframe tbody tr th {\n",
       "        vertical-align: top;\n",
       "    }\n",
       "\n",
       "    .dataframe thead th {\n",
       "        text-align: right;\n",
       "    }\n",
       "</style>\n",
       "<table border=\"1\" class=\"dataframe\">\n",
       "  <thead>\n",
       "    <tr style=\"text-align: right;\">\n",
       "      <th></th>\n",
       "      <th>ident</th>\n",
       "      <th>type</th>\n",
       "      <th>name</th>\n",
       "      <th>elevation_ft</th>\n",
       "      <th>continent</th>\n",
       "      <th>iso_country</th>\n",
       "      <th>iso_region</th>\n",
       "      <th>municipality</th>\n",
       "      <th>gps_code</th>\n",
       "      <th>iata_code</th>\n",
       "      <th>local_code</th>\n",
       "      <th>coordinates</th>\n",
       "    </tr>\n",
       "  </thead>\n",
       "  <tbody>\n",
       "    <tr>\n",
       "      <th>0</th>\n",
       "      <td>00A</td>\n",
       "      <td>heliport</td>\n",
       "      <td>Total Rf Heliport</td>\n",
       "      <td>11.0</td>\n",
       "      <td>NaN</td>\n",
       "      <td>US</td>\n",
       "      <td>US-PA</td>\n",
       "      <td>Bensalem</td>\n",
       "      <td>00A</td>\n",
       "      <td>NaN</td>\n",
       "      <td>00A</td>\n",
       "      <td>-74.93360137939453, 40.07080078125</td>\n",
       "    </tr>\n",
       "    <tr>\n",
       "      <th>1</th>\n",
       "      <td>00AA</td>\n",
       "      <td>small_airport</td>\n",
       "      <td>Aero B Ranch Airport</td>\n",
       "      <td>3435.0</td>\n",
       "      <td>NaN</td>\n",
       "      <td>US</td>\n",
       "      <td>US-KS</td>\n",
       "      <td>Leoti</td>\n",
       "      <td>00AA</td>\n",
       "      <td>NaN</td>\n",
       "      <td>00AA</td>\n",
       "      <td>-101.473911, 38.704022</td>\n",
       "    </tr>\n",
       "    <tr>\n",
       "      <th>2</th>\n",
       "      <td>00AK</td>\n",
       "      <td>small_airport</td>\n",
       "      <td>Lowell Field</td>\n",
       "      <td>450.0</td>\n",
       "      <td>NaN</td>\n",
       "      <td>US</td>\n",
       "      <td>US-AK</td>\n",
       "      <td>Anchor Point</td>\n",
       "      <td>00AK</td>\n",
       "      <td>NaN</td>\n",
       "      <td>00AK</td>\n",
       "      <td>-151.695999146, 59.94919968</td>\n",
       "    </tr>\n",
       "    <tr>\n",
       "      <th>3</th>\n",
       "      <td>00AL</td>\n",
       "      <td>small_airport</td>\n",
       "      <td>Epps Airpark</td>\n",
       "      <td>820.0</td>\n",
       "      <td>NaN</td>\n",
       "      <td>US</td>\n",
       "      <td>US-AL</td>\n",
       "      <td>Harvest</td>\n",
       "      <td>00AL</td>\n",
       "      <td>NaN</td>\n",
       "      <td>00AL</td>\n",
       "      <td>-86.77030181884766, 34.86479949951172</td>\n",
       "    </tr>\n",
       "    <tr>\n",
       "      <th>4</th>\n",
       "      <td>00AR</td>\n",
       "      <td>closed</td>\n",
       "      <td>Newport Hospital &amp; Clinic Heliport</td>\n",
       "      <td>237.0</td>\n",
       "      <td>NaN</td>\n",
       "      <td>US</td>\n",
       "      <td>US-AR</td>\n",
       "      <td>Newport</td>\n",
       "      <td>NaN</td>\n",
       "      <td>NaN</td>\n",
       "      <td>NaN</td>\n",
       "      <td>-91.254898, 35.6087</td>\n",
       "    </tr>\n",
       "  </tbody>\n",
       "</table>\n",
       "</div>"
      ],
      "text/plain": [
       "  ident           type                                name  elevation_ft  \\\n",
       "0   00A       heliport                   Total Rf Heliport          11.0   \n",
       "1  00AA  small_airport                Aero B Ranch Airport        3435.0   \n",
       "2  00AK  small_airport                        Lowell Field         450.0   \n",
       "3  00AL  small_airport                        Epps Airpark         820.0   \n",
       "4  00AR         closed  Newport Hospital & Clinic Heliport         237.0   \n",
       "\n",
       "  continent iso_country iso_region  municipality gps_code iata_code  \\\n",
       "0       NaN          US      US-PA      Bensalem      00A       NaN   \n",
       "1       NaN          US      US-KS         Leoti     00AA       NaN   \n",
       "2       NaN          US      US-AK  Anchor Point     00AK       NaN   \n",
       "3       NaN          US      US-AL       Harvest     00AL       NaN   \n",
       "4       NaN          US      US-AR       Newport      NaN       NaN   \n",
       "\n",
       "  local_code                            coordinates  \n",
       "0        00A     -74.93360137939453, 40.07080078125  \n",
       "1       00AA                 -101.473911, 38.704022  \n",
       "2       00AK            -151.695999146, 59.94919968  \n",
       "3       00AL  -86.77030181884766, 34.86479949951172  \n",
       "4        NaN                    -91.254898, 35.6087  "
      ]
     },
     "execution_count": 72,
     "metadata": {},
     "output_type": "execute_result"
    }
   ],
   "source": [
    "us_airports_df.head()"
   ]
  },
  {
   "cell_type": "markdown",
   "metadata": {
    "editable": true
   },
   "source": [
    "**Checking for duplicates**"
   ]
  },
  {
   "cell_type": "code",
   "execution_count": 73,
   "metadata": {
    "editable": true
   },
   "outputs": [
    {
     "data": {
      "text/plain": [
       "0"
      ]
     },
     "execution_count": 73,
     "metadata": {},
     "output_type": "execute_result"
    }
   ],
   "source": [
    "us_airports_df.duplicated().sum()"
   ]
  },
  {
   "cell_type": "markdown",
   "metadata": {
    "editable": true
   },
   "source": [
    "Dropping rows and columns"
   ]
  },
  {
   "cell_type": "code",
   "execution_count": 74,
   "metadata": {
    "editable": true
   },
   "outputs": [],
   "source": [
    "us_airports_df = us_airports_df.drop(['elevation_ft', 'continent', 'gps_code', 'local_code', 'coordinates'], axis=1)"
   ]
  },
  {
   "cell_type": "code",
   "execution_count": 75,
   "metadata": {
    "editable": true
   },
   "outputs": [
    {
     "data": {
      "text/plain": [
       "Index(['ident', 'type', 'name', 'iso_country', 'iso_region', 'municipality',\n",
       "       'iata_code'],\n",
       "      dtype='object')"
      ]
     },
     "execution_count": 75,
     "metadata": {},
     "output_type": "execute_result"
    }
   ],
   "source": [
    "us_airports_df.columns"
   ]
  },
  {
   "cell_type": "code",
   "execution_count": 78,
   "metadata": {
    "editable": true
   },
   "outputs": [
    {
     "data": {
      "text/html": [
       "<div>\n",
       "<style scoped>\n",
       "    .dataframe tbody tr th:only-of-type {\n",
       "        vertical-align: middle;\n",
       "    }\n",
       "\n",
       "    .dataframe tbody tr th {\n",
       "        vertical-align: top;\n",
       "    }\n",
       "\n",
       "    .dataframe thead th {\n",
       "        text-align: right;\n",
       "    }\n",
       "</style>\n",
       "<table border=\"1\" class=\"dataframe\">\n",
       "  <thead>\n",
       "    <tr style=\"text-align: right;\">\n",
       "      <th></th>\n",
       "      <th>ident</th>\n",
       "      <th>type</th>\n",
       "      <th>name</th>\n",
       "      <th>iso_country</th>\n",
       "      <th>iso_region</th>\n",
       "      <th>municipality</th>\n",
       "      <th>iata_code</th>\n",
       "    </tr>\n",
       "  </thead>\n",
       "  <tbody>\n",
       "    <tr>\n",
       "      <th>440</th>\n",
       "      <td>07FA</td>\n",
       "      <td>small_airport</td>\n",
       "      <td>Ocean Reef Club Airport</td>\n",
       "      <td>US</td>\n",
       "      <td>US-FL</td>\n",
       "      <td>Key Largo</td>\n",
       "      <td>OCA</td>\n",
       "    </tr>\n",
       "    <tr>\n",
       "      <th>594</th>\n",
       "      <td>0AK</td>\n",
       "      <td>small_airport</td>\n",
       "      <td>Pilot Station Airport</td>\n",
       "      <td>US</td>\n",
       "      <td>US-AK</td>\n",
       "      <td>Pilot Station</td>\n",
       "      <td>PQS</td>\n",
       "    </tr>\n",
       "    <tr>\n",
       "      <th>673</th>\n",
       "      <td>0CO2</td>\n",
       "      <td>small_airport</td>\n",
       "      <td>Crested Butte Airpark</td>\n",
       "      <td>US</td>\n",
       "      <td>US-CO</td>\n",
       "      <td>Crested Butte</td>\n",
       "      <td>CSE</td>\n",
       "    </tr>\n",
       "    <tr>\n",
       "      <th>1088</th>\n",
       "      <td>0TE7</td>\n",
       "      <td>small_airport</td>\n",
       "      <td>LBJ Ranch Airport</td>\n",
       "      <td>US</td>\n",
       "      <td>US-TX</td>\n",
       "      <td>Johnson City</td>\n",
       "      <td>JCY</td>\n",
       "    </tr>\n",
       "    <tr>\n",
       "      <th>1402</th>\n",
       "      <td>13MA</td>\n",
       "      <td>small_airport</td>\n",
       "      <td>Metropolitan Airport</td>\n",
       "      <td>US</td>\n",
       "      <td>US-MA</td>\n",
       "      <td>Palmer</td>\n",
       "      <td>PMX</td>\n",
       "    </tr>\n",
       "  </tbody>\n",
       "</table>\n",
       "</div>"
      ],
      "text/plain": [
       "     ident           type                     name iso_country iso_region  \\\n",
       "440   07FA  small_airport  Ocean Reef Club Airport          US      US-FL   \n",
       "594    0AK  small_airport    Pilot Station Airport          US      US-AK   \n",
       "673   0CO2  small_airport    Crested Butte Airpark          US      US-CO   \n",
       "1088  0TE7  small_airport        LBJ Ranch Airport          US      US-TX   \n",
       "1402  13MA  small_airport     Metropolitan Airport          US      US-MA   \n",
       "\n",
       "       municipality iata_code  \n",
       "440       Key Largo       OCA  \n",
       "594   Pilot Station       PQS  \n",
       "673   Crested Butte       CSE  \n",
       "1088   Johnson City       JCY  \n",
       "1402         Palmer       PMX  "
      ]
     },
     "execution_count": 78,
     "metadata": {},
     "output_type": "execute_result"
    }
   ],
   "source": [
    "us_airports_df.head()"
   ]
  },
  {
   "cell_type": "code",
   "execution_count": 80,
   "metadata": {
    "editable": true
   },
   "outputs": [],
   "source": [
    "us_airport_df_final = us_airports_df.dropna(subset=[\"iata_code\"])"
   ]
  },
  {
   "cell_type": "code",
   "execution_count": 81,
   "metadata": {
    "editable": true
   },
   "outputs": [
    {
     "data": {
      "text/html": [
       "<div>\n",
       "<style scoped>\n",
       "    .dataframe tbody tr th:only-of-type {\n",
       "        vertical-align: middle;\n",
       "    }\n",
       "\n",
       "    .dataframe tbody tr th {\n",
       "        vertical-align: top;\n",
       "    }\n",
       "\n",
       "    .dataframe thead th {\n",
       "        text-align: right;\n",
       "    }\n",
       "</style>\n",
       "<table border=\"1\" class=\"dataframe\">\n",
       "  <thead>\n",
       "    <tr style=\"text-align: right;\">\n",
       "      <th></th>\n",
       "      <th>ident</th>\n",
       "      <th>type</th>\n",
       "      <th>name</th>\n",
       "      <th>iso_country</th>\n",
       "      <th>iso_region</th>\n",
       "      <th>municipality</th>\n",
       "      <th>iata_code</th>\n",
       "    </tr>\n",
       "  </thead>\n",
       "  <tbody>\n",
       "    <tr>\n",
       "      <th>440</th>\n",
       "      <td>07FA</td>\n",
       "      <td>small_airport</td>\n",
       "      <td>Ocean Reef Club Airport</td>\n",
       "      <td>US</td>\n",
       "      <td>US-FL</td>\n",
       "      <td>Key Largo</td>\n",
       "      <td>OCA</td>\n",
       "    </tr>\n",
       "    <tr>\n",
       "      <th>594</th>\n",
       "      <td>0AK</td>\n",
       "      <td>small_airport</td>\n",
       "      <td>Pilot Station Airport</td>\n",
       "      <td>US</td>\n",
       "      <td>US-AK</td>\n",
       "      <td>Pilot Station</td>\n",
       "      <td>PQS</td>\n",
       "    </tr>\n",
       "    <tr>\n",
       "      <th>673</th>\n",
       "      <td>0CO2</td>\n",
       "      <td>small_airport</td>\n",
       "      <td>Crested Butte Airpark</td>\n",
       "      <td>US</td>\n",
       "      <td>US-CO</td>\n",
       "      <td>Crested Butte</td>\n",
       "      <td>CSE</td>\n",
       "    </tr>\n",
       "    <tr>\n",
       "      <th>1088</th>\n",
       "      <td>0TE7</td>\n",
       "      <td>small_airport</td>\n",
       "      <td>LBJ Ranch Airport</td>\n",
       "      <td>US</td>\n",
       "      <td>US-TX</td>\n",
       "      <td>Johnson City</td>\n",
       "      <td>JCY</td>\n",
       "    </tr>\n",
       "    <tr>\n",
       "      <th>1402</th>\n",
       "      <td>13MA</td>\n",
       "      <td>small_airport</td>\n",
       "      <td>Metropolitan Airport</td>\n",
       "      <td>US</td>\n",
       "      <td>US-MA</td>\n",
       "      <td>Palmer</td>\n",
       "      <td>PMX</td>\n",
       "    </tr>\n",
       "  </tbody>\n",
       "</table>\n",
       "</div>"
      ],
      "text/plain": [
       "     ident           type                     name iso_country iso_region  \\\n",
       "440   07FA  small_airport  Ocean Reef Club Airport          US      US-FL   \n",
       "594    0AK  small_airport    Pilot Station Airport          US      US-AK   \n",
       "673   0CO2  small_airport    Crested Butte Airpark          US      US-CO   \n",
       "1088  0TE7  small_airport        LBJ Ranch Airport          US      US-TX   \n",
       "1402  13MA  small_airport     Metropolitan Airport          US      US-MA   \n",
       "\n",
       "       municipality iata_code  \n",
       "440       Key Largo       OCA  \n",
       "594   Pilot Station       PQS  \n",
       "673   Crested Butte       CSE  \n",
       "1088   Johnson City       JCY  \n",
       "1402         Palmer       PMX  "
      ]
     },
     "execution_count": 81,
     "metadata": {},
     "output_type": "execute_result"
    }
   ],
   "source": [
    "us_airport_df_final.head()"
   ]
  },
  {
   "cell_type": "code",
   "execution_count": 82,
   "metadata": {
    "editable": true
   },
   "outputs": [
    {
     "data": {
      "text/plain": [
       "(2019, 7)"
      ]
     },
     "execution_count": 82,
     "metadata": {},
     "output_type": "execute_result"
    }
   ],
   "source": [
    "us_airport_df_final.shape"
   ]
  },
  {
   "cell_type": "markdown",
   "metadata": {
    "editable": true
   },
   "source": [
    "Removing the missing iata_code data has reduced the number of rows to 2019"
   ]
  },
  {
   "cell_type": "code",
   "execution_count": 83,
   "metadata": {
    "editable": true
   },
   "outputs": [
    {
     "data": {
      "text/plain": [
       "ident           0\n",
       "type            0\n",
       "name            0\n",
       "iso_country     0\n",
       "iso_region      0\n",
       "municipality    6\n",
       "iata_code       0\n",
       "dtype: int64"
      ]
     },
     "execution_count": 83,
     "metadata": {},
     "output_type": "execute_result"
    }
   ],
   "source": [
    "us_airport_df_final.isnull().sum()"
   ]
  },
  {
   "cell_type": "markdown",
   "metadata": {
    "editable": true
   },
   "source": [
    "Renaming columns"
   ]
  },
  {
   "cell_type": "code",
   "execution_count": 84,
   "metadata": {
    "editable": true
   },
   "outputs": [
    {
     "data": {
      "text/plain": [
       "Index(['ident', 'airport_type', 'airport_name', 'iso_country', 'iso_region',\n",
       "       'municipality', 'iata_code'],\n",
       "      dtype='object')"
      ]
     },
     "execution_count": 84,
     "metadata": {},
     "output_type": "execute_result"
    }
   ],
   "source": [
    "us_airport_df_final.rename(columns={'type': 'airport_type', 'name': 'airport_name'}, inplace=True)\n",
    "us_airport_df_final.columns"
   ]
  },
  {
   "cell_type": "code",
   "execution_count": 85,
   "metadata": {
    "editable": true
   },
   "outputs": [],
   "source": [
    "# Saving to CSV\n",
    "us_airport_df_final.to_csv(\"us_airports_clean.csv\", index=False)"
   ]
  },
  {
   "cell_type": "markdown",
   "metadata": {
    "editable": true
   },
   "source": [
    "### Temperature Data\n",
    "-------"
   ]
  },
  {
   "cell_type": "markdown",
   "metadata": {
    "editable": true
   },
   "source": [
    "1. Check dataset\n",
    "2. Convert date to a datetime object\n",
    "3. Drop rows with NaN values and check for duplicate rows\n",
    "4. Drop unecessary columns\n",
    "5. Filter for U.S data only\n",
    "6. Rename columns\n",
    "7. Add port code from the SAS text file"
   ]
  },
  {
   "cell_type": "code",
   "execution_count": 3,
   "metadata": {
    "editable": true
   },
   "outputs": [],
   "source": [
    "fname = '../../data2/GlobalLandTemperaturesByCity.csv'\n",
    "temp_df = pd.read_csv(fname)"
   ]
  },
  {
   "cell_type": "code",
   "execution_count": 4,
   "metadata": {
    "editable": true
   },
   "outputs": [
    {
     "data": {
      "text/plain": [
       "dt                                object\n",
       "AverageTemperature               float64\n",
       "AverageTemperatureUncertainty    float64\n",
       "City                              object\n",
       "Country                           object\n",
       "Latitude                          object\n",
       "Longitude                         object\n",
       "dtype: object"
      ]
     },
     "execution_count": 4,
     "metadata": {},
     "output_type": "execute_result"
    }
   ],
   "source": [
    "temp_df.dtypes"
   ]
  },
  {
   "cell_type": "code",
   "execution_count": 5,
   "metadata": {
    "editable": true
   },
   "outputs": [
    {
     "data": {
      "text/plain": [
       "(8599212, 7)"
      ]
     },
     "execution_count": 5,
     "metadata": {},
     "output_type": "execute_result"
    }
   ],
   "source": [
    "temp_df.shape"
   ]
  },
  {
   "cell_type": "code",
   "execution_count": 6,
   "metadata": {
    "editable": true
   },
   "outputs": [
    {
     "data": {
      "text/plain": [
       "Index(['dt', 'AverageTemperature', 'AverageTemperatureUncertainty', 'City',\n",
       "       'Country', 'Latitude', 'Longitude'],\n",
       "      dtype='object')"
      ]
     },
     "execution_count": 6,
     "metadata": {},
     "output_type": "execute_result"
    }
   ],
   "source": [
    "temp_df.columns"
   ]
  },
  {
   "cell_type": "code",
   "execution_count": 7,
   "metadata": {
    "editable": true
   },
   "outputs": [
    {
     "data": {
      "text/html": [
       "<div>\n",
       "<style scoped>\n",
       "    .dataframe tbody tr th:only-of-type {\n",
       "        vertical-align: middle;\n",
       "    }\n",
       "\n",
       "    .dataframe tbody tr th {\n",
       "        vertical-align: top;\n",
       "    }\n",
       "\n",
       "    .dataframe thead th {\n",
       "        text-align: right;\n",
       "    }\n",
       "</style>\n",
       "<table border=\"1\" class=\"dataframe\">\n",
       "  <thead>\n",
       "    <tr style=\"text-align: right;\">\n",
       "      <th></th>\n",
       "      <th>dt</th>\n",
       "      <th>AverageTemperature</th>\n",
       "      <th>AverageTemperatureUncertainty</th>\n",
       "      <th>City</th>\n",
       "      <th>Country</th>\n",
       "      <th>Latitude</th>\n",
       "      <th>Longitude</th>\n",
       "    </tr>\n",
       "  </thead>\n",
       "  <tbody>\n",
       "    <tr>\n",
       "      <th>0</th>\n",
       "      <td>1743-11-01</td>\n",
       "      <td>6.068</td>\n",
       "      <td>1.737</td>\n",
       "      <td>Århus</td>\n",
       "      <td>Denmark</td>\n",
       "      <td>57.05N</td>\n",
       "      <td>10.33E</td>\n",
       "    </tr>\n",
       "    <tr>\n",
       "      <th>1</th>\n",
       "      <td>1743-12-01</td>\n",
       "      <td>NaN</td>\n",
       "      <td>NaN</td>\n",
       "      <td>Århus</td>\n",
       "      <td>Denmark</td>\n",
       "      <td>57.05N</td>\n",
       "      <td>10.33E</td>\n",
       "    </tr>\n",
       "    <tr>\n",
       "      <th>2</th>\n",
       "      <td>1744-01-01</td>\n",
       "      <td>NaN</td>\n",
       "      <td>NaN</td>\n",
       "      <td>Århus</td>\n",
       "      <td>Denmark</td>\n",
       "      <td>57.05N</td>\n",
       "      <td>10.33E</td>\n",
       "    </tr>\n",
       "    <tr>\n",
       "      <th>3</th>\n",
       "      <td>1744-02-01</td>\n",
       "      <td>NaN</td>\n",
       "      <td>NaN</td>\n",
       "      <td>Århus</td>\n",
       "      <td>Denmark</td>\n",
       "      <td>57.05N</td>\n",
       "      <td>10.33E</td>\n",
       "    </tr>\n",
       "    <tr>\n",
       "      <th>4</th>\n",
       "      <td>1744-03-01</td>\n",
       "      <td>NaN</td>\n",
       "      <td>NaN</td>\n",
       "      <td>Århus</td>\n",
       "      <td>Denmark</td>\n",
       "      <td>57.05N</td>\n",
       "      <td>10.33E</td>\n",
       "    </tr>\n",
       "  </tbody>\n",
       "</table>\n",
       "</div>"
      ],
      "text/plain": [
       "           dt  AverageTemperature  AverageTemperatureUncertainty   City  \\\n",
       "0  1743-11-01               6.068                          1.737  Århus   \n",
       "1  1743-12-01                 NaN                            NaN  Århus   \n",
       "2  1744-01-01                 NaN                            NaN  Århus   \n",
       "3  1744-02-01                 NaN                            NaN  Århus   \n",
       "4  1744-03-01                 NaN                            NaN  Århus   \n",
       "\n",
       "   Country Latitude Longitude  \n",
       "0  Denmark   57.05N    10.33E  \n",
       "1  Denmark   57.05N    10.33E  \n",
       "2  Denmark   57.05N    10.33E  \n",
       "3  Denmark   57.05N    10.33E  \n",
       "4  Denmark   57.05N    10.33E  "
      ]
     },
     "execution_count": 7,
     "metadata": {},
     "output_type": "execute_result"
    }
   ],
   "source": [
    "temp_df.head()"
   ]
  },
  {
   "cell_type": "markdown",
   "metadata": {
    "editable": true
   },
   "source": [
    "**Converting date to a datetime object**"
   ]
  },
  {
   "cell_type": "code",
   "execution_count": 8,
   "metadata": {
    "editable": true
   },
   "outputs": [],
   "source": [
    "temp_df['dt'] = pd.to_datetime(temp_df['dt'])"
   ]
  },
  {
   "cell_type": "code",
   "execution_count": 9,
   "metadata": {
    "editable": true
   },
   "outputs": [],
   "source": [
    "temp_df['year'] = temp_df['dt'].dt.year"
   ]
  },
  {
   "cell_type": "code",
   "execution_count": 10,
   "metadata": {
    "editable": true
   },
   "outputs": [
    {
     "data": {
      "text/html": [
       "<div>\n",
       "<style scoped>\n",
       "    .dataframe tbody tr th:only-of-type {\n",
       "        vertical-align: middle;\n",
       "    }\n",
       "\n",
       "    .dataframe tbody tr th {\n",
       "        vertical-align: top;\n",
       "    }\n",
       "\n",
       "    .dataframe thead th {\n",
       "        text-align: right;\n",
       "    }\n",
       "</style>\n",
       "<table border=\"1\" class=\"dataframe\">\n",
       "  <thead>\n",
       "    <tr style=\"text-align: right;\">\n",
       "      <th></th>\n",
       "      <th>dt</th>\n",
       "      <th>AverageTemperature</th>\n",
       "      <th>AverageTemperatureUncertainty</th>\n",
       "      <th>City</th>\n",
       "      <th>Country</th>\n",
       "      <th>Latitude</th>\n",
       "      <th>Longitude</th>\n",
       "      <th>year</th>\n",
       "    </tr>\n",
       "  </thead>\n",
       "  <tbody>\n",
       "    <tr>\n",
       "      <th>0</th>\n",
       "      <td>1743-11-01</td>\n",
       "      <td>6.068</td>\n",
       "      <td>1.737</td>\n",
       "      <td>Århus</td>\n",
       "      <td>Denmark</td>\n",
       "      <td>57.05N</td>\n",
       "      <td>10.33E</td>\n",
       "      <td>1743</td>\n",
       "    </tr>\n",
       "    <tr>\n",
       "      <th>1</th>\n",
       "      <td>1743-12-01</td>\n",
       "      <td>NaN</td>\n",
       "      <td>NaN</td>\n",
       "      <td>Århus</td>\n",
       "      <td>Denmark</td>\n",
       "      <td>57.05N</td>\n",
       "      <td>10.33E</td>\n",
       "      <td>1743</td>\n",
       "    </tr>\n",
       "    <tr>\n",
       "      <th>2</th>\n",
       "      <td>1744-01-01</td>\n",
       "      <td>NaN</td>\n",
       "      <td>NaN</td>\n",
       "      <td>Århus</td>\n",
       "      <td>Denmark</td>\n",
       "      <td>57.05N</td>\n",
       "      <td>10.33E</td>\n",
       "      <td>1744</td>\n",
       "    </tr>\n",
       "    <tr>\n",
       "      <th>3</th>\n",
       "      <td>1744-02-01</td>\n",
       "      <td>NaN</td>\n",
       "      <td>NaN</td>\n",
       "      <td>Århus</td>\n",
       "      <td>Denmark</td>\n",
       "      <td>57.05N</td>\n",
       "      <td>10.33E</td>\n",
       "      <td>1744</td>\n",
       "    </tr>\n",
       "    <tr>\n",
       "      <th>4</th>\n",
       "      <td>1744-03-01</td>\n",
       "      <td>NaN</td>\n",
       "      <td>NaN</td>\n",
       "      <td>Århus</td>\n",
       "      <td>Denmark</td>\n",
       "      <td>57.05N</td>\n",
       "      <td>10.33E</td>\n",
       "      <td>1744</td>\n",
       "    </tr>\n",
       "  </tbody>\n",
       "</table>\n",
       "</div>"
      ],
      "text/plain": [
       "          dt  AverageTemperature  AverageTemperatureUncertainty   City  \\\n",
       "0 1743-11-01               6.068                          1.737  Århus   \n",
       "1 1743-12-01                 NaN                            NaN  Århus   \n",
       "2 1744-01-01                 NaN                            NaN  Århus   \n",
       "3 1744-02-01                 NaN                            NaN  Århus   \n",
       "4 1744-03-01                 NaN                            NaN  Århus   \n",
       "\n",
       "   Country Latitude Longitude  year  \n",
       "0  Denmark   57.05N    10.33E  1743  \n",
       "1  Denmark   57.05N    10.33E  1743  \n",
       "2  Denmark   57.05N    10.33E  1744  \n",
       "3  Denmark   57.05N    10.33E  1744  \n",
       "4  Denmark   57.05N    10.33E  1744  "
      ]
     },
     "execution_count": 10,
     "metadata": {},
     "output_type": "execute_result"
    }
   ],
   "source": [
    "temp_df.head()"
   ]
  },
  {
   "cell_type": "code",
   "execution_count": 11,
   "metadata": {
    "editable": true
   },
   "outputs": [
    {
     "data": {
      "text/plain": [
       "2013"
      ]
     },
     "execution_count": 11,
     "metadata": {},
     "output_type": "execute_result"
    }
   ],
   "source": [
    "temp_df['year'].max()"
   ]
  },
  {
   "cell_type": "code",
   "execution_count": 12,
   "metadata": {
    "editable": true
   },
   "outputs": [
    {
     "data": {
      "text/plain": [
       "1743"
      ]
     },
     "execution_count": 12,
     "metadata": {},
     "output_type": "execute_result"
    }
   ],
   "source": [
    "temp_df['year'].min()"
   ]
  },
  {
   "cell_type": "markdown",
   "metadata": {
    "editable": true
   },
   "source": [
    "**Checking for NaN Values**"
   ]
  },
  {
   "cell_type": "code",
   "execution_count": 13,
   "metadata": {
    "editable": true
   },
   "outputs": [
    {
     "data": {
      "text/plain": [
       "True"
      ]
     },
     "execution_count": 13,
     "metadata": {},
     "output_type": "execute_result"
    }
   ],
   "source": [
    "temp_df.isnull().values.any()"
   ]
  },
  {
   "cell_type": "code",
   "execution_count": 14,
   "metadata": {
    "editable": true
   },
   "outputs": [
    {
     "data": {
      "text/plain": [
       "dt                                    0\n",
       "AverageTemperature               364130\n",
       "AverageTemperatureUncertainty    364130\n",
       "City                                  0\n",
       "Country                               0\n",
       "Latitude                              0\n",
       "Longitude                             0\n",
       "year                                  0\n",
       "dtype: int64"
      ]
     },
     "execution_count": 14,
     "metadata": {},
     "output_type": "execute_result"
    }
   ],
   "source": [
    "temp_df.isnull().sum()"
   ]
  },
  {
   "cell_type": "markdown",
   "metadata": {
    "editable": true
   },
   "source": [
    "Only two columns have NaN values: AverageTemperature and AverageTemperatureUncertainty."
   ]
  },
  {
   "cell_type": "code",
   "execution_count": 15,
   "metadata": {
    "editable": true
   },
   "outputs": [
    {
     "data": {
      "text/html": [
       "<div>\n",
       "<style scoped>\n",
       "    .dataframe tbody tr th:only-of-type {\n",
       "        vertical-align: middle;\n",
       "    }\n",
       "\n",
       "    .dataframe tbody tr th {\n",
       "        vertical-align: top;\n",
       "    }\n",
       "\n",
       "    .dataframe thead th {\n",
       "        text-align: right;\n",
       "    }\n",
       "</style>\n",
       "<table border=\"1\" class=\"dataframe\">\n",
       "  <thead>\n",
       "    <tr style=\"text-align: right;\">\n",
       "      <th></th>\n",
       "      <th>NaN</th>\n",
       "      <th>% of NaN</th>\n",
       "    </tr>\n",
       "  </thead>\n",
       "  <tbody>\n",
       "    <tr>\n",
       "      <th>AverageTemperature</th>\n",
       "      <td>364130</td>\n",
       "      <td>4.421692</td>\n",
       "    </tr>\n",
       "    <tr>\n",
       "      <th>AverageTemperatureUncertainty</th>\n",
       "      <td>364130</td>\n",
       "      <td>4.421692</td>\n",
       "    </tr>\n",
       "  </tbody>\n",
       "</table>\n",
       "</div>"
      ],
      "text/plain": [
       "                                  NaN  % of NaN\n",
       "AverageTemperature             364130  4.421692\n",
       "AverageTemperatureUncertainty  364130  4.421692"
      ]
     },
     "execution_count": 15,
     "metadata": {},
     "output_type": "execute_result"
    }
   ],
   "source": [
    "# Calculating the percentage of NaN values for each column\n",
    "\n",
    "nan_temp_df = pd.DataFrame(data=temp_df.isnull().sum(), columns=['NaN'])\n",
    "\n",
    "nan_temp_df.drop(nan_temp_df[nan_temp_df['NaN'] == 0].index, inplace = True)\n",
    "\n",
    "nan_temp_df['% of NaN'] = (nan_temp_df['NaN']/temp_df.count())*100\n",
    "nan_temp_df"
   ]
  },
  {
   "cell_type": "code",
   "execution_count": 16,
   "metadata": {
    "editable": true
   },
   "outputs": [
    {
     "data": {
      "text/html": [
       "<div>\n",
       "<style scoped>\n",
       "    .dataframe tbody tr th:only-of-type {\n",
       "        vertical-align: middle;\n",
       "    }\n",
       "\n",
       "    .dataframe tbody tr th {\n",
       "        vertical-align: top;\n",
       "    }\n",
       "\n",
       "    .dataframe thead th {\n",
       "        text-align: right;\n",
       "    }\n",
       "</style>\n",
       "<table border=\"1\" class=\"dataframe\">\n",
       "  <thead>\n",
       "    <tr style=\"text-align: right;\">\n",
       "      <th></th>\n",
       "      <th>dt</th>\n",
       "      <th>AverageTemperature</th>\n",
       "      <th>AverageTemperatureUncertainty</th>\n",
       "      <th>City</th>\n",
       "      <th>Country</th>\n",
       "      <th>Latitude</th>\n",
       "      <th>Longitude</th>\n",
       "      <th>year</th>\n",
       "    </tr>\n",
       "  </thead>\n",
       "  <tbody>\n",
       "    <tr>\n",
       "      <th>1</th>\n",
       "      <td>1743-12-01</td>\n",
       "      <td>NaN</td>\n",
       "      <td>NaN</td>\n",
       "      <td>Århus</td>\n",
       "      <td>Denmark</td>\n",
       "      <td>57.05N</td>\n",
       "      <td>10.33E</td>\n",
       "      <td>1743</td>\n",
       "    </tr>\n",
       "    <tr>\n",
       "      <th>2</th>\n",
       "      <td>1744-01-01</td>\n",
       "      <td>NaN</td>\n",
       "      <td>NaN</td>\n",
       "      <td>Århus</td>\n",
       "      <td>Denmark</td>\n",
       "      <td>57.05N</td>\n",
       "      <td>10.33E</td>\n",
       "      <td>1744</td>\n",
       "    </tr>\n",
       "    <tr>\n",
       "      <th>3</th>\n",
       "      <td>1744-02-01</td>\n",
       "      <td>NaN</td>\n",
       "      <td>NaN</td>\n",
       "      <td>Århus</td>\n",
       "      <td>Denmark</td>\n",
       "      <td>57.05N</td>\n",
       "      <td>10.33E</td>\n",
       "      <td>1744</td>\n",
       "    </tr>\n",
       "    <tr>\n",
       "      <th>4</th>\n",
       "      <td>1744-03-01</td>\n",
       "      <td>NaN</td>\n",
       "      <td>NaN</td>\n",
       "      <td>Århus</td>\n",
       "      <td>Denmark</td>\n",
       "      <td>57.05N</td>\n",
       "      <td>10.33E</td>\n",
       "      <td>1744</td>\n",
       "    </tr>\n",
       "    <tr>\n",
       "      <th>9</th>\n",
       "      <td>1744-08-01</td>\n",
       "      <td>NaN</td>\n",
       "      <td>NaN</td>\n",
       "      <td>Århus</td>\n",
       "      <td>Denmark</td>\n",
       "      <td>57.05N</td>\n",
       "      <td>10.33E</td>\n",
       "      <td>1744</td>\n",
       "    </tr>\n",
       "    <tr>\n",
       "      <th>18</th>\n",
       "      <td>1745-05-01</td>\n",
       "      <td>NaN</td>\n",
       "      <td>NaN</td>\n",
       "      <td>Århus</td>\n",
       "      <td>Denmark</td>\n",
       "      <td>57.05N</td>\n",
       "      <td>10.33E</td>\n",
       "      <td>1745</td>\n",
       "    </tr>\n",
       "    <tr>\n",
       "      <th>19</th>\n",
       "      <td>1745-06-01</td>\n",
       "      <td>NaN</td>\n",
       "      <td>NaN</td>\n",
       "      <td>Århus</td>\n",
       "      <td>Denmark</td>\n",
       "      <td>57.05N</td>\n",
       "      <td>10.33E</td>\n",
       "      <td>1745</td>\n",
       "    </tr>\n",
       "    <tr>\n",
       "      <th>20</th>\n",
       "      <td>1745-07-01</td>\n",
       "      <td>NaN</td>\n",
       "      <td>NaN</td>\n",
       "      <td>Århus</td>\n",
       "      <td>Denmark</td>\n",
       "      <td>57.05N</td>\n",
       "      <td>10.33E</td>\n",
       "      <td>1745</td>\n",
       "    </tr>\n",
       "    <tr>\n",
       "      <th>21</th>\n",
       "      <td>1745-08-01</td>\n",
       "      <td>NaN</td>\n",
       "      <td>NaN</td>\n",
       "      <td>Århus</td>\n",
       "      <td>Denmark</td>\n",
       "      <td>57.05N</td>\n",
       "      <td>10.33E</td>\n",
       "      <td>1745</td>\n",
       "    </tr>\n",
       "    <tr>\n",
       "      <th>22</th>\n",
       "      <td>1745-09-01</td>\n",
       "      <td>NaN</td>\n",
       "      <td>NaN</td>\n",
       "      <td>Århus</td>\n",
       "      <td>Denmark</td>\n",
       "      <td>57.05N</td>\n",
       "      <td>10.33E</td>\n",
       "      <td>1745</td>\n",
       "    </tr>\n",
       "    <tr>\n",
       "      <th>23</th>\n",
       "      <td>1745-10-01</td>\n",
       "      <td>NaN</td>\n",
       "      <td>NaN</td>\n",
       "      <td>Århus</td>\n",
       "      <td>Denmark</td>\n",
       "      <td>57.05N</td>\n",
       "      <td>10.33E</td>\n",
       "      <td>1745</td>\n",
       "    </tr>\n",
       "    <tr>\n",
       "      <th>24</th>\n",
       "      <td>1745-11-01</td>\n",
       "      <td>NaN</td>\n",
       "      <td>NaN</td>\n",
       "      <td>Århus</td>\n",
       "      <td>Denmark</td>\n",
       "      <td>57.05N</td>\n",
       "      <td>10.33E</td>\n",
       "      <td>1745</td>\n",
       "    </tr>\n",
       "    <tr>\n",
       "      <th>25</th>\n",
       "      <td>1745-12-01</td>\n",
       "      <td>NaN</td>\n",
       "      <td>NaN</td>\n",
       "      <td>Århus</td>\n",
       "      <td>Denmark</td>\n",
       "      <td>57.05N</td>\n",
       "      <td>10.33E</td>\n",
       "      <td>1745</td>\n",
       "    </tr>\n",
       "    <tr>\n",
       "      <th>26</th>\n",
       "      <td>1746-01-01</td>\n",
       "      <td>NaN</td>\n",
       "      <td>NaN</td>\n",
       "      <td>Århus</td>\n",
       "      <td>Denmark</td>\n",
       "      <td>57.05N</td>\n",
       "      <td>10.33E</td>\n",
       "      <td>1746</td>\n",
       "    </tr>\n",
       "    <tr>\n",
       "      <th>27</th>\n",
       "      <td>1746-02-01</td>\n",
       "      <td>NaN</td>\n",
       "      <td>NaN</td>\n",
       "      <td>Århus</td>\n",
       "      <td>Denmark</td>\n",
       "      <td>57.05N</td>\n",
       "      <td>10.33E</td>\n",
       "      <td>1746</td>\n",
       "    </tr>\n",
       "    <tr>\n",
       "      <th>28</th>\n",
       "      <td>1746-03-01</td>\n",
       "      <td>NaN</td>\n",
       "      <td>NaN</td>\n",
       "      <td>Århus</td>\n",
       "      <td>Denmark</td>\n",
       "      <td>57.05N</td>\n",
       "      <td>10.33E</td>\n",
       "      <td>1746</td>\n",
       "    </tr>\n",
       "    <tr>\n",
       "      <th>29</th>\n",
       "      <td>1746-04-01</td>\n",
       "      <td>NaN</td>\n",
       "      <td>NaN</td>\n",
       "      <td>Århus</td>\n",
       "      <td>Denmark</td>\n",
       "      <td>57.05N</td>\n",
       "      <td>10.33E</td>\n",
       "      <td>1746</td>\n",
       "    </tr>\n",
       "    <tr>\n",
       "      <th>30</th>\n",
       "      <td>1746-05-01</td>\n",
       "      <td>NaN</td>\n",
       "      <td>NaN</td>\n",
       "      <td>Århus</td>\n",
       "      <td>Denmark</td>\n",
       "      <td>57.05N</td>\n",
       "      <td>10.33E</td>\n",
       "      <td>1746</td>\n",
       "    </tr>\n",
       "    <tr>\n",
       "      <th>31</th>\n",
       "      <td>1746-06-01</td>\n",
       "      <td>NaN</td>\n",
       "      <td>NaN</td>\n",
       "      <td>Århus</td>\n",
       "      <td>Denmark</td>\n",
       "      <td>57.05N</td>\n",
       "      <td>10.33E</td>\n",
       "      <td>1746</td>\n",
       "    </tr>\n",
       "    <tr>\n",
       "      <th>32</th>\n",
       "      <td>1746-07-01</td>\n",
       "      <td>NaN</td>\n",
       "      <td>NaN</td>\n",
       "      <td>Århus</td>\n",
       "      <td>Denmark</td>\n",
       "      <td>57.05N</td>\n",
       "      <td>10.33E</td>\n",
       "      <td>1746</td>\n",
       "    </tr>\n",
       "    <tr>\n",
       "      <th>33</th>\n",
       "      <td>1746-08-01</td>\n",
       "      <td>NaN</td>\n",
       "      <td>NaN</td>\n",
       "      <td>Århus</td>\n",
       "      <td>Denmark</td>\n",
       "      <td>57.05N</td>\n",
       "      <td>10.33E</td>\n",
       "      <td>1746</td>\n",
       "    </tr>\n",
       "    <tr>\n",
       "      <th>34</th>\n",
       "      <td>1746-09-01</td>\n",
       "      <td>NaN</td>\n",
       "      <td>NaN</td>\n",
       "      <td>Århus</td>\n",
       "      <td>Denmark</td>\n",
       "      <td>57.05N</td>\n",
       "      <td>10.33E</td>\n",
       "      <td>1746</td>\n",
       "    </tr>\n",
       "    <tr>\n",
       "      <th>35</th>\n",
       "      <td>1746-10-01</td>\n",
       "      <td>NaN</td>\n",
       "      <td>NaN</td>\n",
       "      <td>Århus</td>\n",
       "      <td>Denmark</td>\n",
       "      <td>57.05N</td>\n",
       "      <td>10.33E</td>\n",
       "      <td>1746</td>\n",
       "    </tr>\n",
       "    <tr>\n",
       "      <th>36</th>\n",
       "      <td>1746-11-01</td>\n",
       "      <td>NaN</td>\n",
       "      <td>NaN</td>\n",
       "      <td>Århus</td>\n",
       "      <td>Denmark</td>\n",
       "      <td>57.05N</td>\n",
       "      <td>10.33E</td>\n",
       "      <td>1746</td>\n",
       "    </tr>\n",
       "    <tr>\n",
       "      <th>37</th>\n",
       "      <td>1746-12-01</td>\n",
       "      <td>NaN</td>\n",
       "      <td>NaN</td>\n",
       "      <td>Århus</td>\n",
       "      <td>Denmark</td>\n",
       "      <td>57.05N</td>\n",
       "      <td>10.33E</td>\n",
       "      <td>1746</td>\n",
       "    </tr>\n",
       "    <tr>\n",
       "      <th>38</th>\n",
       "      <td>1747-01-01</td>\n",
       "      <td>NaN</td>\n",
       "      <td>NaN</td>\n",
       "      <td>Århus</td>\n",
       "      <td>Denmark</td>\n",
       "      <td>57.05N</td>\n",
       "      <td>10.33E</td>\n",
       "      <td>1747</td>\n",
       "    </tr>\n",
       "    <tr>\n",
       "      <th>39</th>\n",
       "      <td>1747-02-01</td>\n",
       "      <td>NaN</td>\n",
       "      <td>NaN</td>\n",
       "      <td>Århus</td>\n",
       "      <td>Denmark</td>\n",
       "      <td>57.05N</td>\n",
       "      <td>10.33E</td>\n",
       "      <td>1747</td>\n",
       "    </tr>\n",
       "    <tr>\n",
       "      <th>40</th>\n",
       "      <td>1747-03-01</td>\n",
       "      <td>NaN</td>\n",
       "      <td>NaN</td>\n",
       "      <td>Århus</td>\n",
       "      <td>Denmark</td>\n",
       "      <td>57.05N</td>\n",
       "      <td>10.33E</td>\n",
       "      <td>1747</td>\n",
       "    </tr>\n",
       "    <tr>\n",
       "      <th>41</th>\n",
       "      <td>1747-04-01</td>\n",
       "      <td>NaN</td>\n",
       "      <td>NaN</td>\n",
       "      <td>Århus</td>\n",
       "      <td>Denmark</td>\n",
       "      <td>57.05N</td>\n",
       "      <td>10.33E</td>\n",
       "      <td>1747</td>\n",
       "    </tr>\n",
       "    <tr>\n",
       "      <th>42</th>\n",
       "      <td>1747-05-01</td>\n",
       "      <td>NaN</td>\n",
       "      <td>NaN</td>\n",
       "      <td>Århus</td>\n",
       "      <td>Denmark</td>\n",
       "      <td>57.05N</td>\n",
       "      <td>10.33E</td>\n",
       "      <td>1747</td>\n",
       "    </tr>\n",
       "    <tr>\n",
       "      <th>...</th>\n",
       "      <td>...</td>\n",
       "      <td>...</td>\n",
       "      <td>...</td>\n",
       "      <td>...</td>\n",
       "      <td>...</td>\n",
       "      <td>...</td>\n",
       "      <td>...</td>\n",
       "      <td>...</td>\n",
       "    </tr>\n",
       "    <tr>\n",
       "      <th>8596029</th>\n",
       "      <td>1748-07-01</td>\n",
       "      <td>NaN</td>\n",
       "      <td>NaN</td>\n",
       "      <td>Zwolle</td>\n",
       "      <td>Netherlands</td>\n",
       "      <td>52.24N</td>\n",
       "      <td>5.26E</td>\n",
       "      <td>1748</td>\n",
       "    </tr>\n",
       "    <tr>\n",
       "      <th>8596030</th>\n",
       "      <td>1748-08-01</td>\n",
       "      <td>NaN</td>\n",
       "      <td>NaN</td>\n",
       "      <td>Zwolle</td>\n",
       "      <td>Netherlands</td>\n",
       "      <td>52.24N</td>\n",
       "      <td>5.26E</td>\n",
       "      <td>1748</td>\n",
       "    </tr>\n",
       "    <tr>\n",
       "      <th>8596031</th>\n",
       "      <td>1748-09-01</td>\n",
       "      <td>NaN</td>\n",
       "      <td>NaN</td>\n",
       "      <td>Zwolle</td>\n",
       "      <td>Netherlands</td>\n",
       "      <td>52.24N</td>\n",
       "      <td>5.26E</td>\n",
       "      <td>1748</td>\n",
       "    </tr>\n",
       "    <tr>\n",
       "      <th>8596032</th>\n",
       "      <td>1748-10-01</td>\n",
       "      <td>NaN</td>\n",
       "      <td>NaN</td>\n",
       "      <td>Zwolle</td>\n",
       "      <td>Netherlands</td>\n",
       "      <td>52.24N</td>\n",
       "      <td>5.26E</td>\n",
       "      <td>1748</td>\n",
       "    </tr>\n",
       "    <tr>\n",
       "      <th>8596033</th>\n",
       "      <td>1748-11-01</td>\n",
       "      <td>NaN</td>\n",
       "      <td>NaN</td>\n",
       "      <td>Zwolle</td>\n",
       "      <td>Netherlands</td>\n",
       "      <td>52.24N</td>\n",
       "      <td>5.26E</td>\n",
       "      <td>1748</td>\n",
       "    </tr>\n",
       "    <tr>\n",
       "      <th>8596034</th>\n",
       "      <td>1748-12-01</td>\n",
       "      <td>NaN</td>\n",
       "      <td>NaN</td>\n",
       "      <td>Zwolle</td>\n",
       "      <td>Netherlands</td>\n",
       "      <td>52.24N</td>\n",
       "      <td>5.26E</td>\n",
       "      <td>1748</td>\n",
       "    </tr>\n",
       "    <tr>\n",
       "      <th>8596035</th>\n",
       "      <td>1749-01-01</td>\n",
       "      <td>NaN</td>\n",
       "      <td>NaN</td>\n",
       "      <td>Zwolle</td>\n",
       "      <td>Netherlands</td>\n",
       "      <td>52.24N</td>\n",
       "      <td>5.26E</td>\n",
       "      <td>1749</td>\n",
       "    </tr>\n",
       "    <tr>\n",
       "      <th>8596036</th>\n",
       "      <td>1749-02-01</td>\n",
       "      <td>NaN</td>\n",
       "      <td>NaN</td>\n",
       "      <td>Zwolle</td>\n",
       "      <td>Netherlands</td>\n",
       "      <td>52.24N</td>\n",
       "      <td>5.26E</td>\n",
       "      <td>1749</td>\n",
       "    </tr>\n",
       "    <tr>\n",
       "      <th>8596037</th>\n",
       "      <td>1749-03-01</td>\n",
       "      <td>NaN</td>\n",
       "      <td>NaN</td>\n",
       "      <td>Zwolle</td>\n",
       "      <td>Netherlands</td>\n",
       "      <td>52.24N</td>\n",
       "      <td>5.26E</td>\n",
       "      <td>1749</td>\n",
       "    </tr>\n",
       "    <tr>\n",
       "      <th>8596038</th>\n",
       "      <td>1749-04-01</td>\n",
       "      <td>NaN</td>\n",
       "      <td>NaN</td>\n",
       "      <td>Zwolle</td>\n",
       "      <td>Netherlands</td>\n",
       "      <td>52.24N</td>\n",
       "      <td>5.26E</td>\n",
       "      <td>1749</td>\n",
       "    </tr>\n",
       "    <tr>\n",
       "      <th>8596039</th>\n",
       "      <td>1749-05-01</td>\n",
       "      <td>NaN</td>\n",
       "      <td>NaN</td>\n",
       "      <td>Zwolle</td>\n",
       "      <td>Netherlands</td>\n",
       "      <td>52.24N</td>\n",
       "      <td>5.26E</td>\n",
       "      <td>1749</td>\n",
       "    </tr>\n",
       "    <tr>\n",
       "      <th>8596040</th>\n",
       "      <td>1749-06-01</td>\n",
       "      <td>NaN</td>\n",
       "      <td>NaN</td>\n",
       "      <td>Zwolle</td>\n",
       "      <td>Netherlands</td>\n",
       "      <td>52.24N</td>\n",
       "      <td>5.26E</td>\n",
       "      <td>1749</td>\n",
       "    </tr>\n",
       "    <tr>\n",
       "      <th>8596041</th>\n",
       "      <td>1749-07-01</td>\n",
       "      <td>NaN</td>\n",
       "      <td>NaN</td>\n",
       "      <td>Zwolle</td>\n",
       "      <td>Netherlands</td>\n",
       "      <td>52.24N</td>\n",
       "      <td>5.26E</td>\n",
       "      <td>1749</td>\n",
       "    </tr>\n",
       "    <tr>\n",
       "      <th>8596042</th>\n",
       "      <td>1749-08-01</td>\n",
       "      <td>NaN</td>\n",
       "      <td>NaN</td>\n",
       "      <td>Zwolle</td>\n",
       "      <td>Netherlands</td>\n",
       "      <td>52.24N</td>\n",
       "      <td>5.26E</td>\n",
       "      <td>1749</td>\n",
       "    </tr>\n",
       "    <tr>\n",
       "      <th>8596043</th>\n",
       "      <td>1749-09-01</td>\n",
       "      <td>NaN</td>\n",
       "      <td>NaN</td>\n",
       "      <td>Zwolle</td>\n",
       "      <td>Netherlands</td>\n",
       "      <td>52.24N</td>\n",
       "      <td>5.26E</td>\n",
       "      <td>1749</td>\n",
       "    </tr>\n",
       "    <tr>\n",
       "      <th>8596044</th>\n",
       "      <td>1749-10-01</td>\n",
       "      <td>NaN</td>\n",
       "      <td>NaN</td>\n",
       "      <td>Zwolle</td>\n",
       "      <td>Netherlands</td>\n",
       "      <td>52.24N</td>\n",
       "      <td>5.26E</td>\n",
       "      <td>1749</td>\n",
       "    </tr>\n",
       "    <tr>\n",
       "      <th>8596045</th>\n",
       "      <td>1749-11-01</td>\n",
       "      <td>NaN</td>\n",
       "      <td>NaN</td>\n",
       "      <td>Zwolle</td>\n",
       "      <td>Netherlands</td>\n",
       "      <td>52.24N</td>\n",
       "      <td>5.26E</td>\n",
       "      <td>1749</td>\n",
       "    </tr>\n",
       "    <tr>\n",
       "      <th>8596046</th>\n",
       "      <td>1749-12-01</td>\n",
       "      <td>NaN</td>\n",
       "      <td>NaN</td>\n",
       "      <td>Zwolle</td>\n",
       "      <td>Netherlands</td>\n",
       "      <td>52.24N</td>\n",
       "      <td>5.26E</td>\n",
       "      <td>1749</td>\n",
       "    </tr>\n",
       "    <tr>\n",
       "      <th>8596057</th>\n",
       "      <td>1750-11-01</td>\n",
       "      <td>NaN</td>\n",
       "      <td>NaN</td>\n",
       "      <td>Zwolle</td>\n",
       "      <td>Netherlands</td>\n",
       "      <td>52.24N</td>\n",
       "      <td>5.26E</td>\n",
       "      <td>1750</td>\n",
       "    </tr>\n",
       "    <tr>\n",
       "      <th>8596063</th>\n",
       "      <td>1751-05-01</td>\n",
       "      <td>NaN</td>\n",
       "      <td>NaN</td>\n",
       "      <td>Zwolle</td>\n",
       "      <td>Netherlands</td>\n",
       "      <td>52.24N</td>\n",
       "      <td>5.26E</td>\n",
       "      <td>1751</td>\n",
       "    </tr>\n",
       "    <tr>\n",
       "      <th>8596068</th>\n",
       "      <td>1751-10-01</td>\n",
       "      <td>NaN</td>\n",
       "      <td>NaN</td>\n",
       "      <td>Zwolle</td>\n",
       "      <td>Netherlands</td>\n",
       "      <td>52.24N</td>\n",
       "      <td>5.26E</td>\n",
       "      <td>1751</td>\n",
       "    </tr>\n",
       "    <tr>\n",
       "      <th>8596069</th>\n",
       "      <td>1751-11-01</td>\n",
       "      <td>NaN</td>\n",
       "      <td>NaN</td>\n",
       "      <td>Zwolle</td>\n",
       "      <td>Netherlands</td>\n",
       "      <td>52.24N</td>\n",
       "      <td>5.26E</td>\n",
       "      <td>1751</td>\n",
       "    </tr>\n",
       "    <tr>\n",
       "      <th>8596070</th>\n",
       "      <td>1751-12-01</td>\n",
       "      <td>NaN</td>\n",
       "      <td>NaN</td>\n",
       "      <td>Zwolle</td>\n",
       "      <td>Netherlands</td>\n",
       "      <td>52.24N</td>\n",
       "      <td>5.26E</td>\n",
       "      <td>1751</td>\n",
       "    </tr>\n",
       "    <tr>\n",
       "      <th>8596072</th>\n",
       "      <td>1752-02-01</td>\n",
       "      <td>NaN</td>\n",
       "      <td>NaN</td>\n",
       "      <td>Zwolle</td>\n",
       "      <td>Netherlands</td>\n",
       "      <td>52.24N</td>\n",
       "      <td>5.26E</td>\n",
       "      <td>1752</td>\n",
       "    </tr>\n",
       "    <tr>\n",
       "      <th>8596075</th>\n",
       "      <td>1752-05-01</td>\n",
       "      <td>NaN</td>\n",
       "      <td>NaN</td>\n",
       "      <td>Zwolle</td>\n",
       "      <td>Netherlands</td>\n",
       "      <td>52.24N</td>\n",
       "      <td>5.26E</td>\n",
       "      <td>1752</td>\n",
       "    </tr>\n",
       "    <tr>\n",
       "      <th>8596076</th>\n",
       "      <td>1752-06-01</td>\n",
       "      <td>NaN</td>\n",
       "      <td>NaN</td>\n",
       "      <td>Zwolle</td>\n",
       "      <td>Netherlands</td>\n",
       "      <td>52.24N</td>\n",
       "      <td>5.26E</td>\n",
       "      <td>1752</td>\n",
       "    </tr>\n",
       "    <tr>\n",
       "      <th>8596077</th>\n",
       "      <td>1752-07-01</td>\n",
       "      <td>NaN</td>\n",
       "      <td>NaN</td>\n",
       "      <td>Zwolle</td>\n",
       "      <td>Netherlands</td>\n",
       "      <td>52.24N</td>\n",
       "      <td>5.26E</td>\n",
       "      <td>1752</td>\n",
       "    </tr>\n",
       "    <tr>\n",
       "      <th>8596078</th>\n",
       "      <td>1752-08-01</td>\n",
       "      <td>NaN</td>\n",
       "      <td>NaN</td>\n",
       "      <td>Zwolle</td>\n",
       "      <td>Netherlands</td>\n",
       "      <td>52.24N</td>\n",
       "      <td>5.26E</td>\n",
       "      <td>1752</td>\n",
       "    </tr>\n",
       "    <tr>\n",
       "      <th>8596079</th>\n",
       "      <td>1752-09-01</td>\n",
       "      <td>NaN</td>\n",
       "      <td>NaN</td>\n",
       "      <td>Zwolle</td>\n",
       "      <td>Netherlands</td>\n",
       "      <td>52.24N</td>\n",
       "      <td>5.26E</td>\n",
       "      <td>1752</td>\n",
       "    </tr>\n",
       "    <tr>\n",
       "      <th>8599211</th>\n",
       "      <td>2013-09-01</td>\n",
       "      <td>NaN</td>\n",
       "      <td>NaN</td>\n",
       "      <td>Zwolle</td>\n",
       "      <td>Netherlands</td>\n",
       "      <td>52.24N</td>\n",
       "      <td>5.26E</td>\n",
       "      <td>2013</td>\n",
       "    </tr>\n",
       "  </tbody>\n",
       "</table>\n",
       "<p>364130 rows × 8 columns</p>\n",
       "</div>"
      ],
      "text/plain": [
       "                dt  AverageTemperature  AverageTemperatureUncertainty    City  \\\n",
       "1       1743-12-01                 NaN                            NaN   Århus   \n",
       "2       1744-01-01                 NaN                            NaN   Århus   \n",
       "3       1744-02-01                 NaN                            NaN   Århus   \n",
       "4       1744-03-01                 NaN                            NaN   Århus   \n",
       "9       1744-08-01                 NaN                            NaN   Århus   \n",
       "18      1745-05-01                 NaN                            NaN   Århus   \n",
       "19      1745-06-01                 NaN                            NaN   Århus   \n",
       "20      1745-07-01                 NaN                            NaN   Århus   \n",
       "21      1745-08-01                 NaN                            NaN   Århus   \n",
       "22      1745-09-01                 NaN                            NaN   Århus   \n",
       "23      1745-10-01                 NaN                            NaN   Århus   \n",
       "24      1745-11-01                 NaN                            NaN   Århus   \n",
       "25      1745-12-01                 NaN                            NaN   Århus   \n",
       "26      1746-01-01                 NaN                            NaN   Århus   \n",
       "27      1746-02-01                 NaN                            NaN   Århus   \n",
       "28      1746-03-01                 NaN                            NaN   Århus   \n",
       "29      1746-04-01                 NaN                            NaN   Århus   \n",
       "30      1746-05-01                 NaN                            NaN   Århus   \n",
       "31      1746-06-01                 NaN                            NaN   Århus   \n",
       "32      1746-07-01                 NaN                            NaN   Århus   \n",
       "33      1746-08-01                 NaN                            NaN   Århus   \n",
       "34      1746-09-01                 NaN                            NaN   Århus   \n",
       "35      1746-10-01                 NaN                            NaN   Århus   \n",
       "36      1746-11-01                 NaN                            NaN   Århus   \n",
       "37      1746-12-01                 NaN                            NaN   Århus   \n",
       "38      1747-01-01                 NaN                            NaN   Århus   \n",
       "39      1747-02-01                 NaN                            NaN   Århus   \n",
       "40      1747-03-01                 NaN                            NaN   Århus   \n",
       "41      1747-04-01                 NaN                            NaN   Århus   \n",
       "42      1747-05-01                 NaN                            NaN   Århus   \n",
       "...            ...                 ...                            ...     ...   \n",
       "8596029 1748-07-01                 NaN                            NaN  Zwolle   \n",
       "8596030 1748-08-01                 NaN                            NaN  Zwolle   \n",
       "8596031 1748-09-01                 NaN                            NaN  Zwolle   \n",
       "8596032 1748-10-01                 NaN                            NaN  Zwolle   \n",
       "8596033 1748-11-01                 NaN                            NaN  Zwolle   \n",
       "8596034 1748-12-01                 NaN                            NaN  Zwolle   \n",
       "8596035 1749-01-01                 NaN                            NaN  Zwolle   \n",
       "8596036 1749-02-01                 NaN                            NaN  Zwolle   \n",
       "8596037 1749-03-01                 NaN                            NaN  Zwolle   \n",
       "8596038 1749-04-01                 NaN                            NaN  Zwolle   \n",
       "8596039 1749-05-01                 NaN                            NaN  Zwolle   \n",
       "8596040 1749-06-01                 NaN                            NaN  Zwolle   \n",
       "8596041 1749-07-01                 NaN                            NaN  Zwolle   \n",
       "8596042 1749-08-01                 NaN                            NaN  Zwolle   \n",
       "8596043 1749-09-01                 NaN                            NaN  Zwolle   \n",
       "8596044 1749-10-01                 NaN                            NaN  Zwolle   \n",
       "8596045 1749-11-01                 NaN                            NaN  Zwolle   \n",
       "8596046 1749-12-01                 NaN                            NaN  Zwolle   \n",
       "8596057 1750-11-01                 NaN                            NaN  Zwolle   \n",
       "8596063 1751-05-01                 NaN                            NaN  Zwolle   \n",
       "8596068 1751-10-01                 NaN                            NaN  Zwolle   \n",
       "8596069 1751-11-01                 NaN                            NaN  Zwolle   \n",
       "8596070 1751-12-01                 NaN                            NaN  Zwolle   \n",
       "8596072 1752-02-01                 NaN                            NaN  Zwolle   \n",
       "8596075 1752-05-01                 NaN                            NaN  Zwolle   \n",
       "8596076 1752-06-01                 NaN                            NaN  Zwolle   \n",
       "8596077 1752-07-01                 NaN                            NaN  Zwolle   \n",
       "8596078 1752-08-01                 NaN                            NaN  Zwolle   \n",
       "8596079 1752-09-01                 NaN                            NaN  Zwolle   \n",
       "8599211 2013-09-01                 NaN                            NaN  Zwolle   \n",
       "\n",
       "             Country Latitude Longitude  year  \n",
       "1            Denmark   57.05N    10.33E  1743  \n",
       "2            Denmark   57.05N    10.33E  1744  \n",
       "3            Denmark   57.05N    10.33E  1744  \n",
       "4            Denmark   57.05N    10.33E  1744  \n",
       "9            Denmark   57.05N    10.33E  1744  \n",
       "18           Denmark   57.05N    10.33E  1745  \n",
       "19           Denmark   57.05N    10.33E  1745  \n",
       "20           Denmark   57.05N    10.33E  1745  \n",
       "21           Denmark   57.05N    10.33E  1745  \n",
       "22           Denmark   57.05N    10.33E  1745  \n",
       "23           Denmark   57.05N    10.33E  1745  \n",
       "24           Denmark   57.05N    10.33E  1745  \n",
       "25           Denmark   57.05N    10.33E  1745  \n",
       "26           Denmark   57.05N    10.33E  1746  \n",
       "27           Denmark   57.05N    10.33E  1746  \n",
       "28           Denmark   57.05N    10.33E  1746  \n",
       "29           Denmark   57.05N    10.33E  1746  \n",
       "30           Denmark   57.05N    10.33E  1746  \n",
       "31           Denmark   57.05N    10.33E  1746  \n",
       "32           Denmark   57.05N    10.33E  1746  \n",
       "33           Denmark   57.05N    10.33E  1746  \n",
       "34           Denmark   57.05N    10.33E  1746  \n",
       "35           Denmark   57.05N    10.33E  1746  \n",
       "36           Denmark   57.05N    10.33E  1746  \n",
       "37           Denmark   57.05N    10.33E  1746  \n",
       "38           Denmark   57.05N    10.33E  1747  \n",
       "39           Denmark   57.05N    10.33E  1747  \n",
       "40           Denmark   57.05N    10.33E  1747  \n",
       "41           Denmark   57.05N    10.33E  1747  \n",
       "42           Denmark   57.05N    10.33E  1747  \n",
       "...              ...      ...       ...   ...  \n",
       "8596029  Netherlands   52.24N     5.26E  1748  \n",
       "8596030  Netherlands   52.24N     5.26E  1748  \n",
       "8596031  Netherlands   52.24N     5.26E  1748  \n",
       "8596032  Netherlands   52.24N     5.26E  1748  \n",
       "8596033  Netherlands   52.24N     5.26E  1748  \n",
       "8596034  Netherlands   52.24N     5.26E  1748  \n",
       "8596035  Netherlands   52.24N     5.26E  1749  \n",
       "8596036  Netherlands   52.24N     5.26E  1749  \n",
       "8596037  Netherlands   52.24N     5.26E  1749  \n",
       "8596038  Netherlands   52.24N     5.26E  1749  \n",
       "8596039  Netherlands   52.24N     5.26E  1749  \n",
       "8596040  Netherlands   52.24N     5.26E  1749  \n",
       "8596041  Netherlands   52.24N     5.26E  1749  \n",
       "8596042  Netherlands   52.24N     5.26E  1749  \n",
       "8596043  Netherlands   52.24N     5.26E  1749  \n",
       "8596044  Netherlands   52.24N     5.26E  1749  \n",
       "8596045  Netherlands   52.24N     5.26E  1749  \n",
       "8596046  Netherlands   52.24N     5.26E  1749  \n",
       "8596057  Netherlands   52.24N     5.26E  1750  \n",
       "8596063  Netherlands   52.24N     5.26E  1751  \n",
       "8596068  Netherlands   52.24N     5.26E  1751  \n",
       "8596069  Netherlands   52.24N     5.26E  1751  \n",
       "8596070  Netherlands   52.24N     5.26E  1751  \n",
       "8596072  Netherlands   52.24N     5.26E  1752  \n",
       "8596075  Netherlands   52.24N     5.26E  1752  \n",
       "8596076  Netherlands   52.24N     5.26E  1752  \n",
       "8596077  Netherlands   52.24N     5.26E  1752  \n",
       "8596078  Netherlands   52.24N     5.26E  1752  \n",
       "8596079  Netherlands   52.24N     5.26E  1752  \n",
       "8599211  Netherlands   52.24N     5.26E  2013  \n",
       "\n",
       "[364130 rows x 8 columns]"
      ]
     },
     "execution_count": 16,
     "metadata": {},
     "output_type": "execute_result"
    }
   ],
   "source": [
    "temp_df[temp_df['AverageTemperature'].isnull()]"
   ]
  },
  {
   "cell_type": "markdown",
   "metadata": {
    "editable": true
   },
   "source": [
    "We can go with the assumption that if a row has a NaN value in the 'AverageTemperature' column then it will also have a NaN value in the 'AverageTemperatureUncertainty'. So, we will drop all rows with NaN values."
   ]
  },
  {
   "cell_type": "code",
   "execution_count": 17,
   "metadata": {
    "editable": true
   },
   "outputs": [],
   "source": [
    "temp_df.dropna(axis=0, inplace=True)"
   ]
  },
  {
   "cell_type": "code",
   "execution_count": 18,
   "metadata": {
    "editable": true
   },
   "outputs": [
    {
     "data": {
      "text/plain": [
       "(8235082, 8)"
      ]
     },
     "execution_count": 18,
     "metadata": {},
     "output_type": "execute_result"
    }
   ],
   "source": [
    "temp_df.shape"
   ]
  },
  {
   "cell_type": "code",
   "execution_count": 19,
   "metadata": {
    "editable": true
   },
   "outputs": [
    {
     "data": {
      "text/plain": [
       "dt                               0\n",
       "AverageTemperature               0\n",
       "AverageTemperatureUncertainty    0\n",
       "City                             0\n",
       "Country                          0\n",
       "Latitude                         0\n",
       "Longitude                        0\n",
       "year                             0\n",
       "dtype: int64"
      ]
     },
     "execution_count": 19,
     "metadata": {},
     "output_type": "execute_result"
    }
   ],
   "source": [
    "temp_df.isna().sum()"
   ]
  },
  {
   "cell_type": "markdown",
   "metadata": {
    "editable": true
   },
   "source": [
    "How many different Cities and Countries does this dataset contain?"
   ]
  },
  {
   "cell_type": "code",
   "execution_count": 20,
   "metadata": {
    "editable": true
   },
   "outputs": [
    {
     "data": {
      "text/plain": [
       "3448"
      ]
     },
     "execution_count": 20,
     "metadata": {},
     "output_type": "execute_result"
    }
   ],
   "source": [
    "temp_df['City'].nunique()"
   ]
  },
  {
   "cell_type": "markdown",
   "metadata": {
    "editable": true
   },
   "source": [
    "The temperature dataset contains data for 3448 cities."
   ]
  },
  {
   "cell_type": "code",
   "execution_count": 21,
   "metadata": {
    "editable": true
   },
   "outputs": [
    {
     "data": {
      "text/plain": [
       "159"
      ]
     },
     "execution_count": 21,
     "metadata": {},
     "output_type": "execute_result"
    }
   ],
   "source": [
    "temp_df['Country'].nunique()"
   ]
  },
  {
   "cell_type": "markdown",
   "metadata": {
    "editable": true
   },
   "source": [
    "The temperature dataset contains data for 159 cities."
   ]
  },
  {
   "cell_type": "markdown",
   "metadata": {
    "editable": true
   },
   "source": [
    "**Checking for duplicates**"
   ]
  },
  {
   "cell_type": "code",
   "execution_count": 22,
   "metadata": {
    "editable": true
   },
   "outputs": [
    {
     "data": {
      "text/plain": [
       "0"
      ]
     },
     "execution_count": 22,
     "metadata": {},
     "output_type": "execute_result"
    }
   ],
   "source": [
    "temp_df.duplicated().sum()"
   ]
  },
  {
   "cell_type": "markdown",
   "metadata": {
    "editable": true
   },
   "source": [
    "There are no duplicate rows in this dataset."
   ]
  },
  {
   "cell_type": "markdown",
   "metadata": {
    "editable": true
   },
   "source": [
    "*For this project, we will be focusing solely on the U.S therefore we will filter the dataset to only include data for U.S. cities.*"
   ]
  },
  {
   "cell_type": "code",
   "execution_count": 23,
   "metadata": {
    "editable": true
   },
   "outputs": [],
   "source": [
    "temp_df = temp_df[temp_df['Country'] == 'United States']"
   ]
  },
  {
   "cell_type": "code",
   "execution_count": 24,
   "metadata": {
    "editable": true
   },
   "outputs": [
    {
     "data": {
      "text/plain": [
       "(661524, 8)"
      ]
     },
     "execution_count": 24,
     "metadata": {},
     "output_type": "execute_result"
    }
   ],
   "source": [
    "temp_df.shape"
   ]
  },
  {
   "cell_type": "code",
   "execution_count": 26,
   "metadata": {
    "editable": true
   },
   "outputs": [
    {
     "data": {
      "text/plain": [
       "Index(['dt', 'AverageTemperature', 'City', 'Country', 'year'], dtype='object')"
      ]
     },
     "execution_count": 26,
     "metadata": {},
     "output_type": "execute_result"
    }
   ],
   "source": [
    "# Dropping 3 columns\n",
    "\n",
    "temp_df = temp_df.drop(['AverageTemperatureUncertainty', 'Latitude', 'Longitude'], axis=1)\n",
    "temp_df.columns"
   ]
  },
  {
   "cell_type": "code",
   "execution_count": 28,
   "metadata": {
    "editable": true
   },
   "outputs": [
    {
     "data": {
      "text/plain": [
       "Index(['date', 'AverageTemperature', 'City', 'Country', 'year'], dtype='object')"
      ]
     },
     "execution_count": 28,
     "metadata": {},
     "output_type": "execute_result"
    }
   ],
   "source": [
    "# Renaming the 'dt' column\n",
    "temp_df.rename(columns={'dt': 'date'}, inplace=True)\n",
    "temp_df.columns"
   ]
  },
  {
   "cell_type": "code",
   "execution_count": 29,
   "metadata": {
    "editable": true
   },
   "outputs": [
    {
     "data": {
      "text/plain": [
       "Index(['date', 'avg_temp', 'city', 'country', 'year'], dtype='object')"
      ]
     },
     "execution_count": 29,
     "metadata": {},
     "output_type": "execute_result"
    }
   ],
   "source": [
    "temp_df.rename(columns={'AverageTemperature': 'avg_temp', 'City': 'city', 'Country': 'country'}, inplace=True)\n",
    "temp_df.columns"
   ]
  },
  {
   "cell_type": "code",
   "execution_count": 31,
   "metadata": {
    "editable": true
   },
   "outputs": [
    {
     "data": {
      "text/html": [
       "<div>\n",
       "<style scoped>\n",
       "    .dataframe tbody tr th:only-of-type {\n",
       "        vertical-align: middle;\n",
       "    }\n",
       "\n",
       "    .dataframe tbody tr th {\n",
       "        vertical-align: top;\n",
       "    }\n",
       "\n",
       "    .dataframe thead th {\n",
       "        text-align: right;\n",
       "    }\n",
       "</style>\n",
       "<table border=\"1\" class=\"dataframe\">\n",
       "  <thead>\n",
       "    <tr style=\"text-align: right;\">\n",
       "      <th></th>\n",
       "      <th>date</th>\n",
       "      <th>avg_temp</th>\n",
       "      <th>city</th>\n",
       "      <th>country</th>\n",
       "      <th>year</th>\n",
       "    </tr>\n",
       "  </thead>\n",
       "  <tbody>\n",
       "    <tr>\n",
       "      <th>47555</th>\n",
       "      <td>1820-01-01</td>\n",
       "      <td>2.101</td>\n",
       "      <td>Abilene</td>\n",
       "      <td>United States</td>\n",
       "      <td>1820</td>\n",
       "    </tr>\n",
       "    <tr>\n",
       "      <th>47556</th>\n",
       "      <td>1820-02-01</td>\n",
       "      <td>6.926</td>\n",
       "      <td>Abilene</td>\n",
       "      <td>United States</td>\n",
       "      <td>1820</td>\n",
       "    </tr>\n",
       "    <tr>\n",
       "      <th>47557</th>\n",
       "      <td>1820-03-01</td>\n",
       "      <td>10.767</td>\n",
       "      <td>Abilene</td>\n",
       "      <td>United States</td>\n",
       "      <td>1820</td>\n",
       "    </tr>\n",
       "    <tr>\n",
       "      <th>47558</th>\n",
       "      <td>1820-04-01</td>\n",
       "      <td>17.989</td>\n",
       "      <td>Abilene</td>\n",
       "      <td>United States</td>\n",
       "      <td>1820</td>\n",
       "    </tr>\n",
       "    <tr>\n",
       "      <th>47559</th>\n",
       "      <td>1820-05-01</td>\n",
       "      <td>21.809</td>\n",
       "      <td>Abilene</td>\n",
       "      <td>United States</td>\n",
       "      <td>1820</td>\n",
       "    </tr>\n",
       "  </tbody>\n",
       "</table>\n",
       "</div>"
      ],
      "text/plain": [
       "            date  avg_temp     city        country  year\n",
       "47555 1820-01-01     2.101  Abilene  United States  1820\n",
       "47556 1820-02-01     6.926  Abilene  United States  1820\n",
       "47557 1820-03-01    10.767  Abilene  United States  1820\n",
       "47558 1820-04-01    17.989  Abilene  United States  1820\n",
       "47559 1820-05-01    21.809  Abilene  United States  1820"
      ]
     },
     "execution_count": 31,
     "metadata": {},
     "output_type": "execute_result"
    }
   ],
   "source": [
    "temp_df.head()"
   ]
  },
  {
   "cell_type": "code",
   "execution_count": 33,
   "metadata": {
    "editable": true
   },
   "outputs": [],
   "source": [
    "# Saving the clean df to a new csv\n",
    "temp_df.to_csv('temp_data_clean.csv', index=False)"
   ]
  },
  {
   "cell_type": "markdown",
   "metadata": {
    "editable": true
   },
   "source": [
    "**TO DO !!!!**"
   ]
  },
  {
   "cell_type": "code",
   "execution_count": null,
   "metadata": {
    "editable": true
   },
   "outputs": [],
   "source": [
    "# # Mapping the U.S cities to city port abbreviations (i94port from SAS label)\n",
    "\n",
    "# # Add iport94 code based on city name\n",
    "df_temperature_data = df_temperature_data.withColumn(\"i94port\", get_i94port(df_temperature_data.City))\n",
    "\n",
    "# Remove data points with no iport94 code\n",
    "df_temperature_data = df_temperature_data.filter(df_temperature_data.i94port != 'null')"
   ]
  },
  {
   "cell_type": "code",
   "execution_count": 123,
   "metadata": {
    "editable": true
   },
   "outputs": [],
   "source": [
    "fname = 'temp_data_clean.csv'\n",
    "temp_df = spark.read.format('csv').option('delimiter', ',').option('header', 'true').load(fname)"
   ]
  },
  {
   "cell_type": "code",
   "execution_count": 113,
   "metadata": {
    "editable": true
   },
   "outputs": [],
   "source": [
    "# Referenced from the following knowledge thread: https://knowledge.udacity.com/questions/125439\n",
    "# Referenced from the following knowledge thread: https://knowledge.udacity.com/questions/801811\n",
    "\n",
    "with open('./I94_SAS_Labels_Descriptions.SAS') as f:\n",
    "    f_content = f.read()\n",
    "    f_content = f_content.replace('\\t', '')\n",
    "    \n",
    "def code_mapper(file, idx):\n",
    "    f_content2 = f_content[f_content.index(idx):]\n",
    "    f_content2 = f_content2[:f_content2.index(';')].split('\\n')\n",
    "    f_content2 = [i.replace(\"'\", \"\") for i in f_content2]\n",
    "    dic = [i.split('=') for i in f_content2[1:]]\n",
    "    dic = dict([i[0].strip(), i[1].strip()] for i in dic if len(i) == 2)\n",
    "    return dic\n",
    "\n",
    "i94_cit_and_res = code_mapper(f_content, \"i94cntyl\")\n",
    "i94_port = code_mapper(f_content, \"i94prtl\")\n",
    "i94_mode = code_mapper(f_content, \"i94model\")\n",
    "i94_addr = code_mapper(f_content, \"i94addrl\")\n",
    "i94_visa = {'1':'Business',\n",
    "'2': 'Pleasure',\n",
    "'3' : 'Student'}"
   ]
  },
  {
   "cell_type": "code",
   "execution_count": 115,
   "metadata": {
    "editable": true
   },
   "outputs": [
    {
     "data": {
      "text/plain": [
       "{'ALC': 'ALCAN, AK',\n",
       " 'ANC': 'ANCHORAGE, AK',\n",
       " 'BAR': 'BAKER AAF - BAKER ISLAND, AK',\n",
       " 'DAC': 'DALTONS CACHE, AK',\n",
       " 'PIZ': 'DEW STATION PT LAY DEW, AK',\n",
       " 'DTH': 'DUTCH HARBOR, AK',\n",
       " 'EGL': 'EAGLE, AK',\n",
       " 'FRB': 'FAIRBANKS, AK',\n",
       " 'HOM': 'HOMER, AK',\n",
       " 'HYD': 'HYDER, AK',\n",
       " 'JUN': 'JUNEAU, AK',\n",
       " '5KE': 'KETCHIKAN, AK',\n",
       " 'KET': 'KETCHIKAN, AK',\n",
       " 'MOS': 'MOSES POINT INTERMEDIATE, AK',\n",
       " 'NIK': 'NIKISKI, AK',\n",
       " 'NOM': 'NOM, AK',\n",
       " 'PKC': 'POKER CREEK, AK',\n",
       " 'ORI': 'PORT LIONS SPB, AK',\n",
       " 'SKA': 'SKAGWAY, AK',\n",
       " 'SNP': 'ST. PAUL ISLAND, AK',\n",
       " 'TKI': 'TOKEEN, AK',\n",
       " 'WRA': 'WRANGELL, AK',\n",
       " 'HSV': 'MADISON COUNTY - HUNTSVILLE, AL',\n",
       " 'MOB': 'MOBILE, AL',\n",
       " 'LIA': 'LITTLE ROCK, AR (BPS)',\n",
       " 'ROG': 'ROGERS ARPT, AR',\n",
       " 'DOU': 'DOUGLAS, AZ',\n",
       " 'LUK': 'LUKEVILLE, AZ',\n",
       " 'MAP': 'MARIPOSA AZ',\n",
       " 'NAC': 'NACO, AZ',\n",
       " 'NOG': 'NOGALES, AZ',\n",
       " 'PHO': 'PHOENIX, AZ',\n",
       " 'POR': 'PORTAL, AZ',\n",
       " 'SLU': 'SAN LUIS, AZ',\n",
       " 'SAS': 'SASABE, AZ',\n",
       " 'TUC': 'TUCSON, AZ',\n",
       " 'YUI': 'YUMA, AZ',\n",
       " 'AND': 'ANDRADE, CA',\n",
       " 'BUR': 'BURBANK, CA',\n",
       " 'CAL': 'CALEXICO, CA',\n",
       " 'CAO': 'CAMPO, CA',\n",
       " 'FRE': 'FRESNO, CA',\n",
       " 'ICP': 'IMPERIAL COUNTY, CA',\n",
       " 'LNB': 'LONG BEACH, CA',\n",
       " 'LOS': 'LOS ANGELES, CA',\n",
       " 'BFL': 'MEADOWS FIELD - BAKERSFIELD, CA',\n",
       " 'OAK': 'OAKLAND, CA',\n",
       " 'ONT': 'ONTARIO, CA',\n",
       " 'OTM': 'OTAY MESA, CA',\n",
       " 'BLT': 'PACIFIC, HWY. STATION, CA',\n",
       " 'PSP': 'PALM SPRINGS, CA',\n",
       " 'SAC': 'SACRAMENTO, CA',\n",
       " 'SLS': 'SALINAS, CA (BPS)',\n",
       " 'SDP': 'SAN DIEGO, CA',\n",
       " 'SFR': 'SAN FRANCISCO, CA',\n",
       " 'SNJ': 'SAN JOSE, CA',\n",
       " 'SLO': 'SAN LUIS OBISPO, CA',\n",
       " 'SLI': 'SAN LUIS OBISPO, CA (BPS)',\n",
       " 'SPC': 'SAN PEDRO, CA',\n",
       " 'SYS': 'SAN YSIDRO, CA',\n",
       " 'SAA': 'SANTA ANA, CA',\n",
       " 'STO': 'STOCKTON, CA (BPS)',\n",
       " 'TEC': 'TECATE, CA',\n",
       " 'TRV': 'TRAVIS-AFB, CA',\n",
       " 'APA': 'ARAPAHOE COUNTY, CO',\n",
       " 'ASE': 'ASPEN, CO #ARPT',\n",
       " 'COS': 'COLORADO SPRINGS, CO',\n",
       " 'DEN': 'DENVER, CO',\n",
       " 'DRO': 'LA PLATA - DURANGO, CO',\n",
       " 'BDL': 'BRADLEY INTERNATIONAL, CT',\n",
       " 'BGC': 'BRIDGEPORT, CT',\n",
       " 'GRT': 'GROTON, CT',\n",
       " 'HAR': 'HARTFORD, CT',\n",
       " 'NWH': 'NEW HAVEN, CT',\n",
       " 'NWL': 'NEW LONDON, CT',\n",
       " 'TST': 'NEWINGTON DATA CENTER TEST, CT',\n",
       " 'WAS': 'WASHINGTON DC',\n",
       " 'DOV': 'DOVER AFB, DE',\n",
       " 'DVD': 'DOVER-AFB, DE',\n",
       " 'WLL': 'WILMINGTON, DE',\n",
       " 'BOC': 'BOCAGRANDE, FL',\n",
       " 'SRQ': 'BRADENTON - SARASOTA, FL',\n",
       " 'CAN': 'CAPE CANAVERAL, FL',\n",
       " 'DAB': 'DAYTONA BEACH INTERNATIONAL, FL',\n",
       " 'FRN': 'FERNANDINA, FL',\n",
       " 'FTL': 'FORT LAUDERDALE, FL',\n",
       " 'FMY': 'FORT MYERS, FL',\n",
       " 'FPF': 'FORT PIERCE, FL',\n",
       " 'HUR': 'HURLBURT FIELD, FL',\n",
       " 'GNV': 'J R ALISON MUNI - GAINESVILLE, FL',\n",
       " 'JAC': 'JACKSONVILLE, FL',\n",
       " 'KEY': 'KEY WEST, FL',\n",
       " 'LEE': 'LEESBURG MUNICIPAL AIRPORT, FL',\n",
       " 'MLB': 'MELBOURNE, FL',\n",
       " 'MIA': 'MIAMI, FL',\n",
       " 'APF': 'NAPLES, FL #ARPT',\n",
       " 'OPF': 'OPA LOCKA, FL',\n",
       " 'ORL': 'ORLANDO, FL',\n",
       " 'PAN': 'PANAMA CITY, FL',\n",
       " 'PEN': 'PENSACOLA, FL',\n",
       " 'PCF': 'PORT CANAVERAL, FL',\n",
       " 'PEV': 'PORT EVERGLADES, FL',\n",
       " 'PSJ': 'PORT ST JOE, FL',\n",
       " 'SFB': 'SANFORD, FL',\n",
       " 'SGJ': 'ST AUGUSTINE ARPT, FL',\n",
       " 'SAU': 'ST AUGUSTINE, FL',\n",
       " 'FPR': 'ST LUCIE COUNTY, FL',\n",
       " 'SPE': 'ST PETERSBURG, FL',\n",
       " 'TAM': 'TAMPA, FL',\n",
       " 'WPB': 'WEST PALM BEACH, FL',\n",
       " 'ATL': 'ATLANTA, GA',\n",
       " 'BRU': 'BRUNSWICK, GA',\n",
       " 'AGS': 'BUSH FIELD - AUGUSTA, GA',\n",
       " 'SAV': 'SAVANNAH, GA',\n",
       " 'AGA': 'AGANA, GU',\n",
       " 'HHW': 'HONOLULU, HI',\n",
       " 'OGG': 'KAHULUI - MAUI, HI',\n",
       " 'KOA': 'KEAHOLE-KONA, HI',\n",
       " 'LIH': 'LIHUE, HI',\n",
       " 'CID': 'CEDAR RAPIDS/IOWA CITY, IA',\n",
       " 'DSM': 'DES MOINES, IA',\n",
       " 'BOI': 'AIR TERM. (GOWEN FLD) BOISE, ID',\n",
       " 'EPI': 'EASTPORT, ID',\n",
       " 'IDA': 'FANNING FIELD - IDAHO FALLS, ID',\n",
       " 'PTL': 'PORTHILL, ID',\n",
       " 'SPI': 'CAPITAL - SPRINGFIELD, IL',\n",
       " 'CHI': 'CHICAGO, IL',\n",
       " 'DPA': 'DUPAGE COUNTY, IL',\n",
       " 'PIA': 'GREATER PEORIA, IL',\n",
       " 'RFD': 'GREATER ROCKFORD, IL',\n",
       " 'UGN': 'MEMORIAL - WAUKEGAN, IL',\n",
       " 'GAR': 'GARY, IN',\n",
       " 'HMM': 'HAMMOND, IN',\n",
       " 'INP': 'INDIANAPOLIS, IN',\n",
       " 'MRL': 'MERRILLVILLE, IN',\n",
       " 'SBN': 'SOUTH BEND, IN',\n",
       " 'ICT': 'MID-CONTINENT - WITCHITA, KS',\n",
       " 'LEX': 'BLUE GRASS - LEXINGTON, KY',\n",
       " 'LOU': 'LOUISVILLE, KY',\n",
       " 'BTN': 'BATON ROUGE, LA',\n",
       " 'LKC': 'LAKE CHARLES, LA',\n",
       " 'LAK': 'LAKE CHARLES, LA (BPS)',\n",
       " 'MLU': 'MONROE, LA',\n",
       " 'MGC': 'MORGAN CITY, LA',\n",
       " 'NOL': 'NEW ORLEANS, LA',\n",
       " 'BOS': 'BOSTON, MA',\n",
       " 'GLO': 'GLOUCESTER, MA',\n",
       " 'BED': 'HANSCOM FIELD - BEDFORD, MA',\n",
       " 'LYN': 'LYNDEN, WA',\n",
       " 'ADW': 'ANDREWS AFB, MD',\n",
       " 'BAL': 'BALTIMORE, MD',\n",
       " 'MKG': 'MUSKEGON, MD',\n",
       " 'PAX': 'PATUXENT RIVER, MD',\n",
       " 'BGM': 'BANGOR, ME',\n",
       " 'BOO': 'BOOTHBAY HARBOR, ME',\n",
       " 'BWM': 'BRIDGEWATER, ME',\n",
       " 'BCK': 'BUCKPORT, ME',\n",
       " 'CLS': 'CALAIS, ME',\n",
       " 'CRB': 'CARIBOU, ME',\n",
       " 'COB': 'COBURN GORE, ME',\n",
       " 'EST': 'EASTCOURT, ME',\n",
       " 'EPT': 'EASTPORT MUNICIPAL, ME',\n",
       " 'EPM': 'EASTPORT, ME',\n",
       " 'FOR': 'FOREST CITY, ME',\n",
       " 'FTF': 'FORT FAIRFIELD, ME',\n",
       " 'FTK': 'FORT KENT, ME',\n",
       " 'HML': 'HAMIIN, ME',\n",
       " 'HTM': 'HOULTON, ME',\n",
       " 'JKM': 'JACKMAN, ME',\n",
       " 'KAL': 'KALISPEL, MT',\n",
       " 'LIM': 'LIMESTONE, ME',\n",
       " 'LUB': 'LUBEC, ME',\n",
       " 'MAD': 'MADAWASKA, ME',\n",
       " 'POM': 'PORTLAND, ME',\n",
       " 'RGM': 'RANGELEY, ME (BPS)',\n",
       " 'SBR': 'SOUTH BREWER, ME',\n",
       " 'SRL': 'ST AURELIE, ME',\n",
       " 'SPA': 'ST PAMPILE, ME',\n",
       " 'VNB': 'VAN BUREN, ME',\n",
       " 'VCB': 'VANCEBORO, ME',\n",
       " 'AGN': 'ALGONAC, MI',\n",
       " 'ALP': 'ALPENA, MI',\n",
       " 'BCY': 'BAY CITY, MI',\n",
       " 'DET': 'DETROIT, MI',\n",
       " 'GRP': 'GRAND RAPIDS, MI',\n",
       " 'GRO': 'GROSSE ISLE, MI',\n",
       " 'ISL': 'ISLE ROYALE, MI',\n",
       " 'MRC': 'MARINE CITY, MI',\n",
       " 'MRY': 'MARYSVILLE, MI',\n",
       " 'PTK': 'OAKLAND COUNTY - PONTIAC, MI',\n",
       " 'PHU': 'PORT HURON, MI',\n",
       " 'RBT': 'ROBERTS LANDING, MI',\n",
       " 'SAG': 'SAGINAW, MI',\n",
       " 'SSM': 'SAULT STE. MARIE, MI',\n",
       " 'SCL': 'ST CLAIR, MI',\n",
       " 'YIP': 'WILLOW RUN - YPSILANTI, MI',\n",
       " 'BAU': 'BAUDETTE, MN',\n",
       " 'CAR': 'CARIBOU MUNICIPAL AIRPORT, MN',\n",
       " 'GTF': 'Collapsed into INT, MN',\n",
       " 'INL': 'Collapsed into INT, MN',\n",
       " 'CRA': 'CRANE LAKE, MN',\n",
       " 'MIC': 'CRYSTAL MUNICIPAL AIRPORT, MN',\n",
       " 'DUL': 'DULUTH, MN',\n",
       " 'ELY': 'ELY, MN',\n",
       " 'GPM': 'GRAND PORTAGE, MN',\n",
       " 'SVC': 'GRANT COUNTY - SILVER CITY, MN',\n",
       " 'INT': 'INTL FALLS, MN',\n",
       " 'LAN': 'LANCASTER, MN',\n",
       " 'MSP': 'MINN./ST PAUL, MN',\n",
       " 'LIN': 'NORTHERN SVC CENTER, MN',\n",
       " 'NOY': 'NOYES, MN',\n",
       " 'PIN': 'PINE CREEK, MN',\n",
       " '48Y': 'PINECREEK BORDER ARPT, MN',\n",
       " 'RAN': 'RAINER, MN',\n",
       " 'RST': 'ROCHESTER, MN',\n",
       " 'ROS': 'ROSEAU, MN',\n",
       " 'SPM': 'ST PAUL, MN',\n",
       " 'WSB': 'WARROAD INTL, SPB, MN',\n",
       " 'WAR': 'WARROAD, MN',\n",
       " 'KAN': 'KANSAS CITY, MO',\n",
       " 'SGF': 'SPRINGFIELD-BRANSON, MO',\n",
       " 'STL': 'ST LOUIS, MO',\n",
       " 'WHI': 'WHITETAIL, MT',\n",
       " 'WHM': 'WILD HORSE, MT',\n",
       " 'GPT': 'BILOXI REGIONAL, MS',\n",
       " 'GTR': 'GOLDEN TRIANGLE LOWNDES CNTY, MS',\n",
       " 'GUL': 'GULFPORT, MS',\n",
       " 'PAS': 'PASCAGOULA, MS',\n",
       " 'JAN': 'THOMPSON FIELD - JACKSON, MS',\n",
       " 'BIL': 'BILLINGS, MT',\n",
       " 'BTM': 'BUTTE, MT',\n",
       " 'CHF': 'CHIEF MT, MT',\n",
       " 'CTB': 'CUT BANK MUNICIPAL, MT',\n",
       " 'CUT': 'CUT BANK, MT',\n",
       " 'DLB': 'DEL BONITA, MT',\n",
       " 'EUR': 'EUREKA, MT (BPS)',\n",
       " 'BZN': 'GALLATIN FIELD - BOZEMAN, MT',\n",
       " 'FCA': 'GLACIER NATIONAL PARK, MT',\n",
       " 'GGW': 'GLASGOW, MT',\n",
       " 'GRE': 'GREAT FALLS, MT',\n",
       " 'HVR': 'HAVRE, MT',\n",
       " 'HEL': 'HELENA, MT',\n",
       " 'LWT': 'LEWISTON, MT',\n",
       " 'MGM': 'MORGAN, MT',\n",
       " 'OPH': 'OPHEIM, MT',\n",
       " 'PIE': 'PIEGAN, MT',\n",
       " 'RAY': 'RAYMOND, MT',\n",
       " 'ROO': 'ROOSVILLE, MT',\n",
       " 'SCO': 'SCOBEY, MT',\n",
       " 'SWE': 'SWEETGTASS, MT',\n",
       " 'TRL': 'TRIAL CREEK, MT',\n",
       " 'TUR': 'TURNER, MT',\n",
       " 'WCM': 'WILLOW CREEK, MT',\n",
       " 'CLT': 'CHARLOTTE, NC',\n",
       " 'FAY': 'FAYETTEVILLE, NC',\n",
       " 'MRH': 'MOREHEAD CITY, NC',\n",
       " 'FOP': 'MORRIS FIELDS AAF, NC',\n",
       " 'GSO': 'PIEDMONT TRIAD INTL AIRPORT, NC',\n",
       " 'RDU': 'RALEIGH/DURHAM, NC',\n",
       " 'SSC': 'SHAW AFB - SUMTER, NC',\n",
       " 'WIL': 'WILMINGTON, NC',\n",
       " 'AMB': 'AMBROSE, ND',\n",
       " 'ANT': 'ANTLER, ND',\n",
       " 'CRY': 'CARBURY, ND',\n",
       " 'DNS': 'DUNSEITH, ND',\n",
       " 'FAR': 'FARGO, ND',\n",
       " 'FRT': 'FORTUNA, ND',\n",
       " 'GRF': 'GRAND FORKS, ND',\n",
       " 'HNN': 'HANNAH, ND',\n",
       " 'HNS': 'HANSBORO, ND',\n",
       " 'MAI': 'MAIDA, ND',\n",
       " 'MND': 'MINOT, ND',\n",
       " 'NEC': 'NECHE, ND',\n",
       " 'NOO': 'NOONAN, ND',\n",
       " 'NRG': 'NORTHGATE, ND',\n",
       " 'PEM': 'PEMBINA, ND',\n",
       " 'SAR': 'SARLES, ND',\n",
       " 'SHR': 'SHERWOOD, ND',\n",
       " 'SJO': 'ST JOHN, ND',\n",
       " 'WAL': 'WALHALLA, ND',\n",
       " 'WHO': 'WESTHOPE, ND',\n",
       " 'WND': 'WILLISTON, ND',\n",
       " 'OMA': 'OMAHA, NE',\n",
       " 'LEB': 'LEBANON, NH',\n",
       " 'MHT': 'MANCHESTER, NH',\n",
       " 'PNH': 'PITTSBURG, NH',\n",
       " 'PSM': 'PORTSMOUTH, NH',\n",
       " 'BYO': 'BAYONNE, NJ',\n",
       " 'CNJ': 'CAMDEN, NJ',\n",
       " 'HOB': 'HOBOKEN, NJ',\n",
       " 'JER': 'JERSEY CITY, NJ',\n",
       " 'WRI': 'MC GUIRE AFB - WRIGHTSOWN, NJ',\n",
       " 'MMU': 'MORRISTOWN, NJ',\n",
       " 'NEW': 'NEWARK/TETERBORO, NJ',\n",
       " 'PER': 'PERTH AMBOY, NJ',\n",
       " 'ACY': 'POMONA FIELD - ATLANTIC CITY, NJ',\n",
       " 'ALA': 'ALAMAGORDO, NM (BPS)',\n",
       " 'ABQ': 'ALBUQUERQUE, NM',\n",
       " 'ANP': 'ANTELOPE WELLS, NM',\n",
       " 'CRL': 'CARLSBAD, NM',\n",
       " 'COL': 'COLUMBUS, NM',\n",
       " 'CDD': 'CRANE LAKE - ST. LOUIS CNTY, NM',\n",
       " 'DNM': 'DEMING, NM (BPS)',\n",
       " 'LAS': 'LAS CRUCES, NM',\n",
       " 'LOB': 'LORDSBURG, NM (BPS)',\n",
       " 'RUI': 'RUIDOSO, NM',\n",
       " 'STR': 'SANTA TERESA, NM',\n",
       " 'RNO': 'CANNON INTL - RENO/TAHOE, NV',\n",
       " 'FLX': 'FALLON MUNICIPAL AIRPORT, NV',\n",
       " 'LVG': 'LAS VEGAS, NV',\n",
       " 'REN': 'RENO, NV',\n",
       " 'ALB': 'ALBANY, NY',\n",
       " 'AXB': 'ALEXANDRIA BAY, NY',\n",
       " 'BUF': 'BUFFALO, NY',\n",
       " 'CNH': 'CANNON CORNERS, NY',\n",
       " 'CAP': 'CAPE VINCENT, NY',\n",
       " 'CHM': 'CHAMPLAIN, NY',\n",
       " 'CHT': 'CHATEAUGAY, NY',\n",
       " 'CLA': 'CLAYTON, NY',\n",
       " 'FTC': 'FORT COVINGTON, NY',\n",
       " 'LAG': 'LA GUARDIA, NY',\n",
       " 'LEW': 'LEWISTON, NY',\n",
       " 'MAS': 'MASSENA, NY',\n",
       " 'MAG': 'MCGUIRE AFB, NY',\n",
       " 'MOO': 'MOORES, NY',\n",
       " 'MRR': 'MORRISTOWN, NY',\n",
       " 'NYC': 'NEW YORK, NY',\n",
       " 'NIA': 'NIAGARA FALLS, NY',\n",
       " 'OGD': 'OGDENSBURG, NY',\n",
       " 'OSW': 'OSWEGO, NY',\n",
       " 'ELM': 'REGIONAL ARPT - HORSEHEAD, NY',\n",
       " 'ROC': 'ROCHESTER, NY',\n",
       " 'ROU': 'ROUSES POINT, NY',\n",
       " 'SWF': 'STEWART - ORANGE CNTY, NY',\n",
       " 'SYR': 'SYRACUSE, NY',\n",
       " 'THO': 'THOUSAND ISLAND BRIDGE, NY',\n",
       " 'TRO': 'TROUT RIVER, NY',\n",
       " 'WAT': 'WATERTOWN, NY',\n",
       " 'HPN': 'WESTCHESTER - WHITE PLAINS, NY',\n",
       " 'WRB': 'WHIRLPOOL BRIDGE, NY',\n",
       " 'YOU': 'YOUNGSTOWN, NY',\n",
       " 'AKR': 'AKRON, OH',\n",
       " 'ATB': 'ASHTABULA, OH',\n",
       " 'CIN': 'CINCINNATI, OH',\n",
       " 'CLE': 'CLEVELAND, OH',\n",
       " 'CLM': 'COLUMBUS, OH',\n",
       " 'LOR': 'LORAIN, OH',\n",
       " 'MBO': 'MARBLE HEADS, OH',\n",
       " 'SDY': 'SANDUSKY, OH',\n",
       " 'TOL': 'TOLEDO, OH',\n",
       " 'OKC': 'OKLAHOMA CITY, OK',\n",
       " 'TUL': 'TULSA, OK',\n",
       " 'AST': 'ASTORIA, OR',\n",
       " 'COO': 'COOS BAY, OR',\n",
       " 'HIO': 'HILLSBORO, OR',\n",
       " 'MED': 'MEDFORD, OR',\n",
       " 'NPT': 'NEWPORT, OR',\n",
       " 'POO': 'PORTLAND, OR',\n",
       " 'PUT': 'PUT-IN-BAY, OH',\n",
       " 'RDM': 'ROBERTS FIELDS - REDMOND, OR',\n",
       " 'ERI': 'ERIE, PA',\n",
       " 'MDT': 'HARRISBURG, PA',\n",
       " 'HSB': 'HARRISONBURG, PA',\n",
       " 'PHI': 'PHILADELPHIA, PA',\n",
       " 'PIT': 'PITTSBURG, PA',\n",
       " 'AGU': 'AGUADILLA, PR',\n",
       " 'BQN': 'BORINQUEN - AGUADILLO, PR',\n",
       " 'JCP': 'CULEBRA - BENJAMIN RIVERA, PR',\n",
       " 'ENS': 'ENSENADA, PR',\n",
       " 'FAJ': 'FAJARDO, PR',\n",
       " 'HUM': 'HUMACAO, PR',\n",
       " 'JOB': 'JOBOS, PR',\n",
       " 'MAY': 'MAYAGUEZ, PR',\n",
       " 'PON': 'PONCE, PR',\n",
       " 'PSE': 'PONCE-MERCEDITA, PR',\n",
       " 'SAJ': 'SAN JUAN, PR',\n",
       " 'VQS': 'VIEQUES-ARPT, PR',\n",
       " 'PRO': 'PROVIDENCE, RI',\n",
       " 'PVD': 'THEODORE FRANCIS - WARWICK, RI',\n",
       " 'CHL': 'CHARLESTON, SC',\n",
       " 'CAE': 'COLUMBIA, SC #ARPT',\n",
       " 'GEO': 'GEORGETOWN, SC',\n",
       " 'GSP': 'GREENVILLE, SC',\n",
       " 'GRR': 'GREER, SC',\n",
       " 'MYR': 'MYRTLE BEACH, SC',\n",
       " 'SPF': 'BLACK HILLS, SPEARFISH, SD',\n",
       " 'HON': 'HOWES REGIONAL ARPT - HURON, SD',\n",
       " 'SAI': 'SAIPAN, SPN',\n",
       " 'TYS': 'MC GHEE TYSON - ALCOA, TN',\n",
       " 'MEM': 'MEMPHIS, TN',\n",
       " 'NSV': 'NASHVILLE, TN',\n",
       " 'TRI': 'TRI CITY ARPT, TN',\n",
       " 'ADS': 'ADDISON AIRPORT- ADDISON, TX',\n",
       " 'ADT': 'AMISTAD DAM, TX',\n",
       " 'ANZ': 'ANZALDUAS, TX',\n",
       " 'AUS': 'AUSTIN, TX',\n",
       " 'BEA': 'BEAUMONT, TX',\n",
       " 'BBP': 'BIG BEND PARK, TX (BPS)',\n",
       " 'SCC': 'BP SPEC COORD. CTR, TX',\n",
       " 'BTC': 'BP TACTICAL UNIT, TX',\n",
       " 'BOA': 'BRIDGE OF AMERICAS, TX',\n",
       " 'BRO': 'BROWNSVILLE, TX',\n",
       " 'CRP': 'CORPUS CHRISTI, TX',\n",
       " 'DAL': 'DALLAS, TX',\n",
       " 'DLR': 'DEL RIO, TX',\n",
       " 'DNA': 'DONNA, TX',\n",
       " 'EGP': 'EAGLE PASS, TX',\n",
       " 'ELP': 'EL PASO, TX',\n",
       " 'FAB': 'FABENS, TX',\n",
       " 'FAL': 'FALCON HEIGHTS, TX',\n",
       " 'FTH': 'FORT HANCOCK, TX',\n",
       " 'AFW': 'FORT WORTH ALLIANCE, TX',\n",
       " 'FPT': 'FREEPORT, TX',\n",
       " 'GAL': 'GALVESTON, TX',\n",
       " 'HLG': 'HARLINGEN, TX',\n",
       " 'HID': 'HIDALGO, TX',\n",
       " 'HOU': 'HOUSTON, TX',\n",
       " 'SGR': 'HULL FIELD, SUGAR LAND ARPT, TX',\n",
       " 'LLB': 'JUAREZ-LINCOLN BRIDGE, TX',\n",
       " 'LCB': 'LAREDO COLUMBIA BRIDGE, TX',\n",
       " 'LRN': 'LAREDO NORTH, TX',\n",
       " 'LAR': 'LAREDO, TX',\n",
       " 'LSE': 'LOS EBANOS, TX',\n",
       " 'IND': 'LOS INDIOS, TX',\n",
       " 'LOI': 'LOS INDIOS, TX',\n",
       " 'MRS': 'MARFA, TX (BPS)',\n",
       " 'MCA': 'MCALLEN, TX',\n",
       " 'MAF': 'ODESSA REGIONAL, TX',\n",
       " 'PDN': 'PASO DEL NORTE,TX',\n",
       " 'PBB': 'PEACE BRIDGE, NY',\n",
       " 'PHR': 'PHARR, TX',\n",
       " 'PAR': 'PORT ARTHUR, TX',\n",
       " 'ISB': 'PORT ISABEL, TX',\n",
       " 'POE': 'PORT OF EL PASO, TX',\n",
       " 'PRE': 'PRESIDIO, TX',\n",
       " 'PGR': 'PROGRESO, TX',\n",
       " 'RIO': 'RIO GRANDE CITY, TX',\n",
       " 'ROM': 'ROMA, TX',\n",
       " 'SNA': 'SAN ANTONIO, TX',\n",
       " 'SNN': 'SANDERSON, TX',\n",
       " 'VIB': 'VETERAN INTL BRIDGE, TX',\n",
       " 'YSL': 'YSLETA, TX',\n",
       " 'CHA': 'CHARLOTTE AMALIE, VI',\n",
       " 'CHR': 'CHRISTIANSTED, VI',\n",
       " 'CRU': 'CRUZ BAY, ST JOHN, VI',\n",
       " 'FRK': 'FREDERIKSTED, VI',\n",
       " 'STT': 'ST THOMAS, VI',\n",
       " 'LGU': 'CACHE AIRPORT - LOGAN, UT',\n",
       " 'SLC': 'SALT LAKE CITY, UT',\n",
       " 'CHO': 'ALBEMARLE CHARLOTTESVILLE, VA',\n",
       " 'DAA': 'DAVISON AAF - FAIRFAX CNTY, VA',\n",
       " 'HOP': 'HOPEWELL, VA',\n",
       " 'HEF': 'MANASSAS, VA #ARPT',\n",
       " 'NWN': 'NEWPORT, VA',\n",
       " 'NOR': 'NORFOLK, VA',\n",
       " 'RCM': 'RICHMOND, VA',\n",
       " 'ABS': 'ALBURG SPRINGS, VT',\n",
       " 'ABG': 'ALBURG, VT',\n",
       " 'BEB': 'BEEBE PLAIN, VT',\n",
       " 'BEE': 'BEECHER FALLS, VT',\n",
       " 'BRG': 'BURLINGTON, VT',\n",
       " 'CNA': 'CANAAN, VT',\n",
       " 'DER': 'DERBY LINE, VT (I-91)',\n",
       " 'DLV': 'DERBY LINE, VT (RT. 5)',\n",
       " 'ERC': 'EAST RICHFORD, VT',\n",
       " 'HIG': 'HIGHGATE SPRINGS, VT',\n",
       " 'MOR': 'MORSES LINE, VT',\n",
       " 'NPV': 'NEWPORT, VT',\n",
       " 'NRT': 'NORTH TROY, VT',\n",
       " 'NRN': 'NORTON, VT',\n",
       " 'PIV': 'PINNACLE ROAD, VT',\n",
       " 'RIF': 'RICHFORT, VT',\n",
       " 'STA': 'ST ALBANS, VT',\n",
       " 'SWB': 'SWANTON, VT (BP - SECTOR HQ)',\n",
       " 'WBE': 'WEST BERKSHIRE, VT',\n",
       " 'ABE': 'ABERDEEN, WA',\n",
       " 'ANA': 'ANACORTES, WA',\n",
       " 'BEL': 'BELLINGHAM, WA',\n",
       " 'BLI': 'BELLINGHAM, WASHINGTON #INTL',\n",
       " 'BLA': 'BLAINE, WA',\n",
       " 'BWA': 'BOUNDARY, WA',\n",
       " 'CUR': 'CURLEW, WA (BPS)',\n",
       " 'DVL': 'DANVILLE, WA',\n",
       " 'EVE': 'EVERETT, WA',\n",
       " 'FER': 'FERRY, WA',\n",
       " 'FRI': 'FRIDAY HARBOR, WA',\n",
       " 'FWA': 'FRONTIER, WA',\n",
       " 'KLM': 'KALAMA, WA',\n",
       " 'LAU': 'LAURIER, WA',\n",
       " 'LON': 'LONGVIEW, WA',\n",
       " 'MET': 'METALINE FALLS, WA',\n",
       " 'MWH': 'MOSES LAKE GRANT COUNTY ARPT, WA',\n",
       " 'NEA': 'NEAH BAY, WA',\n",
       " 'NIG': 'NIGHTHAWK, WA',\n",
       " 'OLY': 'OLYMPIA, WA',\n",
       " 'ORO': 'OROVILLE, WA',\n",
       " 'PWB': 'PASCO, WA',\n",
       " 'PIR': 'POINT ROBERTS, WA',\n",
       " 'PNG': 'PORT ANGELES, WA',\n",
       " 'PTO': 'PORT TOWNSEND, WA',\n",
       " 'SEA': 'SEATTLE, WA',\n",
       " 'SPO': 'SPOKANE, WA',\n",
       " 'SUM': 'SUMAS, WA',\n",
       " 'TAC': 'TACOMA, WA',\n",
       " 'PSC': 'TRI-CITIES - PASCO, WA',\n",
       " 'VAN': 'VANCOUVER, WA',\n",
       " 'AGM': 'ALGOMA, WI',\n",
       " 'BAY': 'BAYFIELD, WI',\n",
       " 'GRB': 'GREEN BAY, WI',\n",
       " 'MNW': 'MANITOWOC, WI',\n",
       " 'MIL': 'MILWAUKEE, WI',\n",
       " 'MSN': 'TRUAX FIELD - DANE COUNTY, WI',\n",
       " 'CHS': 'CHARLESTON, WV',\n",
       " 'CLK': 'CLARKSBURG, WV',\n",
       " 'BLF': 'MERCER COUNTY, WV',\n",
       " 'CSP': 'CASPER, WY',\n",
       " 'XXX': 'NOT REPORTED/UNKNOWN',\n",
       " '888': 'UNIDENTIFED AIR / SEAPORT',\n",
       " 'UNK': 'UNKNOWN POE',\n",
       " 'CLG': 'CALGARY, CANADA',\n",
       " 'EDA': 'EDMONTON, CANADA',\n",
       " 'YHC': 'HAKAI PASS, CANADA',\n",
       " 'HAL': 'Halifax, NS, Canada',\n",
       " 'MON': 'MONTREAL, CANADA',\n",
       " 'OTT': 'OTTAWA, CANADA',\n",
       " 'YXE': 'SASKATOON, CANADA',\n",
       " 'TOR': 'TORONTO, CANADA',\n",
       " 'VCV': 'VANCOUVER, CANADA',\n",
       " 'VIC': 'VICTORIA, CANADA',\n",
       " 'WIN': 'WINNIPEG, CANADA',\n",
       " 'AMS': 'AMSTERDAM-SCHIPHOL, NETHERLANDS',\n",
       " 'ARB': 'ARUBA, NETH ANTILLES',\n",
       " 'BAN': 'BANKOK, THAILAND',\n",
       " 'BEI': 'BEICA #ARPT, ETHIOPIA',\n",
       " 'PEK': 'BEIJING CAPITAL INTL, PRC',\n",
       " 'BDA': 'KINDLEY FIELD, BERMUDA',\n",
       " 'BOG': 'BOGOTA, EL DORADO #ARPT, COLOMBIA',\n",
       " 'EZE': 'BUENOS AIRES, MINISTRO PIST, ARGENTINA',\n",
       " 'CUN': 'CANCUN, MEXICO',\n",
       " 'CRQ': 'CARAVELAS, BA #ARPT, BRAZIL',\n",
       " 'MVD': 'CARRASCO, URUGUAY',\n",
       " 'DUB': 'DUBLIN, IRELAND',\n",
       " 'FOU': 'FOUGAMOU #ARPT, GABON',\n",
       " 'FBA': 'FREEPORT, BAHAMAS',\n",
       " 'MTY': 'GEN M. ESCOBEDO, Monterrey, MX',\n",
       " 'HMO': 'GEN PESQUEIRA GARCIA, MX',\n",
       " 'GCM': 'GRAND CAYMAN, CAYMAN ISLAND',\n",
       " 'GDL': 'GUADALAJARA, MIGUEL HIDAL, MX',\n",
       " 'HAM': 'HAMILTON, BERMUDA',\n",
       " 'ICN': 'INCHON, SEOUL KOREA',\n",
       " 'IWA': 'INVALID - IWAKUNI, JAPAN',\n",
       " 'CND': 'KOGALNICEANU, ROMANIA',\n",
       " 'LAH': 'LABUHA ARPT, INDONESIA',\n",
       " 'DUR': 'LOUIS BOTHA, SOUTH AFRICA',\n",
       " 'MAL': 'MANGOLE ARPT, INDONESIA',\n",
       " 'MDE': 'MEDELLIN, COLOMBIA',\n",
       " 'MEX': 'JUAREZ INTL, MEXICO CITY, MX',\n",
       " 'LHR': 'MIDDLESEX, ENGLAND',\n",
       " 'NBO': 'NAIROBI, KENYA',\n",
       " 'NAS': 'NASSAU, BAHAMAS',\n",
       " 'NCA': 'NORTH CAICOS, TURK & CAIMAN',\n",
       " 'PTY': 'OMAR TORRIJOS, PANAMA',\n",
       " 'SPV': 'PAPUA, NEW GUINEA',\n",
       " 'UIO': 'QUITO (MARISCAL SUCR), ECUADOR',\n",
       " 'RIT': 'ROME, ITALY',\n",
       " 'SNO': 'SAKON NAKHON #ARPT, THAILAND',\n",
       " 'SLP': 'SAN LUIS POTOSI #ARPT, MEXICO',\n",
       " 'SAN': 'SAN SALVADOR, EL SALVADOR',\n",
       " 'SRO': 'SANTANA RAMOS #ARPT, COLOMBIA',\n",
       " 'GRU': 'GUARULHOS INTL, SAO PAULO, BRAZIL',\n",
       " 'SHA': 'SHANNON, IRELAND',\n",
       " 'HIL': 'SHILLAVO, ETHIOPIA',\n",
       " 'TOK': 'TOROKINA #ARPT, PAPUA, NEW GUINEA',\n",
       " 'VER': 'VERACRUZ, MEXICO',\n",
       " 'LGW': 'WEST SUSSEX, ENGLAND',\n",
       " 'ZZZ': 'MEXICO Land (Banco de Mexico)',\n",
       " 'CHN': 'No PORT Code (CHN)',\n",
       " 'CNC': 'CANNON CORNERS, NY',\n",
       " 'MAA': 'Abu Dhabi',\n",
       " 'AG0': 'MAGNOLIA, AR',\n",
       " 'BHM': 'BAR HARBOR, ME',\n",
       " 'BHX': 'BIRMINGHAM, AL',\n",
       " 'CAK': 'AKRON, OH',\n",
       " 'FOK': 'SUFFOLK COUNTY, NY',\n",
       " 'LND': 'LANDER, WY',\n",
       " 'MAR': 'MARFA, TX',\n",
       " 'MLI': 'MOLINE, IL',\n",
       " 'RIV': 'RIVERSIDE, CA',\n",
       " 'RME': 'ROME, NY',\n",
       " 'VNY': 'VAN NUYS, CA',\n",
       " 'YUM': 'YUMA, AZ',\n",
       " 'FRG': 'Collapsed (FOK) 06/15',\n",
       " 'HRL': 'Collapsed (HLG) 06/15',\n",
       " 'ISP': 'Collapsed (FOK) 06/15',\n",
       " 'JSJ': 'Collapsed (SAJ) 06/15',\n",
       " 'BUS': 'Collapsed (BUF) 06/15',\n",
       " 'IAG': 'Collapsed (NIA) 06/15',\n",
       " 'PHN': 'Collapsed (PHU) 06/15',\n",
       " 'STN': 'Collapsed (STR) 06/15',\n",
       " 'VMB': 'Collapsed (VNB) 06/15',\n",
       " 'T01': 'Collapsed (SEA) 06/15',\n",
       " 'PHF': 'No PORT Code (PHF)',\n",
       " 'DRV': 'No PORT Code (DRV)',\n",
       " 'FTB': 'No PORT Code (FTB)',\n",
       " 'GAC': 'No PORT Code (GAC)',\n",
       " 'GMT': 'No PORT Code (GMT)',\n",
       " 'JFA': 'No PORT Code (JFA)',\n",
       " 'JMZ': 'No PORT Code (JMZ)',\n",
       " 'NC8': 'No PORT Code (NC8)',\n",
       " 'NYL': 'No PORT Code (NYL)',\n",
       " 'OAI': 'No PORT Code (OAI)',\n",
       " 'PCW': 'No PORT Code (PCW)',\n",
       " 'WA5': 'No PORT Code (WAS)',\n",
       " 'WTR': 'No PORT Code (WTR)',\n",
       " 'X96': 'No PORT Code (X96)',\n",
       " 'XNA': 'No PORT Code (XNA)',\n",
       " 'YGF': 'No PORT Code (YGF)',\n",
       " '5T6': 'No PORT Code (5T6)',\n",
       " '060': 'No PORT Code (60)',\n",
       " 'SP0': 'No PORT Code (SP0)',\n",
       " 'W55': 'No PORT Code (W55)',\n",
       " 'X44': 'No PORT Code (X44)',\n",
       " 'AUH': 'No PORT Code (AUH)',\n",
       " 'RYY': 'No PORT Code (RYY)',\n",
       " 'SUS': 'No PORT Code (SUS)',\n",
       " '74S': 'No PORT Code (74S)',\n",
       " 'ATW': 'No PORT Code (ATW)',\n",
       " 'CPX': 'No PORT Code (CPX)',\n",
       " 'MTH': 'No PORT Code (MTH)',\n",
       " 'PFN': 'No PORT Code (PFN)',\n",
       " 'SCH': 'No PORT Code (SCH)',\n",
       " 'ASI': 'No PORT Code (ASI)',\n",
       " 'BKF': 'No PORT Code (BKF)',\n",
       " 'DAY': 'No PORT Code (DAY)',\n",
       " 'Y62': 'No PORT Code (Y62)',\n",
       " 'AG': 'No PORT Code (AG)',\n",
       " 'BCM': 'No PORT Code (BCM)',\n",
       " 'DEC': 'No PORT Code (DEC)',\n",
       " 'PLB': 'No PORT Code (PLB)',\n",
       " 'CXO': 'No PORT Code (CXO)',\n",
       " 'JBQ': 'No PORT Code (JBQ)',\n",
       " 'JIG': 'No PORT Code (JIG)',\n",
       " 'OGS': 'No PORT Code (OGS)',\n",
       " 'TIW': 'No PORT Code (TIW)',\n",
       " 'OTS': 'No PORT Code (OTS)',\n",
       " 'AMT': 'No PORT Code (AMT)',\n",
       " 'EGE': 'No PORT Code (EGE)',\n",
       " 'GPI': 'No PORT Code (GPI)',\n",
       " 'NGL': 'No PORT Code (NGL)',\n",
       " 'OLM': 'No PORT Code (OLM)',\n",
       " '.GA': 'No PORT Code (.GA)',\n",
       " 'CLX': 'No PORT Code (CLX)',\n",
       " 'CP': 'No PORT Code (CP)',\n",
       " 'FSC': 'No PORT Code (FSC)',\n",
       " 'NK': 'No PORT Code (NK)',\n",
       " 'ADU': 'No PORT Code (ADU)',\n",
       " 'AKT': 'No PORT Code (AKT)',\n",
       " 'LIT': 'No PORT Code (LIT)',\n",
       " 'A2A': 'No PORT Code (A2A)',\n",
       " 'OSN': 'No PORT Code (OSN)'}"
      ]
     },
     "execution_count": 115,
     "metadata": {},
     "output_type": "execute_result"
    }
   ],
   "source": [
    "i94_port"
   ]
  },
  {
   "cell_type": "markdown",
   "metadata": {
    "editable": true
   },
   "source": [
    "Now, we can map the city code in the i94_port dictionary to the cities in the temperature dataset.\n",
    "\n",
    "We will add a new column to the temperature dataset called 'i94_port' and add the corresponding data."
   ]
  },
  {
   "cell_type": "markdown",
   "metadata": {
    "editable": true
   },
   "source": [
    "N.B. in Temperature Dataset, the cities in the 'City' column have the following format: Xxxx\n",
    "\n",
    "However, in the i94_port dictionary, the cities are in the following format: XXXXXX\n",
    "\n",
    "We will have to use the following .lower() to ensure that both formats are the same."
   ]
  },
  {
   "cell_type": "code",
   "execution_count": 128,
   "metadata": {
    "editable": true
   },
   "outputs": [
    {
     "ename": "TypeError",
     "evalue": "'Column' object is not callable",
     "output_type": "error",
     "traceback": [
      "\u001b[0;31m---------------------------------------------------------------------------\u001b[0m",
      "\u001b[0;31mTypeError\u001b[0m                                 Traceback (most recent call last)",
      "\u001b[0;32m<ipython-input-128-91328249adce>\u001b[0m in \u001b[0;36m<module>\u001b[0;34m()\u001b[0m\n\u001b[1;32m      6\u001b[0m \u001b[0;34m\u001b[0m\u001b[0m\n\u001b[1;32m      7\u001b[0m \u001b[0;34m\u001b[0m\u001b[0m\n\u001b[0;32m----> 8\u001b[0;31m \u001b[0mtemp_df\u001b[0m \u001b[0;34m=\u001b[0m \u001b[0mtemp_df\u001b[0m\u001b[0;34m.\u001b[0m\u001b[0mwithColumn\u001b[0m\u001b[0;34m(\u001b[0m\u001b[0;34m'i94_port'\u001b[0m\u001b[0;34m,\u001b[0m \u001b[0mcity_port_code\u001b[0m\u001b[0;34m(\u001b[0m\u001b[0mtemp_df\u001b[0m\u001b[0;34m.\u001b[0m\u001b[0mcity\u001b[0m\u001b[0;34m)\u001b[0m\u001b[0;34m)\u001b[0m\u001b[0;34m\u001b[0m\u001b[0m\n\u001b[0m",
      "\u001b[0;32m<ipython-input-128-91328249adce>\u001b[0m in \u001b[0;36mcity_port_code\u001b[0;34m(city)\u001b[0m\n\u001b[1;32m      2\u001b[0m \u001b[0;34m\u001b[0m\u001b[0m\n\u001b[1;32m      3\u001b[0m     \u001b[0;32mfor\u001b[0m \u001b[0mport\u001b[0m \u001b[0;32min\u001b[0m \u001b[0mi94_port\u001b[0m\u001b[0;34m:\u001b[0m\u001b[0;34m\u001b[0m\u001b[0m\n\u001b[0;32m----> 4\u001b[0;31m         \u001b[0;32mif\u001b[0m \u001b[0mcity\u001b[0m\u001b[0;34m.\u001b[0m\u001b[0mlower\u001b[0m\u001b[0;34m(\u001b[0m\u001b[0;34m)\u001b[0m \u001b[0;32min\u001b[0m \u001b[0mi94_port\u001b[0m\u001b[0;34m[\u001b[0m\u001b[0mport\u001b[0m\u001b[0;34m]\u001b[0m\u001b[0;34m.\u001b[0m\u001b[0mlower\u001b[0m\u001b[0;34m(\u001b[0m\u001b[0;34m)\u001b[0m\u001b[0;34m:\u001b[0m\u001b[0;34m\u001b[0m\u001b[0m\n\u001b[0m\u001b[1;32m      5\u001b[0m             \u001b[0;32mreturn\u001b[0m \u001b[0mport\u001b[0m\u001b[0;34m\u001b[0m\u001b[0m\n\u001b[1;32m      6\u001b[0m \u001b[0;34m\u001b[0m\u001b[0m\n",
      "\u001b[0;31mTypeError\u001b[0m: 'Column' object is not callable"
     ]
    }
   ],
   "source": [
    "def city_port_code(city):\n",
    "\n",
    "    for port in i94_port:\n",
    "        if city.lower() in i94_port[port].lower():\n",
    "            return port\n",
    "\n",
    "\n",
    "temp_df = temp_df.withColumn('i94_port', city_port_code(temp_df.city))"
   ]
  },
  {
   "cell_type": "code",
   "execution_count": 127,
   "metadata": {
    "editable": true
   },
   "outputs": [
    {
     "name": "stdout",
     "output_type": "stream",
     "text": [
      "+----------+------------------+-------+-------------+----+\n",
      "|      date|          avg_temp|   city|      country|year|\n",
      "+----------+------------------+-------+-------------+----+\n",
      "|1820-01-01|2.1010000000000004|Abilene|United States|1820|\n",
      "|1820-02-01|             6.926|Abilene|United States|1820|\n",
      "|1820-03-01|10.767000000000001|Abilene|United States|1820|\n",
      "|1820-04-01|17.988999999999994|Abilene|United States|1820|\n",
      "|1820-05-01|            21.809|Abilene|United States|1820|\n",
      "|1820-06-01|            25.682|Abilene|United States|1820|\n",
      "|1820-07-01|            26.268|Abilene|United States|1820|\n",
      "|1820-08-01|25.048000000000002|Abilene|United States|1820|\n",
      "|1820-09-01|            22.435|Abilene|United States|1820|\n",
      "|1820-10-01|             15.83|Abilene|United States|1820|\n",
      "|1820-11-01|             9.408|Abilene|United States|1820|\n",
      "|1820-12-01|             3.853|Abilene|United States|1820|\n",
      "|1821-01-01| 5.276000000000002|Abilene|United States|1821|\n",
      "|1821-02-01| 7.587999999999999|Abilene|United States|1821|\n",
      "|1821-03-01|            11.728|Abilene|United States|1821|\n",
      "|1821-04-01|15.460999999999999|Abilene|United States|1821|\n",
      "|1821-05-01|21.488000000000003|Abilene|United States|1821|\n",
      "|1821-06-01|            25.768|Abilene|United States|1821|\n",
      "|1821-07-01|            26.553|Abilene|United States|1821|\n",
      "|1821-08-01|            27.272|Abilene|United States|1821|\n",
      "+----------+------------------+-------+-------------+----+\n",
      "only showing top 20 rows\n",
      "\n"
     ]
    }
   ],
   "source": [
    "temp_df.show()"
   ]
  },
  {
   "cell_type": "code",
   "execution_count": null,
   "metadata": {
    "editable": true
   },
   "outputs": [],
   "source": []
  },
  {
   "cell_type": "code",
   "execution_count": null,
   "metadata": {
    "editable": true
   },
   "outputs": [],
   "source": [
    "# Create udf to map city full name to city port abbreviation\n",
    "\n",
    "@udf(StringType())\n",
    "def city_to_port(city):\n",
    "    for key in valid_ports:\n",
    "        if city.lower() in valid_ports[key].lower():\n",
    "            return key\n",
    "\n",
    "# Clean temperature data\n",
    "\n",
    "# Only use temperatures from United States\n",
    "# Map full name to city port abbreviation\n",
    "# Remove invalid ports\n",
    "cleaned_temp_df = temperature_df.filter(temperature_df[\"Country\"] == \"United States\") \\\n",
    "    .withColumn(\"year\", year(temperature_df['dt'])) \\\n",
    "    .withColumn(\"month\", month(temperature_df[\"dt\"])) \\\n",
    "    .withColumn(\"i94port\", city_to_port(temperature_df[\"City\"])) \\\n",
    "    .withColumn(\"AverageTemperature\", col(\"AverageTemperature\").cast(\"float\")) \\\n",
    "    .dropna(how='any', subset=[\"i94port\"])\n",
    "\n",
    "\n",
    "\n",
    "\n",
    "\n",
    "\n",
    "@udf()\n",
    "def get_i94port(city):\n",
    "    '''\n",
    "    Input: City name \n",
    "    Output: Corresponding i94port\n",
    "    '''\n",
    "    \n",
    "    for key in i94portvalid:\n",
    "        if city.lower() in i94portvalid[key][0].lower():\n",
    "            return key\n",
    "\n",
    "        \n",
    "        \n",
    "        \n",
    "# Add iport94 code based on city name\n",
    "df_temperature_data = df_temperature_data.withColumn(\"i94port\", get_i94port(df_temperature_data.City))\n",
    "df_temperature_data.show()"
   ]
  },
  {
   "cell_type": "code",
   "execution_count": 93,
   "metadata": {
    "editable": true
   },
   "outputs": [],
   "source": []
  },
  {
   "cell_type": "code",
   "execution_count": null,
   "metadata": {
    "editable": true
   },
   "outputs": [],
   "source": []
  },
  {
   "cell_type": "code",
   "execution_count": null,
   "metadata": {
    "editable": true
   },
   "outputs": [],
   "source": []
  },
  {
   "cell_type": "code",
   "execution_count": null,
   "metadata": {
    "editable": true
   },
   "outputs": [],
   "source": []
  },
  {
   "cell_type": "code",
   "execution_count": null,
   "metadata": {
    "editable": true
   },
   "outputs": [],
   "source": []
  },
  {
   "cell_type": "code",
   "execution_count": null,
   "metadata": {
    "editable": true
   },
   "outputs": [],
   "source": []
  },
  {
   "cell_type": "code",
   "execution_count": null,
   "metadata": {
    "editable": true
   },
   "outputs": [],
   "source": []
  },
  {
   "cell_type": "code",
   "execution_count": null,
   "metadata": {
    "editable": true
   },
   "outputs": [],
   "source": []
  },
  {
   "cell_type": "markdown",
   "metadata": {
    "editable": true
   },
   "source": []
  },
  {
   "cell_type": "code",
   "execution_count": null,
   "metadata": {
    "editable": true
   },
   "outputs": [],
   "source": []
  },
  {
   "cell_type": "code",
   "execution_count": null,
   "metadata": {
    "editable": true
   },
   "outputs": [],
   "source": []
  },
  {
   "cell_type": "code",
   "execution_count": null,
   "metadata": {
    "editable": true
   },
   "outputs": [],
   "source": []
  },
  {
   "cell_type": "code",
   "execution_count": null,
   "metadata": {
    "editable": true
   },
   "outputs": [],
   "source": []
  },
  {
   "cell_type": "code",
   "execution_count": null,
   "metadata": {
    "editable": true
   },
   "outputs": [],
   "source": []
  },
  {
   "cell_type": "code",
   "execution_count": null,
   "metadata": {
    "editable": true
   },
   "outputs": [],
   "source": []
  },
  {
   "cell_type": "markdown",
   "metadata": {
    "editable": true
   },
   "source": [
    "### Step 3: Define the Data Model\n",
    "#### 3.1 Conceptual Data Model\n",
    "Map out the conceptual data model and explain why you chose that model\n",
    "\n",
    "#### 3.2 Mapping Out Data Pipelines\n",
    "List the steps necessary to pipeline the data into the chosen data model"
   ]
  },
  {
   "cell_type": "markdown",
   "metadata": {
    "editable": true
   },
   "source": [
    "### Step 4: Run Pipelines to Model the Data \n",
    "#### 4.1 Create the data model\n",
    "Build the data pipelines to create the data model."
   ]
  },
  {
   "cell_type": "code",
   "execution_count": null,
   "metadata": {
    "editable": true
   },
   "outputs": [],
   "source": [
    "# Write code here"
   ]
  },
  {
   "cell_type": "markdown",
   "metadata": {
    "editable": true
   },
   "source": [
    "#### 4.2 Data Quality Checks\n",
    "Explain the data quality checks you'll perform to ensure the pipeline ran as expected. These could include:\n",
    " * Integrity constraints on the relational database (e.g., unique key, data type, etc.)\n",
    " * Unit tests for the scripts to ensure they are doing the right thing\n",
    " * Source/Count checks to ensure completeness\n",
    " \n",
    "Run Quality Checks"
   ]
  },
  {
   "cell_type": "code",
   "execution_count": null,
   "metadata": {
    "editable": true
   },
   "outputs": [],
   "source": [
    "# Perform quality checks here"
   ]
  },
  {
   "cell_type": "markdown",
   "metadata": {
    "editable": true
   },
   "source": [
    "#### 4.3 Data dictionary \n",
    "Create a data dictionary for your data model. For each field, provide a brief description of what the data is and where it came from. You can include the data dictionary in the notebook or in a separate file."
   ]
  },
  {
   "cell_type": "markdown",
   "metadata": {
    "editable": true
   },
   "source": [
    "#### Step 5: Complete Project Write Up\n",
    "* Clearly state the rationale for the choice of tools and technologies for the project.\n",
    "* Propose how often the data should be updated and why.\n",
    "* Write a description of how you would approach the problem differently under the following scenarios:\n",
    " * The data was increased by 100x.\n",
    " * The data populates a dashboard that must be updated on a daily basis by 7am every day.\n",
    " * The database needed to be accessed by 100+ people."
   ]
  },
  {
   "cell_type": "code",
   "execution_count": null,
   "metadata": {
    "editable": true
   },
   "outputs": [],
   "source": []
  },
  {
   "cell_type": "code",
   "execution_count": null,
   "metadata": {
    "editable": true
   },
   "outputs": [],
   "source": []
  },
  {
   "cell_type": "code",
   "execution_count": null,
   "metadata": {
    "editable": true
   },
   "outputs": [],
   "source": []
  },
  {
   "cell_type": "code",
   "execution_count": null,
   "metadata": {
    "editable": true
   },
   "outputs": [],
   "source": []
  },
  {
   "cell_type": "code",
   "execution_count": null,
   "metadata": {
    "editable": true
   },
   "outputs": [],
   "source": []
  },
  {
   "cell_type": "code",
   "execution_count": null,
   "metadata": {
    "editable": true
   },
   "outputs": [],
   "source": []
  }
 ],
 "metadata": {
  "kernelspec": {
   "display_name": "Python 3",
   "language": "python",
   "name": "python3"
  },
  "language_info": {
   "codemirror_mode": {
    "name": "ipython",
    "version": 3
   },
   "file_extension": ".py",
   "mimetype": "text/x-python",
   "name": "python",
   "nbconvert_exporter": "python",
   "pygments_lexer": "ipython3",
   "version": "3.6.3"
  }
 },
 "nbformat": 4,
 "nbformat_minor": 4
}
